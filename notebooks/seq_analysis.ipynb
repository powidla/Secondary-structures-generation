{
  "nbformat": 4,
  "nbformat_minor": 0,
  "metadata": {
    "colab": {
      "provenance": []
    },
    "kernelspec": {
      "name": "python3",
      "display_name": "Python 3"
    },
    "language_info": {
      "name": "python"
    },
    "widgets": {
      "application/vnd.jupyter.widget-state+json": {
        "706becc38c114299b2ba573e01a6d839": {
          "model_module": "@jupyter-widgets/controls",
          "model_name": "HBoxModel",
          "model_module_version": "1.5.0",
          "state": {
            "_dom_classes": [],
            "_model_module": "@jupyter-widgets/controls",
            "_model_module_version": "1.5.0",
            "_model_name": "HBoxModel",
            "_view_count": null,
            "_view_module": "@jupyter-widgets/controls",
            "_view_module_version": "1.5.0",
            "_view_name": "HBoxView",
            "box_style": "",
            "children": [
              "IPY_MODEL_c5a6aaf059fa4bf188870ee2eea60ddc",
              "IPY_MODEL_353606489a8a44dbab7b59792456496e",
              "IPY_MODEL_55033a95dcf34f5dacefbbd02d03d7fb"
            ],
            "layout": "IPY_MODEL_485dddc8f9db471998f03bf6249febe5"
          }
        },
        "c5a6aaf059fa4bf188870ee2eea60ddc": {
          "model_module": "@jupyter-widgets/controls",
          "model_name": "HTMLModel",
          "model_module_version": "1.5.0",
          "state": {
            "_dom_classes": [],
            "_model_module": "@jupyter-widgets/controls",
            "_model_module_version": "1.5.0",
            "_model_name": "HTMLModel",
            "_view_count": null,
            "_view_module": "@jupyter-widgets/controls",
            "_view_module_version": "1.5.0",
            "_view_name": "HTMLView",
            "description": "",
            "description_tooltip": null,
            "layout": "IPY_MODEL_bbdb751c00464f02a9fb054786657543",
            "placeholder": "​",
            "style": "IPY_MODEL_2b8b9d88b2e8477198da9f06ab543814",
            "value": "100%"
          }
        },
        "353606489a8a44dbab7b59792456496e": {
          "model_module": "@jupyter-widgets/controls",
          "model_name": "FloatProgressModel",
          "model_module_version": "1.5.0",
          "state": {
            "_dom_classes": [],
            "_model_module": "@jupyter-widgets/controls",
            "_model_module_version": "1.5.0",
            "_model_name": "FloatProgressModel",
            "_view_count": null,
            "_view_module": "@jupyter-widgets/controls",
            "_view_module_version": "1.5.0",
            "_view_name": "ProgressView",
            "bar_style": "success",
            "description": "",
            "description_tooltip": null,
            "layout": "IPY_MODEL_5523e801fa2b4723bf07fcff0ff55fe5",
            "max": 25,
            "min": 0,
            "orientation": "horizontal",
            "style": "IPY_MODEL_be986ac16e384cc9b26ec9d94bd12fad",
            "value": 25
          }
        },
        "55033a95dcf34f5dacefbbd02d03d7fb": {
          "model_module": "@jupyter-widgets/controls",
          "model_name": "HTMLModel",
          "model_module_version": "1.5.0",
          "state": {
            "_dom_classes": [],
            "_model_module": "@jupyter-widgets/controls",
            "_model_module_version": "1.5.0",
            "_model_name": "HTMLModel",
            "_view_count": null,
            "_view_module": "@jupyter-widgets/controls",
            "_view_module_version": "1.5.0",
            "_view_name": "HTMLView",
            "description": "",
            "description_tooltip": null,
            "layout": "IPY_MODEL_e6faac7d5c78491282a6db596740b847",
            "placeholder": "​",
            "style": "IPY_MODEL_000ed91b07ef4a80a63448bb02591b37",
            "value": " 25/25 [01:23&lt;00:00,  1.70s/it]"
          }
        },
        "485dddc8f9db471998f03bf6249febe5": {
          "model_module": "@jupyter-widgets/base",
          "model_name": "LayoutModel",
          "model_module_version": "1.2.0",
          "state": {
            "_model_module": "@jupyter-widgets/base",
            "_model_module_version": "1.2.0",
            "_model_name": "LayoutModel",
            "_view_count": null,
            "_view_module": "@jupyter-widgets/base",
            "_view_module_version": "1.2.0",
            "_view_name": "LayoutView",
            "align_content": null,
            "align_items": null,
            "align_self": null,
            "border": null,
            "bottom": null,
            "display": null,
            "flex": null,
            "flex_flow": null,
            "grid_area": null,
            "grid_auto_columns": null,
            "grid_auto_flow": null,
            "grid_auto_rows": null,
            "grid_column": null,
            "grid_gap": null,
            "grid_row": null,
            "grid_template_areas": null,
            "grid_template_columns": null,
            "grid_template_rows": null,
            "height": null,
            "justify_content": null,
            "justify_items": null,
            "left": null,
            "margin": null,
            "max_height": null,
            "max_width": null,
            "min_height": null,
            "min_width": null,
            "object_fit": null,
            "object_position": null,
            "order": null,
            "overflow": null,
            "overflow_x": null,
            "overflow_y": null,
            "padding": null,
            "right": null,
            "top": null,
            "visibility": null,
            "width": null
          }
        },
        "bbdb751c00464f02a9fb054786657543": {
          "model_module": "@jupyter-widgets/base",
          "model_name": "LayoutModel",
          "model_module_version": "1.2.0",
          "state": {
            "_model_module": "@jupyter-widgets/base",
            "_model_module_version": "1.2.0",
            "_model_name": "LayoutModel",
            "_view_count": null,
            "_view_module": "@jupyter-widgets/base",
            "_view_module_version": "1.2.0",
            "_view_name": "LayoutView",
            "align_content": null,
            "align_items": null,
            "align_self": null,
            "border": null,
            "bottom": null,
            "display": null,
            "flex": null,
            "flex_flow": null,
            "grid_area": null,
            "grid_auto_columns": null,
            "grid_auto_flow": null,
            "grid_auto_rows": null,
            "grid_column": null,
            "grid_gap": null,
            "grid_row": null,
            "grid_template_areas": null,
            "grid_template_columns": null,
            "grid_template_rows": null,
            "height": null,
            "justify_content": null,
            "justify_items": null,
            "left": null,
            "margin": null,
            "max_height": null,
            "max_width": null,
            "min_height": null,
            "min_width": null,
            "object_fit": null,
            "object_position": null,
            "order": null,
            "overflow": null,
            "overflow_x": null,
            "overflow_y": null,
            "padding": null,
            "right": null,
            "top": null,
            "visibility": null,
            "width": null
          }
        },
        "2b8b9d88b2e8477198da9f06ab543814": {
          "model_module": "@jupyter-widgets/controls",
          "model_name": "DescriptionStyleModel",
          "model_module_version": "1.5.0",
          "state": {
            "_model_module": "@jupyter-widgets/controls",
            "_model_module_version": "1.5.0",
            "_model_name": "DescriptionStyleModel",
            "_view_count": null,
            "_view_module": "@jupyter-widgets/base",
            "_view_module_version": "1.2.0",
            "_view_name": "StyleView",
            "description_width": ""
          }
        },
        "5523e801fa2b4723bf07fcff0ff55fe5": {
          "model_module": "@jupyter-widgets/base",
          "model_name": "LayoutModel",
          "model_module_version": "1.2.0",
          "state": {
            "_model_module": "@jupyter-widgets/base",
            "_model_module_version": "1.2.0",
            "_model_name": "LayoutModel",
            "_view_count": null,
            "_view_module": "@jupyter-widgets/base",
            "_view_module_version": "1.2.0",
            "_view_name": "LayoutView",
            "align_content": null,
            "align_items": null,
            "align_self": null,
            "border": null,
            "bottom": null,
            "display": null,
            "flex": null,
            "flex_flow": null,
            "grid_area": null,
            "grid_auto_columns": null,
            "grid_auto_flow": null,
            "grid_auto_rows": null,
            "grid_column": null,
            "grid_gap": null,
            "grid_row": null,
            "grid_template_areas": null,
            "grid_template_columns": null,
            "grid_template_rows": null,
            "height": null,
            "justify_content": null,
            "justify_items": null,
            "left": null,
            "margin": null,
            "max_height": null,
            "max_width": null,
            "min_height": null,
            "min_width": null,
            "object_fit": null,
            "object_position": null,
            "order": null,
            "overflow": null,
            "overflow_x": null,
            "overflow_y": null,
            "padding": null,
            "right": null,
            "top": null,
            "visibility": null,
            "width": null
          }
        },
        "be986ac16e384cc9b26ec9d94bd12fad": {
          "model_module": "@jupyter-widgets/controls",
          "model_name": "ProgressStyleModel",
          "model_module_version": "1.5.0",
          "state": {
            "_model_module": "@jupyter-widgets/controls",
            "_model_module_version": "1.5.0",
            "_model_name": "ProgressStyleModel",
            "_view_count": null,
            "_view_module": "@jupyter-widgets/base",
            "_view_module_version": "1.2.0",
            "_view_name": "StyleView",
            "bar_color": null,
            "description_width": ""
          }
        },
        "e6faac7d5c78491282a6db596740b847": {
          "model_module": "@jupyter-widgets/base",
          "model_name": "LayoutModel",
          "model_module_version": "1.2.0",
          "state": {
            "_model_module": "@jupyter-widgets/base",
            "_model_module_version": "1.2.0",
            "_model_name": "LayoutModel",
            "_view_count": null,
            "_view_module": "@jupyter-widgets/base",
            "_view_module_version": "1.2.0",
            "_view_name": "LayoutView",
            "align_content": null,
            "align_items": null,
            "align_self": null,
            "border": null,
            "bottom": null,
            "display": null,
            "flex": null,
            "flex_flow": null,
            "grid_area": null,
            "grid_auto_columns": null,
            "grid_auto_flow": null,
            "grid_auto_rows": null,
            "grid_column": null,
            "grid_gap": null,
            "grid_row": null,
            "grid_template_areas": null,
            "grid_template_columns": null,
            "grid_template_rows": null,
            "height": null,
            "justify_content": null,
            "justify_items": null,
            "left": null,
            "margin": null,
            "max_height": null,
            "max_width": null,
            "min_height": null,
            "min_width": null,
            "object_fit": null,
            "object_position": null,
            "order": null,
            "overflow": null,
            "overflow_x": null,
            "overflow_y": null,
            "padding": null,
            "right": null,
            "top": null,
            "visibility": null,
            "width": null
          }
        },
        "000ed91b07ef4a80a63448bb02591b37": {
          "model_module": "@jupyter-widgets/controls",
          "model_name": "DescriptionStyleModel",
          "model_module_version": "1.5.0",
          "state": {
            "_model_module": "@jupyter-widgets/controls",
            "_model_module_version": "1.5.0",
            "_model_name": "DescriptionStyleModel",
            "_view_count": null,
            "_view_module": "@jupyter-widgets/base",
            "_view_module_version": "1.2.0",
            "_view_name": "StyleView",
            "description_width": ""
          }
        }
      }
    }
  },
  "cells": [
    {
      "cell_type": "code",
      "execution_count": null,
      "metadata": {
        "colab": {
          "base_uri": "https://localhost:8080/",
          "height": 386
        },
        "id": "Iqv2TkOrr58r",
        "outputId": "9090f168-efa3-4083-84e5-2630b2c103d7"
      },
      "outputs": [
        {
          "output_type": "display_data",
          "data": {
            "text/plain": [
              "<Figure size 3600x1200 with 3 Axes>"
            ],
            "image/png": "[encoded data removed]"
          },
          "metadata": {}
        }
      ],
      "source": [
        "import matplotlib.pyplot as plt\n",
        "import seaborn as sns\n",
        "import pandas as pd\n",
        "from scipy.spatial import KDTree\n",
        "import editdistance\n",
        "import re\n",
        "from tabulate import tabulate\n",
        "\n",
        "def process_file(file_path):\n",
        "    with open(file_path, 'r') as file:\n",
        "        lines = file.readlines()\n",
        "\n",
        "    data_list = []\n",
        "    current_chr = None\n",
        "\n",
        "    for line in lines:\n",
        "        line = line.strip()\n",
        "        if line.startswith('chr'):\n",
        "            current_chr = line\n",
        "        elif line:\n",
        "            try:\n",
        "                start, end = map(int, line.split())\n",
        "                data_list.append({'Chromosome': current_chr, 'Start': start, 'End': end})\n",
        "            except ValueError:\n",
        "                pass\n",
        "\n",
        "    return data_list\n",
        "\n",
        "# Process each file\n",
        "data_list1 = process_file('/content/text_predictions_for_diff.txt')\n",
        "data_list2 = process_file('/content/text_predictions_vqvae.txt')\n",
        "data_list3 = process_file('/content/text_predictions_wgan.txt')\n",
        "\n",
        "\n",
        "df1 = pd.DataFrame(data_list1)\n",
        "df2 = pd.DataFrame(data_list2)\n",
        "df3 = pd.DataFrame(data_list3)\n",
        "\n",
        "plt.figure(figsize=(36, 12))\n",
        "plt.subplot(131)\n",
        "sns.histplot(data=df1, x='Chromosome', hue='Chromosome', multiple=\"stack\", palette='husl')\n",
        "plt.title('Distribution of predictions in VQ-VAE')\n",
        "plt.xlabel('Chromosome')\n",
        "plt.ylabel('Count')\n",
        "plt.ylim(0, 5000)\n",
        "\n",
        "plt.grid(True)\n",
        "plt.subplot(132)\n",
        "sns.histplot(data=df2, x='Chromosome', hue='Chromosome', multiple=\"stack\", palette='husl')\n",
        "plt.title('Distribution of predictions in DDIM')\n",
        "plt.xlabel('Chromosome')\n",
        "plt.ylabel('Count')\n",
        "plt.ylim(0, 5000)\n",
        "\n",
        "plt.grid(True)\n",
        "plt.subplot(133)\n",
        "sns.histplot(data=df3, x='Chromosome', hue='Chromosome', multiple=\"stack\", palette='husl')\n",
        "plt.title('Distribution of predictions in WGAN')\n",
        "plt.xlabel('Chromosome')\n",
        "plt.ylabel('Count')\n",
        "plt.ylim(0, 5000)\n",
        "\n",
        "plt.tight_layout()\n",
        "plt.grid(True)\n",
        "plt.show()"
      ]
    },
    {
      "cell_type": "code",
      "source": [
        "def process_file(file_path):\n",
        "    with open(file_path, 'r') as file:\n",
        "        lines = file.readlines()\n",
        "\n",
        "    data_list = []\n",
        "    current_chr = None\n",
        "\n",
        "    for line in lines:\n",
        "        line = line.strip()\n",
        "        if line.startswith('chr'):\n",
        "            current_chr = line\n",
        "        elif line:\n",
        "            try:\n",
        "                start, end = map(int, line.split())\n",
        "                data_list.append({'Chromosome': current_chr, 'Start': start, 'End': end})\n",
        "            except ValueError:\n",
        "                pass\n",
        "\n",
        "    return data_list\n",
        "\n",
        "data_list1 = process_file('/content/text_predictions_for_diff.txt')\n",
        "data_list2 = process_file('/content/text_predictions_vqvae.txt')\n",
        "data_list3 = process_file('/content/text_predictions_wgan.txt')\n",
        "\n",
        "\n",
        "df1 = pd.DataFrame(data_list1)\n",
        "df2 = pd.DataFrame(data_list2)\n",
        "df3 = pd.DataFrame(data_list3)\n",
        "\n",
        "plt.figure(figsize=(36, 12))\n",
        "\n",
        "plt.subplot(131)\n",
        "sns.histplot(data=df1, x='Start', hue='Chromosome', multiple=\"stack\", bins=30, palette='husl')\n",
        "plt.title('Distribution of regions in VQ-VAE')\n",
        "plt.xlabel('Start Position')\n",
        "plt.ylabel('Count')\n",
        "\n",
        "plt.grid(True)\n",
        "plt.subplot(132)\n",
        "sns.histplot(data=df2, x='Start', hue='Chromosome', multiple=\"stack\", bins=30, palette='husl')\n",
        "plt.title('Distribution of regions in DDIM')\n",
        "plt.xlabel('Start Position')\n",
        "plt.ylabel('Count')\n",
        "\n",
        "plt.grid(True)\n",
        "plt.subplot(133)\n",
        "sns.histplot(data=df3, x='Start', hue='Chromosome', multiple=\"stack\", bins=30, palette='husl')\n",
        "plt.title('Distribution of regions in WGAN')\n",
        "plt.xlabel('Start Position')\n",
        "plt.ylabel('Count')\n",
        "\n",
        "plt.tight_layout()\n",
        "\n",
        "plt.grid(True)\n",
        "plt.show()"
      ],
      "metadata": {
        "colab": {
          "base_uri": "https://localhost:8080/",
          "height": 386
        },
        "id": "UZ1kh7TtzssR",
        "outputId": "d6344c56-22b9-43a3-8098-ae426a9f61fd"
      },
      "execution_count": null,
      "outputs": [
        {
          "output_type": "display_data",
          "data": {
            "text/plain": [
              "<Figure size 3600x1200 with 3 Axes>"
            ],
            "image/png": "[encoded data removed]"
          },
          "metadata": {}
        }
      ]
    },
    {
      "cell_type": "code",
      "source": [
        "!pip install weblogo"
      ],
      "metadata": {
        "colab": {
          "base_uri": "https://localhost:8080/"
        },
        "id": "CflJCd5zwghH",
        "outputId": "9a25f227-f56b-4481-c4ca-d437c1fe9600"
      },
      "execution_count": null,
      "outputs": [
        {
          "output_type": "stream",
          "name": "stdout",
          "text": [
            "Collecting weblogo\n",
            "  Downloading weblogo-3.7.12-py3-none-any.whl (571 kB)\n",
            "\u001b[2K     \u001b[90m━━━━━━━━━━━━━━━━━━━━━━━━━━━━━━━━━━━━━━━━\u001b[0m \u001b[32m571.7/571.7 kB\u001b[0m \u001b[31m4.9 MB/s\u001b[0m eta \u001b[36m0:00:00\u001b[0m\n",
            "\u001b[?25hRequirement already satisfied: numpy in /usr/local/lib/python3.10/dist-packages (from weblogo) (1.23.5)\n",
            "Requirement already satisfied: scipy in /usr/local/lib/python3.10/dist-packages (from weblogo) (1.11.4)\n",
            "Requirement already satisfied: setuptools in /usr/local/lib/python3.10/dist-packages (from weblogo) (67.7.2)\n",
            "Installing collected packages: weblogo\n",
            "Successfully installed weblogo-3.7.12\n"
          ]
        }
      ]
    },
    {
      "cell_type": "code",
      "source": [
        "from weblogo import *\n",
        "\n",
        "fin = open('/content/diff_generated_sequences (2).fasta')\n",
        "seqs = read_seq_data(fin)\n",
        "logodata = LogoData.from_seqs(seqs)\n",
        "logooptions = LogoOptions()\n",
        "logooptions.title = \"A Logo Title\"\n",
        "logoformat = LogoFormat(logodata, logooptions)\n",
        "eps = eps_formatter(logodata, logoformat)"
      ],
      "metadata": {
        "id": "1HED6MsVwiCD"
      },
      "execution_count": null,
      "outputs": []
    },
    {
      "cell_type": "code",
      "source": [
        "bedWK_df = pd.read_csv('/content/drive/My Drive/DeepZ_data_creation/data/hg19_zdna/raw/WuKou16_filter_norm_to_512.bed', sep='\\t', comment='t', header=None)\n",
        "bed16_df = pd.read_csv('/content/drive/My Drive/DeepZ_data_creation/data/hg19_zdna/raw/zdna2016_filter_norm_to_512.bed', sep='\\t', comment='t', header=None)\n",
        "bedG_df = pd.read_csv('/content/drive/My Drive/data_for_gans/G4_Chip_seq_filter_norm_to_500.bed', sep='\\t', comment='t', header=None)"
      ],
      "metadata": {
        "id": "Gp3ihjvvyWkt"
      },
      "execution_count": null,
      "outputs": []
    },
    {
      "cell_type": "code",
      "source": [
        "un_bed_dataset = pd.concat([bedWK_df, bed16_df]).reset_index(drop=True)\n",
        "un_bed_dataset = pd.concat([un_bed_dataset, bedG_df]).reset_index(drop=True)"
      ],
      "metadata": {
        "id": "8yuGB2mzRsrB"
      },
      "execution_count": null,
      "outputs": []
    },
    {
      "cell_type": "code",
      "source": [
        "un_bed_dataset.columns = ['chrom', 'chromStart', 'chromEnd']"
      ],
      "metadata": {
        "id": "ggtcqwZMRvvF"
      },
      "execution_count": null,
      "outputs": []
    },
    {
      "cell_type": "code",
      "source": [
        "un_bed_dataset"
      ],
      "metadata": {
        "colab": {
          "base_uri": "https://localhost:8080/",
          "height": 423
        },
        "id": "HLDkc0QbRxql",
        "outputId": "a2b71616-07b6-4dac-ee09-0f5f348ea627"
      },
      "execution_count": null,
      "outputs": [
        {
          "output_type": "execute_result",
          "data": {
            "text/plain": [
              "      chrom  chromStart   chromEnd\n",
              "0      chr1      845296     845808\n",
              "1      chr1      845379     845891\n",
              "2      chr1      845802     846314\n",
              "3      chr1      845896     846408\n",
              "4      chr1      848188     848700\n",
              "...     ...         ...        ...\n",
              "53379  chrX   154255151  154255663\n",
              "53380  chrX   154299323  154299835\n",
              "53381  chrY    10033277   10033789\n",
              "53382  chrY    10037570   10038082\n",
              "53383  chrY    13488619   13489131\n",
              "\n",
              "[53384 rows x 3 columns]"
            ],
            "text/html": [
              "\n",
              "  <div id=\"df-94f70760-e438-4120-9980-1f5c1c180849\" class=\"colab-df-container\">\n",
              "    <div>\n",
              "<style scoped>\n",
              "    .dataframe tbody tr th:only-of-type {\n",
              "        vertical-align: middle;\n",
              "    }\n",
              "\n",
              "    .dataframe tbody tr th {\n",
              "        vertical-align: top;\n",
              "    }\n",
              "\n",
              "    .dataframe thead th {\n",
              "        text-align: right;\n",
              "    }\n",
              "</style>\n",
              "<table border=\"1\" class=\"dataframe\">\n",
              "  <thead>\n",
              "    <tr style=\"text-align: right;\">\n",
              "      <th></th>\n",
              "      <th>chrom</th>\n",
              "      <th>chromStart</th>\n",
              "      <th>chromEnd</th>\n",
              "    </tr>\n",
              "  </thead>\n",
              "  <tbody>\n",
              "    <tr>\n",
              "      <th>0</th>\n",
              "      <td>chr1</td>\n",
              "      <td>845296</td>\n",
              "      <td>845808</td>\n",
              "    </tr>\n",
              "    <tr>\n",
              "      <th>1</th>\n",
              "      <td>chr1</td>\n",
              "      <td>845379</td>\n",
              "      <td>845891</td>\n",
              "    </tr>\n",
              "    <tr>\n",
              "      <th>2</th>\n",
              "      <td>chr1</td>\n",
              "      <td>845802</td>\n",
              "      <td>846314</td>\n",
              "    </tr>\n",
              "    <tr>\n",
              "      <th>3</th>\n",
              "      <td>chr1</td>\n",
              "      <td>845896</td>\n",
              "      <td>846408</td>\n",
              "    </tr>\n",
              "    <tr>\n",
              "      <th>4</th>\n",
              "      <td>chr1</td>\n",
              "      <td>848188</td>\n",
              "      <td>848700</td>\n",
              "    </tr>\n",
              "    <tr>\n",
              "      <th>...</th>\n",
              "      <td>...</td>\n",
              "      <td>...</td>\n",
              "      <td>...</td>\n",
              "    </tr>\n",
              "    <tr>\n",
              "      <th>53379</th>\n",
              "      <td>chrX</td>\n",
              "      <td>154255151</td>\n",
              "      <td>154255663</td>\n",
              "    </tr>\n",
              "    <tr>\n",
              "      <th>53380</th>\n",
              "      <td>chrX</td>\n",
              "      <td>154299323</td>\n",
              "      <td>154299835</td>\n",
              "    </tr>\n",
              "    <tr>\n",
              "      <th>53381</th>\n",
              "      <td>chrY</td>\n",
              "      <td>10033277</td>\n",
              "      <td>10033789</td>\n",
              "    </tr>\n",
              "    <tr>\n",
              "      <th>53382</th>\n",
              "      <td>chrY</td>\n",
              "      <td>10037570</td>\n",
              "      <td>10038082</td>\n",
              "    </tr>\n",
              "    <tr>\n",
              "      <th>53383</th>\n",
              "      <td>chrY</td>\n",
              "      <td>13488619</td>\n",
              "      <td>13489131</td>\n",
              "    </tr>\n",
              "  </tbody>\n",
              "</table>\n",
              "<p>53384 rows × 3 columns</p>\n",
              "</div>\n",
              "    <div class=\"colab-df-buttons\">\n",
              "\n",
              "  <div class=\"colab-df-container\">\n",
              "    <button class=\"colab-df-convert\" onclick=\"convertToInteractive('df-94f70760-e438-4120-9980-1f5c1c180849')\"\n",
              "            title=\"Convert this dataframe to an interactive table.\"\n",
              "            style=\"display:none;\">\n",
              "\n",
              "  <svg xmlns=\"http://www.w3.org/2000/svg\" height=\"24px\" viewBox=\"0 -960 960 960\">\n",
              "    <path d=\"M120-120v-720h720v720H120Zm60-500h600v-160H180v160Zm220 220h160v-160H400v160Zm0 220h160v-160H400v160ZM180-400h160v-160H180v160Zm440 0h160v-160H620v160ZM180-180h160v-160H180v160Zm440 0h160v-160H620v160Z\"/>\n",
              "  </svg>\n",
              "    </button>\n",
              "\n",
              "  <style>\n",
              "    .colab-df-container {\n",
              "      display:flex;\n",
              "      gap: 12px;\n",
              "    }\n",
              "\n",
              "    .colab-df-convert {\n",
              "      background-color: #E8F0FE;\n",
              "      border: none;\n",
              "      border-radius: 50%;\n",
              "      cursor: pointer;\n",
              "      display: none;\n",
              "      fill: #1967D2;\n",
              "      height: 32px;\n",
              "      padding: 0 0 0 0;\n",
              "      width: 32px;\n",
              "    }\n",
              "\n",
              "    .colab-df-convert:hover {\n",
              "      background-color: #E2EBFA;\n",
              "      box-shadow: 0px 1px 2px rgba(60, 64, 67, 0.3), 0px 1px 3px 1px rgba(60, 64, 67, 0.15);\n",
              "      fill: #174EA6;\n",
              "    }\n",
              "\n",
              "    .colab-df-buttons div {\n",
              "      margin-bottom: 4px;\n",
              "    }\n",
              "\n",
              "    [theme=dark] .colab-df-convert {\n",
              "      background-color: #3B4455;\n",
              "      fill: #D2E3FC;\n",
              "    }\n",
              "\n",
              "    [theme=dark] .colab-df-convert:hover {\n",
              "      background-color: #434B5C;\n",
              "      box-shadow: 0px 1px 3px 1px rgba(0, 0, 0, 0.15);\n",
              "      filter: drop-shadow(0px 1px 2px rgba(0, 0, 0, 0.3));\n",
              "      fill: #FFFFFF;\n",
              "    }\n",
              "  </style>\n",
              "\n",
              "    <script>\n",
              "      const buttonEl =\n",
              "        document.querySelector('#df-94f70760-e438-4120-9980-1f5c1c180849 button.colab-df-convert');\n",
              "      buttonEl.style.display =\n",
              "        google.colab.kernel.accessAllowed ? 'block' : 'none';\n",
              "\n",
              "      async function convertToInteractive(key) {\n",
              "        const element = document.querySelector('#df-94f70760-e438-4120-9980-1f5c1c180849');\n",
              "        const dataTable =\n",
              "          await google.colab.kernel.invokeFunction('convertToInteractive',\n",
              "                                                    [key], {});\n",
              "        if (!dataTable) return;\n",
              "\n",
              "        const docLinkHtml = 'Like what you see? Visit the ' +\n",
              "          '<a target=\"_blank\" href=https://colab.research.google.com/notebooks/data_table.ipynb>data table notebook</a>'\n",
              "          + ' to learn more about interactive tables.';\n",
              "        element.innerHTML = '';\n",
              "        dataTable['output_type'] = 'display_data';\n",
              "        await google.colab.output.renderOutput(dataTable, element);\n",
              "        const docLink = document.createElement('div');\n",
              "        docLink.innerHTML = docLinkHtml;\n",
              "        element.appendChild(docLink);\n",
              "      }\n",
              "    </script>\n",
              "  </div>\n",
              "\n",
              "\n",
              "<div id=\"df-c65be80b-ae45-4c73-ac12-744b4f6a719a\">\n",
              "  <button class=\"colab-df-quickchart\" onclick=\"quickchart('df-c65be80b-ae45-4c73-ac12-744b4f6a719a')\"\n",
              "            title=\"Suggest charts\"\n",
              "            style=\"display:none;\">\n",
              "\n",
              "<svg xmlns=\"http://www.w3.org/2000/svg\" height=\"24px\"viewBox=\"0 0 24 24\"\n",
              "     width=\"24px\">\n",
              "    <g>\n",
              "        <path d=\"M19 3H5c-1.1 0-2 .9-2 2v14c0 1.1.9 2 2 2h14c1.1 0 2-.9 2-2V5c0-1.1-.9-2-2-2zM9 17H7v-7h2v7zm4 0h-2V7h2v10zm4 0h-2v-4h2v4z\"/>\n",
              "    </g>\n",
              "</svg>\n",
              "  </button>\n",
              "\n",
              "<style>\n",
              "  .colab-df-quickchart {\n",
              "      --bg-color: #E8F0FE;\n",
              "      --fill-color: #1967D2;\n",
              "      --hover-bg-color: #E2EBFA;\n",
              "      --hover-fill-color: #174EA6;\n",
              "      --disabled-fill-color: #AAA;\n",
              "      --disabled-bg-color: #DDD;\n",
              "  }\n",
              "\n",
              "  [theme=dark] .colab-df-quickchart {\n",
              "      --bg-color: #3B4455;\n",
              "      --fill-color: #D2E3FC;\n",
              "      --hover-bg-color: #434B5C;\n",
              "      --hover-fill-color: #FFFFFF;\n",
              "      --disabled-bg-color: #3B4455;\n",
              "      --disabled-fill-color: #666;\n",
              "  }\n",
              "\n",
              "  .colab-df-quickchart {\n",
              "    background-color: var(--bg-color);\n",
              "    border: none;\n",
              "    border-radius: 50%;\n",
              "    cursor: pointer;\n",
              "    display: none;\n",
              "    fill: var(--fill-color);\n",
              "    height: 32px;\n",
              "    padding: 0;\n",
              "    width: 32px;\n",
              "  }\n",
              "\n",
              "  .colab-df-quickchart:hover {\n",
              "    background-color: var(--hover-bg-color);\n",
              "    box-shadow: 0 1px 2px rgba(60, 64, 67, 0.3), 0 1px 3px 1px rgba(60, 64, 67, 0.15);\n",
              "    fill: var(--button-hover-fill-color);\n",
              "  }\n",
              "\n",
              "  .colab-df-quickchart-complete:disabled,\n",
              "  .colab-df-quickchart-complete:disabled:hover {\n",
              "    background-color: var(--disabled-bg-color);\n",
              "    fill: var(--disabled-fill-color);\n",
              "    box-shadow: none;\n",
              "  }\n",
              "\n",
              "  .colab-df-spinner {\n",
              "    border: 2px solid var(--fill-color);\n",
              "    border-color: transparent;\n",
              "    border-bottom-color: var(--fill-color);\n",
              "    animation:\n",
              "      spin 1s steps(1) infinite;\n",
              "  }\n",
              "\n",
              "  @keyframes spin {\n",
              "    0% {\n",
              "      border-color: transparent;\n",
              "      border-bottom-color: var(--fill-color);\n",
              "      border-left-color: var(--fill-color);\n",
              "    }\n",
              "    20% {\n",
              "      border-color: transparent;\n",
              "      border-left-color: var(--fill-color);\n",
              "      border-top-color: var(--fill-color);\n",
              "    }\n",
              "    30% {\n",
              "      border-color: transparent;\n",
              "      border-left-color: var(--fill-color);\n",
              "      border-top-color: var(--fill-color);\n",
              "      border-right-color: var(--fill-color);\n",
              "    }\n",
              "    40% {\n",
              "      border-color: transparent;\n",
              "      border-right-color: var(--fill-color);\n",
              "      border-top-color: var(--fill-color);\n",
              "    }\n",
              "    60% {\n",
              "      border-color: transparent;\n",
              "      border-right-color: var(--fill-color);\n",
              "    }\n",
              "    80% {\n",
              "      border-color: transparent;\n",
              "      border-right-color: var(--fill-color);\n",
              "      border-bottom-color: var(--fill-color);\n",
              "    }\n",
              "    90% {\n",
              "      border-color: transparent;\n",
              "      border-bottom-color: var(--fill-color);\n",
              "    }\n",
              "  }\n",
              "</style>\n",
              "\n",
              "  <script>\n",
              "    async function quickchart(key) {\n",
              "      const quickchartButtonEl =\n",
              "        document.querySelector('#' + key + ' button');\n",
              "      quickchartButtonEl.disabled = true;  // To prevent multiple clicks.\n",
              "      quickchartButtonEl.classList.add('colab-df-spinner');\n",
              "      try {\n",
              "        const charts = await google.colab.kernel.invokeFunction(\n",
              "            'suggestCharts', [key], {});\n",
              "      } catch (error) {\n",
              "        console.error('Error during call to suggestCharts:', error);\n",
              "      }\n",
              "      quickchartButtonEl.classList.remove('colab-df-spinner');\n",
              "      quickchartButtonEl.classList.add('colab-df-quickchart-complete');\n",
              "    }\n",
              "    (() => {\n",
              "      let quickchartButtonEl =\n",
              "        document.querySelector('#df-c65be80b-ae45-4c73-ac12-744b4f6a719a button');\n",
              "      quickchartButtonEl.style.display =\n",
              "        google.colab.kernel.accessAllowed ? 'block' : 'none';\n",
              "    })();\n",
              "  </script>\n",
              "</div>\n",
              "    </div>\n",
              "  </div>\n"
            ]
          },
          "metadata": {},
          "execution_count": 6
        }
      ]
    },
    {
      "cell_type": "code",
      "source": [
        "df3"
      ],
      "metadata": {
        "colab": {
          "base_uri": "https://localhost:8080/",
          "height": 423
        },
        "id": "PeBVWULTUe6t",
        "outputId": "0edc1eef-e0c1-443d-dbbf-e1a1e1bbf401"
      },
      "execution_count": null,
      "outputs": [
        {
          "output_type": "execute_result",
          "data": {
            "text/plain": [
              "      Chromosome  Start  End\n",
              "0           chr1     73   86\n",
              "1           chr1     82   94\n",
              "2           chr1     38   55\n",
              "3           chr1     50   64\n",
              "4           chr1     42   61\n",
              "...          ...    ...  ...\n",
              "10633       chrX      7   26\n",
              "10634       chrX      0   14\n",
              "10635       chrX     73   92\n",
              "10636       chrX      2   12\n",
              "10637       chrX     38   53\n",
              "\n",
              "[10638 rows x 3 columns]"
            ],
            "text/html": [
              "\n",
              "  <div id=\"df-04d79153-4fc3-414a-8db1-dd533afc5bd4\" class=\"colab-df-container\">\n",
              "    <div>\n",
              "<style scoped>\n",
              "    .dataframe tbody tr th:only-of-type {\n",
              "        vertical-align: middle;\n",
              "    }\n",
              "\n",
              "    .dataframe tbody tr th {\n",
              "        vertical-align: top;\n",
              "    }\n",
              "\n",
              "    .dataframe thead th {\n",
              "        text-align: right;\n",
              "    }\n",
              "</style>\n",
              "<table border=\"1\" class=\"dataframe\">\n",
              "  <thead>\n",
              "    <tr style=\"text-align: right;\">\n",
              "      <th></th>\n",
              "      <th>Chromosome</th>\n",
              "      <th>Start</th>\n",
              "      <th>End</th>\n",
              "    </tr>\n",
              "  </thead>\n",
              "  <tbody>\n",
              "    <tr>\n",
              "      <th>0</th>\n",
              "      <td>chr1</td>\n",
              "      <td>73</td>\n",
              "      <td>86</td>\n",
              "    </tr>\n",
              "    <tr>\n",
              "      <th>1</th>\n",
              "      <td>chr1</td>\n",
              "      <td>82</td>\n",
              "      <td>94</td>\n",
              "    </tr>\n",
              "    <tr>\n",
              "      <th>2</th>\n",
              "      <td>chr1</td>\n",
              "      <td>38</td>\n",
              "      <td>55</td>\n",
              "    </tr>\n",
              "    <tr>\n",
              "      <th>3</th>\n",
              "      <td>chr1</td>\n",
              "      <td>50</td>\n",
              "      <td>64</td>\n",
              "    </tr>\n",
              "    <tr>\n",
              "      <th>4</th>\n",
              "      <td>chr1</td>\n",
              "      <td>42</td>\n",
              "      <td>61</td>\n",
              "    </tr>\n",
              "    <tr>\n",
              "      <th>...</th>\n",
              "      <td>...</td>\n",
              "      <td>...</td>\n",
              "      <td>...</td>\n",
              "    </tr>\n",
              "    <tr>\n",
              "      <th>10633</th>\n",
              "      <td>chrX</td>\n",
              "      <td>7</td>\n",
              "      <td>26</td>\n",
              "    </tr>\n",
              "    <tr>\n",
              "      <th>10634</th>\n",
              "      <td>chrX</td>\n",
              "      <td>0</td>\n",
              "      <td>14</td>\n",
              "    </tr>\n",
              "    <tr>\n",
              "      <th>10635</th>\n",
              "      <td>chrX</td>\n",
              "      <td>73</td>\n",
              "      <td>92</td>\n",
              "    </tr>\n",
              "    <tr>\n",
              "      <th>10636</th>\n",
              "      <td>chrX</td>\n",
              "      <td>2</td>\n",
              "      <td>12</td>\n",
              "    </tr>\n",
              "    <tr>\n",
              "      <th>10637</th>\n",
              "      <td>chrX</td>\n",
              "      <td>38</td>\n",
              "      <td>53</td>\n",
              "    </tr>\n",
              "  </tbody>\n",
              "</table>\n",
              "<p>10638 rows × 3 columns</p>\n",
              "</div>\n",
              "    <div class=\"colab-df-buttons\">\n",
              "\n",
              "  <div class=\"colab-df-container\">\n",
              "    <button class=\"colab-df-convert\" onclick=\"convertToInteractive('df-04d79153-4fc3-414a-8db1-dd533afc5bd4')\"\n",
              "            title=\"Convert this dataframe to an interactive table.\"\n",
              "            style=\"display:none;\">\n",
              "\n",
              "  <svg xmlns=\"http://www.w3.org/2000/svg\" height=\"24px\" viewBox=\"0 -960 960 960\">\n",
              "    <path d=\"M120-120v-720h720v720H120Zm60-500h600v-160H180v160Zm220 220h160v-160H400v160Zm0 220h160v-160H400v160ZM180-400h160v-160H180v160Zm440 0h160v-160H620v160ZM180-180h160v-160H180v160Zm440 0h160v-160H620v160Z\"/>\n",
              "  </svg>\n",
              "    </button>\n",
              "\n",
              "  <style>\n",
              "    .colab-df-container {\n",
              "      display:flex;\n",
              "      gap: 12px;\n",
              "    }\n",
              "\n",
              "    .colab-df-convert {\n",
              "      background-color: #E8F0FE;\n",
              "      border: none;\n",
              "      border-radius: 50%;\n",
              "      cursor: pointer;\n",
              "      display: none;\n",
              "      fill: #1967D2;\n",
              "      height: 32px;\n",
              "      padding: 0 0 0 0;\n",
              "      width: 32px;\n",
              "    }\n",
              "\n",
              "    .colab-df-convert:hover {\n",
              "      background-color: #E2EBFA;\n",
              "      box-shadow: 0px 1px 2px rgba(60, 64, 67, 0.3), 0px 1px 3px 1px rgba(60, 64, 67, 0.15);\n",
              "      fill: #174EA6;\n",
              "    }\n",
              "\n",
              "    .colab-df-buttons div {\n",
              "      margin-bottom: 4px;\n",
              "    }\n",
              "\n",
              "    [theme=dark] .colab-df-convert {\n",
              "      background-color: #3B4455;\n",
              "      fill: #D2E3FC;\n",
              "    }\n",
              "\n",
              "    [theme=dark] .colab-df-convert:hover {\n",
              "      background-color: #434B5C;\n",
              "      box-shadow: 0px 1px 3px 1px rgba(0, 0, 0, 0.15);\n",
              "      filter: drop-shadow(0px 1px 2px rgba(0, 0, 0, 0.3));\n",
              "      fill: #FFFFFF;\n",
              "    }\n",
              "  </style>\n",
              "\n",
              "    <script>\n",
              "      const buttonEl =\n",
              "        document.querySelector('#df-04d79153-4fc3-414a-8db1-dd533afc5bd4 button.colab-df-convert');\n",
              "      buttonEl.style.display =\n",
              "        google.colab.kernel.accessAllowed ? 'block' : 'none';\n",
              "\n",
              "      async function convertToInteractive(key) {\n",
              "        const element = document.querySelector('#df-04d79153-4fc3-414a-8db1-dd533afc5bd4');\n",
              "        const dataTable =\n",
              "          await google.colab.kernel.invokeFunction('convertToInteractive',\n",
              "                                                    [key], {});\n",
              "        if (!dataTable) return;\n",
              "\n",
              "        const docLinkHtml = 'Like what you see? Visit the ' +\n",
              "          '<a target=\"_blank\" href=https://colab.research.google.com/notebooks/data_table.ipynb>data table notebook</a>'\n",
              "          + ' to learn more about interactive tables.';\n",
              "        element.innerHTML = '';\n",
              "        dataTable['output_type'] = 'display_data';\n",
              "        await google.colab.output.renderOutput(dataTable, element);\n",
              "        const docLink = document.createElement('div');\n",
              "        docLink.innerHTML = docLinkHtml;\n",
              "        element.appendChild(docLink);\n",
              "      }\n",
              "    </script>\n",
              "  </div>\n",
              "\n",
              "\n",
              "<div id=\"df-d858abe8-f2ee-4268-96b0-bcd9c80d4b74\">\n",
              "  <button class=\"colab-df-quickchart\" onclick=\"quickchart('df-d858abe8-f2ee-4268-96b0-bcd9c80d4b74')\"\n",
              "            title=\"Suggest charts\"\n",
              "            style=\"display:none;\">\n",
              "\n",
              "<svg xmlns=\"http://www.w3.org/2000/svg\" height=\"24px\"viewBox=\"0 0 24 24\"\n",
              "     width=\"24px\">\n",
              "    <g>\n",
              "        <path d=\"M19 3H5c-1.1 0-2 .9-2 2v14c0 1.1.9 2 2 2h14c1.1 0 2-.9 2-2V5c0-1.1-.9-2-2-2zM9 17H7v-7h2v7zm4 0h-2V7h2v10zm4 0h-2v-4h2v4z\"/>\n",
              "    </g>\n",
              "</svg>\n",
              "  </button>\n",
              "\n",
              "<style>\n",
              "  .colab-df-quickchart {\n",
              "      --bg-color: #E8F0FE;\n",
              "      --fill-color: #1967D2;\n",
              "      --hover-bg-color: #E2EBFA;\n",
              "      --hover-fill-color: #174EA6;\n",
              "      --disabled-fill-color: #AAA;\n",
              "      --disabled-bg-color: #DDD;\n",
              "  }\n",
              "\n",
              "  [theme=dark] .colab-df-quickchart {\n",
              "      --bg-color: #3B4455;\n",
              "      --fill-color: #D2E3FC;\n",
              "      --hover-bg-color: #434B5C;\n",
              "      --hover-fill-color: #FFFFFF;\n",
              "      --disabled-bg-color: #3B4455;\n",
              "      --disabled-fill-color: #666;\n",
              "  }\n",
              "\n",
              "  .colab-df-quickchart {\n",
              "    background-color: var(--bg-color);\n",
              "    border: none;\n",
              "    border-radius: 50%;\n",
              "    cursor: pointer;\n",
              "    display: none;\n",
              "    fill: var(--fill-color);\n",
              "    height: 32px;\n",
              "    padding: 0;\n",
              "    width: 32px;\n",
              "  }\n",
              "\n",
              "  .colab-df-quickchart:hover {\n",
              "    background-color: var(--hover-bg-color);\n",
              "    box-shadow: 0 1px 2px rgba(60, 64, 67, 0.3), 0 1px 3px 1px rgba(60, 64, 67, 0.15);\n",
              "    fill: var(--button-hover-fill-color);\n",
              "  }\n",
              "\n",
              "  .colab-df-quickchart-complete:disabled,\n",
              "  .colab-df-quickchart-complete:disabled:hover {\n",
              "    background-color: var(--disabled-bg-color);\n",
              "    fill: var(--disabled-fill-color);\n",
              "    box-shadow: none;\n",
              "  }\n",
              "\n",
              "  .colab-df-spinner {\n",
              "    border: 2px solid var(--fill-color);\n",
              "    border-color: transparent;\n",
              "    border-bottom-color: var(--fill-color);\n",
              "    animation:\n",
              "      spin 1s steps(1) infinite;\n",
              "  }\n",
              "\n",
              "  @keyframes spin {\n",
              "    0% {\n",
              "      border-color: transparent;\n",
              "      border-bottom-color: var(--fill-color);\n",
              "      border-left-color: var(--fill-color);\n",
              "    }\n",
              "    20% {\n",
              "      border-color: transparent;\n",
              "      border-left-color: var(--fill-color);\n",
              "      border-top-color: var(--fill-color);\n",
              "    }\n",
              "    30% {\n",
              "      border-color: transparent;\n",
              "      border-left-color: var(--fill-color);\n",
              "      border-top-color: var(--fill-color);\n",
              "      border-right-color: var(--fill-color);\n",
              "    }\n",
              "    40% {\n",
              "      border-color: transparent;\n",
              "      border-right-color: var(--fill-color);\n",
              "      border-top-color: var(--fill-color);\n",
              "    }\n",
              "    60% {\n",
              "      border-color: transparent;\n",
              "      border-right-color: var(--fill-color);\n",
              "    }\n",
              "    80% {\n",
              "      border-color: transparent;\n",
              "      border-right-color: var(--fill-color);\n",
              "      border-bottom-color: var(--fill-color);\n",
              "    }\n",
              "    90% {\n",
              "      border-color: transparent;\n",
              "      border-bottom-color: var(--fill-color);\n",
              "    }\n",
              "  }\n",
              "</style>\n",
              "\n",
              "  <script>\n",
              "    async function quickchart(key) {\n",
              "      const quickchartButtonEl =\n",
              "        document.querySelector('#' + key + ' button');\n",
              "      quickchartButtonEl.disabled = true;  // To prevent multiple clicks.\n",
              "      quickchartButtonEl.classList.add('colab-df-spinner');\n",
              "      try {\n",
              "        const charts = await google.colab.kernel.invokeFunction(\n",
              "            'suggestCharts', [key], {});\n",
              "      } catch (error) {\n",
              "        console.error('Error during call to suggestCharts:', error);\n",
              "      }\n",
              "      quickchartButtonEl.classList.remove('colab-df-spinner');\n",
              "      quickchartButtonEl.classList.add('colab-df-quickchart-complete');\n",
              "    }\n",
              "    (() => {\n",
              "      let quickchartButtonEl =\n",
              "        document.querySelector('#df-d858abe8-f2ee-4268-96b0-bcd9c80d4b74 button');\n",
              "      quickchartButtonEl.style.display =\n",
              "        google.colab.kernel.accessAllowed ? 'block' : 'none';\n",
              "    })();\n",
              "  </script>\n",
              "</div>\n",
              "    </div>\n",
              "  </div>\n"
            ]
          },
          "metadata": {},
          "execution_count": 7
        }
      ]
    },
    {
      "cell_type": "code",
      "source": [
        "def process_file(file_path):\n",
        "    with open(file_path, 'r') as file:\n",
        "        lines = file.readlines()\n",
        "\n",
        "    data_list = []\n",
        "    current_chr = None\n",
        "\n",
        "    for line in lines:\n",
        "        line = line.strip()\n",
        "        if line.startswith('chr'):\n",
        "            current_chr = line\n",
        "        elif line:\n",
        "            try:\n",
        "                start, end = map(int, line.split())\n",
        "                data_list.append({'Chromosome': current_chr, 'Start': start, 'End': end})\n",
        "            except ValueError:\n",
        "                pass\n",
        "\n",
        "    return data_list\n",
        "\n",
        "data_list1 = process_file('/content/text_predictions_for_diff.txt')\n",
        "data_list2 = process_file('/content/text_predictions_vqvae.txt')\n",
        "data_list3 = process_file('/content/text_predictions_wgan.txt')\n",
        "\n",
        "\n",
        "df1 = pd.DataFrame(data_list1)\n",
        "df2 = pd.DataFrame(data_list2)\n",
        "df3 = pd.DataFrame(data_list3)"
      ],
      "metadata": {
        "id": "J5zL4pp2UfWb"
      },
      "execution_count": null,
      "outputs": []
    },
    {
      "cell_type": "code",
      "source": [
        "new_data = []\n",
        "\n",
        "for index, row in df1.iterrows():\n",
        "    chrom = row['Chromosome']\n",
        "    start_offset = row['Start']\n",
        "    end_offset = row['End']\n",
        "\n",
        "    chrom_start = un_bed_dataset.loc[un_bed_dataset['chrom'] == chrom, 'chromStart'].values[0]\n",
        "    chrom_end = un_bed_dataset.loc[un_bed_dataset['chrom'] == chrom, 'chromEnd'].values[0]\n",
        "\n",
        "    new_start = chrom_start + start_offset\n",
        "    new_end = chrom_start + end_offset\n",
        "\n",
        "    new_data.append({'chrom': chrom, 'new_chromStart': new_start, 'new_chromEnd': new_end})\n",
        "\n",
        "new_df = pd.DataFrame(new_data)\n",
        "\n",
        "# Save the new DataFrame to a file\n",
        "new_df.to_csv('new_bed_diff.csv', index=False)"
      ],
      "metadata": {
        "id": "8q78RIooX1Yi"
      },
      "execution_count": null,
      "outputs": []
    },
    {
      "cell_type": "code",
      "source": [
        "new_df"
      ],
      "metadata": {
        "colab": {
          "base_uri": "https://localhost:8080/",
          "height": 423
        },
        "id": "jZkHHjcpZWgT",
        "outputId": "1c910feb-ab28-48b5-955b-7cac4dbfbc78"
      },
      "execution_count": null,
      "outputs": [
        {
          "output_type": "execute_result",
          "data": {
            "text/plain": [
              "      chrom  new_chromStart  new_chromEnd\n",
              "0      chr1          845352        845365\n",
              "1      chr1          845296        845308\n",
              "2      chr1          845377        845390\n",
              "3      chr1          845296        845311\n",
              "4      chr1          845358        845369\n",
              "...     ...             ...           ...\n",
              "18246  chrX         2746572       2746593\n",
              "18247  chrX         2746546       2746560\n",
              "18248  chrX         2746536       2746550\n",
              "18249  chrY         3452219       3452238\n",
              "18250  chr1          845357        845390\n",
              "\n",
              "[18251 rows x 3 columns]"
            ],
            "text/html": [
              "\n",
              "  <div id=\"df-d400bbf4-fa99-461d-9ad2-6da3d186b413\" class=\"colab-df-container\">\n",
              "    <div>\n",
              "<style scoped>\n",
              "    .dataframe tbody tr th:only-of-type {\n",
              "        vertical-align: middle;\n",
              "    }\n",
              "\n",
              "    .dataframe tbody tr th {\n",
              "        vertical-align: top;\n",
              "    }\n",
              "\n",
              "    .dataframe thead th {\n",
              "        text-align: right;\n",
              "    }\n",
              "</style>\n",
              "<table border=\"1\" class=\"dataframe\">\n",
              "  <thead>\n",
              "    <tr style=\"text-align: right;\">\n",
              "      <th></th>\n",
              "      <th>chrom</th>\n",
              "      <th>new_chromStart</th>\n",
              "      <th>new_chromEnd</th>\n",
              "    </tr>\n",
              "  </thead>\n",
              "  <tbody>\n",
              "    <tr>\n",
              "      <th>0</th>\n",
              "      <td>chr1</td>\n",
              "      <td>845352</td>\n",
              "      <td>845365</td>\n",
              "    </tr>\n",
              "    <tr>\n",
              "      <th>1</th>\n",
              "      <td>chr1</td>\n",
              "      <td>845296</td>\n",
              "      <td>845308</td>\n",
              "    </tr>\n",
              "    <tr>\n",
              "      <th>2</th>\n",
              "      <td>chr1</td>\n",
              "      <td>845377</td>\n",
              "      <td>845390</td>\n",
              "    </tr>\n",
              "    <tr>\n",
              "      <th>3</th>\n",
              "      <td>chr1</td>\n",
              "      <td>845296</td>\n",
              "      <td>845311</td>\n",
              "    </tr>\n",
              "    <tr>\n",
              "      <th>4</th>\n",
              "      <td>chr1</td>\n",
              "      <td>845358</td>\n",
              "      <td>845369</td>\n",
              "    </tr>\n",
              "    <tr>\n",
              "      <th>...</th>\n",
              "      <td>...</td>\n",
              "      <td>...</td>\n",
              "      <td>...</td>\n",
              "    </tr>\n",
              "    <tr>\n",
              "      <th>18246</th>\n",
              "      <td>chrX</td>\n",
              "      <td>2746572</td>\n",
              "      <td>2746593</td>\n",
              "    </tr>\n",
              "    <tr>\n",
              "      <th>18247</th>\n",
              "      <td>chrX</td>\n",
              "      <td>2746546</td>\n",
              "      <td>2746560</td>\n",
              "    </tr>\n",
              "    <tr>\n",
              "      <th>18248</th>\n",
              "      <td>chrX</td>\n",
              "      <td>2746536</td>\n",
              "      <td>2746550</td>\n",
              "    </tr>\n",
              "    <tr>\n",
              "      <th>18249</th>\n",
              "      <td>chrY</td>\n",
              "      <td>3452219</td>\n",
              "      <td>3452238</td>\n",
              "    </tr>\n",
              "    <tr>\n",
              "      <th>18250</th>\n",
              "      <td>chr1</td>\n",
              "      <td>845357</td>\n",
              "      <td>845390</td>\n",
              "    </tr>\n",
              "  </tbody>\n",
              "</table>\n",
              "<p>18251 rows × 3 columns</p>\n",
              "</div>\n",
              "    <div class=\"colab-df-buttons\">\n",
              "\n",
              "  <div class=\"colab-df-container\">\n",
              "    <button class=\"colab-df-convert\" onclick=\"convertToInteractive('df-d400bbf4-fa99-461d-9ad2-6da3d186b413')\"\n",
              "            title=\"Convert this dataframe to an interactive table.\"\n",
              "            style=\"display:none;\">\n",
              "\n",
              "  <svg xmlns=\"http://www.w3.org/2000/svg\" height=\"24px\" viewBox=\"0 -960 960 960\">\n",
              "    <path d=\"M120-120v-720h720v720H120Zm60-500h600v-160H180v160Zm220 220h160v-160H400v160Zm0 220h160v-160H400v160ZM180-400h160v-160H180v160Zm440 0h160v-160H620v160ZM180-180h160v-160H180v160Zm440 0h160v-160H620v160Z\"/>\n",
              "  </svg>\n",
              "    </button>\n",
              "\n",
              "  <style>\n",
              "    .colab-df-container {\n",
              "      display:flex;\n",
              "      gap: 12px;\n",
              "    }\n",
              "\n",
              "    .colab-df-convert {\n",
              "      background-color: #E8F0FE;\n",
              "      border: none;\n",
              "      border-radius: 50%;\n",
              "      cursor: pointer;\n",
              "      display: none;\n",
              "      fill: #1967D2;\n",
              "      height: 32px;\n",
              "      padding: 0 0 0 0;\n",
              "      width: 32px;\n",
              "    }\n",
              "\n",
              "    .colab-df-convert:hover {\n",
              "      background-color: #E2EBFA;\n",
              "      box-shadow: 0px 1px 2px rgba(60, 64, 67, 0.3), 0px 1px 3px 1px rgba(60, 64, 67, 0.15);\n",
              "      fill: #174EA6;\n",
              "    }\n",
              "\n",
              "    .colab-df-buttons div {\n",
              "      margin-bottom: 4px;\n",
              "    }\n",
              "\n",
              "    [theme=dark] .colab-df-convert {\n",
              "      background-color: #3B4455;\n",
              "      fill: #D2E3FC;\n",
              "    }\n",
              "\n",
              "    [theme=dark] .colab-df-convert:hover {\n",
              "      background-color: #434B5C;\n",
              "      box-shadow: 0px 1px 3px 1px rgba(0, 0, 0, 0.15);\n",
              "      filter: drop-shadow(0px 1px 2px rgba(0, 0, 0, 0.3));\n",
              "      fill: #FFFFFF;\n",
              "    }\n",
              "  </style>\n",
              "\n",
              "    <script>\n",
              "      const buttonEl =\n",
              "        document.querySelector('#df-d400bbf4-fa99-461d-9ad2-6da3d186b413 button.colab-df-convert');\n",
              "      buttonEl.style.display =\n",
              "        google.colab.kernel.accessAllowed ? 'block' : 'none';\n",
              "\n",
              "      async function convertToInteractive(key) {\n",
              "        const element = document.querySelector('#df-d400bbf4-fa99-461d-9ad2-6da3d186b413');\n",
              "        const dataTable =\n",
              "          await google.colab.kernel.invokeFunction('convertToInteractive',\n",
              "                                                    [key], {});\n",
              "        if (!dataTable) return;\n",
              "\n",
              "        const docLinkHtml = 'Like what you see? Visit the ' +\n",
              "          '<a target=\"_blank\" href=https://colab.research.google.com/notebooks/data_table.ipynb>data table notebook</a>'\n",
              "          + ' to learn more about interactive tables.';\n",
              "        element.innerHTML = '';\n",
              "        dataTable['output_type'] = 'display_data';\n",
              "        await google.colab.output.renderOutput(dataTable, element);\n",
              "        const docLink = document.createElement('div');\n",
              "        docLink.innerHTML = docLinkHtml;\n",
              "        element.appendChild(docLink);\n",
              "      }\n",
              "    </script>\n",
              "  </div>\n",
              "\n",
              "\n",
              "<div id=\"df-db9b6074-7078-4dde-b4d6-2f9e3fa88df1\">\n",
              "  <button class=\"colab-df-quickchart\" onclick=\"quickchart('df-db9b6074-7078-4dde-b4d6-2f9e3fa88df1')\"\n",
              "            title=\"Suggest charts\"\n",
              "            style=\"display:none;\">\n",
              "\n",
              "<svg xmlns=\"http://www.w3.org/2000/svg\" height=\"24px\"viewBox=\"0 0 24 24\"\n",
              "     width=\"24px\">\n",
              "    <g>\n",
              "        <path d=\"M19 3H5c-1.1 0-2 .9-2 2v14c0 1.1.9 2 2 2h14c1.1 0 2-.9 2-2V5c0-1.1-.9-2-2-2zM9 17H7v-7h2v7zm4 0h-2V7h2v10zm4 0h-2v-4h2v4z\"/>\n",
              "    </g>\n",
              "</svg>\n",
              "  </button>\n",
              "\n",
              "<style>\n",
              "  .colab-df-quickchart {\n",
              "      --bg-color: #E8F0FE;\n",
              "      --fill-color: #1967D2;\n",
              "      --hover-bg-color: #E2EBFA;\n",
              "      --hover-fill-color: #174EA6;\n",
              "      --disabled-fill-color: #AAA;\n",
              "      --disabled-bg-color: #DDD;\n",
              "  }\n",
              "\n",
              "  [theme=dark] .colab-df-quickchart {\n",
              "      --bg-color: #3B4455;\n",
              "      --fill-color: #D2E3FC;\n",
              "      --hover-bg-color: #434B5C;\n",
              "      --hover-fill-color: #FFFFFF;\n",
              "      --disabled-bg-color: #3B4455;\n",
              "      --disabled-fill-color: #666;\n",
              "  }\n",
              "\n",
              "  .colab-df-quickchart {\n",
              "    background-color: var(--bg-color);\n",
              "    border: none;\n",
              "    border-radius: 50%;\n",
              "    cursor: pointer;\n",
              "    display: none;\n",
              "    fill: var(--fill-color);\n",
              "    height: 32px;\n",
              "    padding: 0;\n",
              "    width: 32px;\n",
              "  }\n",
              "\n",
              "  .colab-df-quickchart:hover {\n",
              "    background-color: var(--hover-bg-color);\n",
              "    box-shadow: 0 1px 2px rgba(60, 64, 67, 0.3), 0 1px 3px 1px rgba(60, 64, 67, 0.15);\n",
              "    fill: var(--button-hover-fill-color);\n",
              "  }\n",
              "\n",
              "  .colab-df-quickchart-complete:disabled,\n",
              "  .colab-df-quickchart-complete:disabled:hover {\n",
              "    background-color: var(--disabled-bg-color);\n",
              "    fill: var(--disabled-fill-color);\n",
              "    box-shadow: none;\n",
              "  }\n",
              "\n",
              "  .colab-df-spinner {\n",
              "    border: 2px solid var(--fill-color);\n",
              "    border-color: transparent;\n",
              "    border-bottom-color: var(--fill-color);\n",
              "    animation:\n",
              "      spin 1s steps(1) infinite;\n",
              "  }\n",
              "\n",
              "  @keyframes spin {\n",
              "    0% {\n",
              "      border-color: transparent;\n",
              "      border-bottom-color: var(--fill-color);\n",
              "      border-left-color: var(--fill-color);\n",
              "    }\n",
              "    20% {\n",
              "      border-color: transparent;\n",
              "      border-left-color: var(--fill-color);\n",
              "      border-top-color: var(--fill-color);\n",
              "    }\n",
              "    30% {\n",
              "      border-color: transparent;\n",
              "      border-left-color: var(--fill-color);\n",
              "      border-top-color: var(--fill-color);\n",
              "      border-right-color: var(--fill-color);\n",
              "    }\n",
              "    40% {\n",
              "      border-color: transparent;\n",
              "      border-right-color: var(--fill-color);\n",
              "      border-top-color: var(--fill-color);\n",
              "    }\n",
              "    60% {\n",
              "      border-color: transparent;\n",
              "      border-right-color: var(--fill-color);\n",
              "    }\n",
              "    80% {\n",
              "      border-color: transparent;\n",
              "      border-right-color: var(--fill-color);\n",
              "      border-bottom-color: var(--fill-color);\n",
              "    }\n",
              "    90% {\n",
              "      border-color: transparent;\n",
              "      border-bottom-color: var(--fill-color);\n",
              "    }\n",
              "  }\n",
              "</style>\n",
              "\n",
              "  <script>\n",
              "    async function quickchart(key) {\n",
              "      const quickchartButtonEl =\n",
              "        document.querySelector('#' + key + ' button');\n",
              "      quickchartButtonEl.disabled = true;  // To prevent multiple clicks.\n",
              "      quickchartButtonEl.classList.add('colab-df-spinner');\n",
              "      try {\n",
              "        const charts = await google.colab.kernel.invokeFunction(\n",
              "            'suggestCharts', [key], {});\n",
              "      } catch (error) {\n",
              "        console.error('Error during call to suggestCharts:', error);\n",
              "      }\n",
              "      quickchartButtonEl.classList.remove('colab-df-spinner');\n",
              "      quickchartButtonEl.classList.add('colab-df-quickchart-complete');\n",
              "    }\n",
              "    (() => {\n",
              "      let quickchartButtonEl =\n",
              "        document.querySelector('#df-db9b6074-7078-4dde-b4d6-2f9e3fa88df1 button');\n",
              "      quickchartButtonEl.style.display =\n",
              "        google.colab.kernel.accessAllowed ? 'block' : 'none';\n",
              "    })();\n",
              "  </script>\n",
              "</div>\n",
              "    </div>\n",
              "  </div>\n"
            ]
          },
          "metadata": {},
          "execution_count": 10
        }
      ]
    },
    {
      "cell_type": "code",
      "source": [
        "new_data = []\n",
        "\n",
        "for index, row in df2.iterrows():\n",
        "    chrom = row['Chromosome']\n",
        "    start_offset = row['Start']\n",
        "    end_offset = row['End']\n",
        "\n",
        "    chrom_start = un_bed_dataset.loc[un_bed_dataset['chrom'] == chrom, 'chromStart'].values[0]\n",
        "    chrom_end = un_bed_dataset.loc[un_bed_dataset['chrom'] == chrom, 'chromEnd'].values[0]\n",
        "\n",
        "    new_start = chrom_start + start_offset\n",
        "    new_end = chrom_start + end_offset\n",
        "\n",
        "    new_data.append({'chrom': chrom, 'new_chromStart': new_start, 'new_chromEnd': new_end})\n",
        "\n",
        "new_df_vae = pd.DataFrame(new_data)\n",
        "\n",
        "new_df_vae.to_csv('new_bed_vae.csv', index=False)"
      ],
      "metadata": {
        "id": "5tgljUkpBI57"
      },
      "execution_count": null,
      "outputs": []
    },
    {
      "cell_type": "code",
      "source": [
        "new_data = []\n",
        "\n",
        "for index, row in df3.iterrows():\n",
        "    chrom = row['Chromosome']\n",
        "    start_offset = row['Start']\n",
        "    end_offset = row['End']\n",
        "\n",
        "    chrom_start = un_bed_dataset.loc[un_bed_dataset['chrom'] == chrom, 'chromStart'].values[0]\n",
        "    chrom_end = un_bed_dataset.loc[un_bed_dataset['chrom'] == chrom, 'chromEnd'].values[0]\n",
        "\n",
        "    new_start = chrom_start + start_offset\n",
        "    new_end = chrom_start + end_offset\n",
        "\n",
        "    new_data.append({'chrom': chrom, 'new_chromStart': new_start, 'new_chromEnd': new_end})\n",
        "\n",
        "new_df_gan = pd.DataFrame(new_data)\n",
        "\n",
        "new_df_gan.to_csv('new_bed_gan.csv', index=False)"
      ],
      "metadata": {
        "id": "ALtYOdGCBPkS"
      },
      "execution_count": null,
      "outputs": []
    },
    {
      "cell_type": "code",
      "source": [
        "new_df_gan"
      ],
      "metadata": {
        "colab": {
          "base_uri": "https://localhost:8080/",
          "height": 423
        },
        "id": "2LcI4nj6EEBP",
        "outputId": "95eb0f9e-df69-41cc-80fa-4fb8fb0f9ea3"
      },
      "execution_count": null,
      "outputs": [
        {
          "output_type": "execute_result",
          "data": {
            "text/plain": [
              "      chrom  new_chromStart  new_chromEnd\n",
              "0      chr1          845369        845382\n",
              "1      chr1          845378        845390\n",
              "2      chr1          845334        845351\n",
              "3      chr1          845346        845360\n",
              "4      chr1          845338        845357\n",
              "...     ...             ...           ...\n",
              "10633  chrX         2746543       2746562\n",
              "10634  chrX         2746536       2746550\n",
              "10635  chrX         2746609       2746628\n",
              "10636  chrX         2746538       2746548\n",
              "10637  chrX         2746574       2746589\n",
              "\n",
              "[10638 rows x 3 columns]"
            ],
            "text/html": [
              "\n",
              "  <div id=\"df-7baae5c3-f8d7-497e-b637-a09186d7321a\" class=\"colab-df-container\">\n",
              "    <div>\n",
              "<style scoped>\n",
              "    .dataframe tbody tr th:only-of-type {\n",
              "        vertical-align: middle;\n",
              "    }\n",
              "\n",
              "    .dataframe tbody tr th {\n",
              "        vertical-align: top;\n",
              "    }\n",
              "\n",
              "    .dataframe thead th {\n",
              "        text-align: right;\n",
              "    }\n",
              "</style>\n",
              "<table border=\"1\" class=\"dataframe\">\n",
              "  <thead>\n",
              "    <tr style=\"text-align: right;\">\n",
              "      <th></th>\n",
              "      <th>chrom</th>\n",
              "      <th>new_chromStart</th>\n",
              "      <th>new_chromEnd</th>\n",
              "    </tr>\n",
              "  </thead>\n",
              "  <tbody>\n",
              "    <tr>\n",
              "      <th>0</th>\n",
              "      <td>chr1</td>\n",
              "      <td>845369</td>\n",
              "      <td>845382</td>\n",
              "    </tr>\n",
              "    <tr>\n",
              "      <th>1</th>\n",
              "      <td>chr1</td>\n",
              "      <td>845378</td>\n",
              "      <td>845390</td>\n",
              "    </tr>\n",
              "    <tr>\n",
              "      <th>2</th>\n",
              "      <td>chr1</td>\n",
              "      <td>845334</td>\n",
              "      <td>845351</td>\n",
              "    </tr>\n",
              "    <tr>\n",
              "      <th>3</th>\n",
              "      <td>chr1</td>\n",
              "      <td>845346</td>\n",
              "      <td>845360</td>\n",
              "    </tr>\n",
              "    <tr>\n",
              "      <th>4</th>\n",
              "      <td>chr1</td>\n",
              "      <td>845338</td>\n",
              "      <td>845357</td>\n",
              "    </tr>\n",
              "    <tr>\n",
              "      <th>...</th>\n",
              "      <td>...</td>\n",
              "      <td>...</td>\n",
              "      <td>...</td>\n",
              "    </tr>\n",
              "    <tr>\n",
              "      <th>10633</th>\n",
              "      <td>chrX</td>\n",
              "      <td>2746543</td>\n",
              "      <td>2746562</td>\n",
              "    </tr>\n",
              "    <tr>\n",
              "      <th>10634</th>\n",
              "      <td>chrX</td>\n",
              "      <td>2746536</td>\n",
              "      <td>2746550</td>\n",
              "    </tr>\n",
              "    <tr>\n",
              "      <th>10635</th>\n",
              "      <td>chrX</td>\n",
              "      <td>2746609</td>\n",
              "      <td>2746628</td>\n",
              "    </tr>\n",
              "    <tr>\n",
              "      <th>10636</th>\n",
              "      <td>chrX</td>\n",
              "      <td>2746538</td>\n",
              "      <td>2746548</td>\n",
              "    </tr>\n",
              "    <tr>\n",
              "      <th>10637</th>\n",
              "      <td>chrX</td>\n",
              "      <td>2746574</td>\n",
              "      <td>2746589</td>\n",
              "    </tr>\n",
              "  </tbody>\n",
              "</table>\n",
              "<p>10638 rows × 3 columns</p>\n",
              "</div>\n",
              "    <div class=\"colab-df-buttons\">\n",
              "\n",
              "  <div class=\"colab-df-container\">\n",
              "    <button class=\"colab-df-convert\" onclick=\"convertToInteractive('df-7baae5c3-f8d7-497e-b637-a09186d7321a')\"\n",
              "            title=\"Convert this dataframe to an interactive table.\"\n",
              "            style=\"display:none;\">\n",
              "\n",
              "  <svg xmlns=\"http://www.w3.org/2000/svg\" height=\"24px\" viewBox=\"0 -960 960 960\">\n",
              "    <path d=\"M120-120v-720h720v720H120Zm60-500h600v-160H180v160Zm220 220h160v-160H400v160Zm0 220h160v-160H400v160ZM180-400h160v-160H180v160Zm440 0h160v-160H620v160ZM180-180h160v-160H180v160Zm440 0h160v-160H620v160Z\"/>\n",
              "  </svg>\n",
              "    </button>\n",
              "\n",
              "  <style>\n",
              "    .colab-df-container {\n",
              "      display:flex;\n",
              "      gap: 12px;\n",
              "    }\n",
              "\n",
              "    .colab-df-convert {\n",
              "      background-color: #E8F0FE;\n",
              "      border: none;\n",
              "      border-radius: 50%;\n",
              "      cursor: pointer;\n",
              "      display: none;\n",
              "      fill: #1967D2;\n",
              "      height: 32px;\n",
              "      padding: 0 0 0 0;\n",
              "      width: 32px;\n",
              "    }\n",
              "\n",
              "    .colab-df-convert:hover {\n",
              "      background-color: #E2EBFA;\n",
              "      box-shadow: 0px 1px 2px rgba(60, 64, 67, 0.3), 0px 1px 3px 1px rgba(60, 64, 67, 0.15);\n",
              "      fill: #174EA6;\n",
              "    }\n",
              "\n",
              "    .colab-df-buttons div {\n",
              "      margin-bottom: 4px;\n",
              "    }\n",
              "\n",
              "    [theme=dark] .colab-df-convert {\n",
              "      background-color: #3B4455;\n",
              "      fill: #D2E3FC;\n",
              "    }\n",
              "\n",
              "    [theme=dark] .colab-df-convert:hover {\n",
              "      background-color: #434B5C;\n",
              "      box-shadow: 0px 1px 3px 1px rgba(0, 0, 0, 0.15);\n",
              "      filter: drop-shadow(0px 1px 2px rgba(0, 0, 0, 0.3));\n",
              "      fill: #FFFFFF;\n",
              "    }\n",
              "  </style>\n",
              "\n",
              "    <script>\n",
              "      const buttonEl =\n",
              "        document.querySelector('#df-7baae5c3-f8d7-497e-b637-a09186d7321a button.colab-df-convert');\n",
              "      buttonEl.style.display =\n",
              "        google.colab.kernel.accessAllowed ? 'block' : 'none';\n",
              "\n",
              "      async function convertToInteractive(key) {\n",
              "        const element = document.querySelector('#df-7baae5c3-f8d7-497e-b637-a09186d7321a');\n",
              "        const dataTable =\n",
              "          await google.colab.kernel.invokeFunction('convertToInteractive',\n",
              "                                                    [key], {});\n",
              "        if (!dataTable) return;\n",
              "\n",
              "        const docLinkHtml = 'Like what you see? Visit the ' +\n",
              "          '<a target=\"_blank\" href=https://colab.research.google.com/notebooks/data_table.ipynb>data table notebook</a>'\n",
              "          + ' to learn more about interactive tables.';\n",
              "        element.innerHTML = '';\n",
              "        dataTable['output_type'] = 'display_data';\n",
              "        await google.colab.output.renderOutput(dataTable, element);\n",
              "        const docLink = document.createElement('div');\n",
              "        docLink.innerHTML = docLinkHtml;\n",
              "        element.appendChild(docLink);\n",
              "      }\n",
              "    </script>\n",
              "  </div>\n",
              "\n",
              "\n",
              "<div id=\"df-8cd66c80-9510-4dbe-9bba-f9bddd6e5d2d\">\n",
              "  <button class=\"colab-df-quickchart\" onclick=\"quickchart('df-8cd66c80-9510-4dbe-9bba-f9bddd6e5d2d')\"\n",
              "            title=\"Suggest charts\"\n",
              "            style=\"display:none;\">\n",
              "\n",
              "<svg xmlns=\"http://www.w3.org/2000/svg\" height=\"24px\"viewBox=\"0 0 24 24\"\n",
              "     width=\"24px\">\n",
              "    <g>\n",
              "        <path d=\"M19 3H5c-1.1 0-2 .9-2 2v14c0 1.1.9 2 2 2h14c1.1 0 2-.9 2-2V5c0-1.1-.9-2-2-2zM9 17H7v-7h2v7zm4 0h-2V7h2v10zm4 0h-2v-4h2v4z\"/>\n",
              "    </g>\n",
              "</svg>\n",
              "  </button>\n",
              "\n",
              "<style>\n",
              "  .colab-df-quickchart {\n",
              "      --bg-color: #E8F0FE;\n",
              "      --fill-color: #1967D2;\n",
              "      --hover-bg-color: #E2EBFA;\n",
              "      --hover-fill-color: #174EA6;\n",
              "      --disabled-fill-color: #AAA;\n",
              "      --disabled-bg-color: #DDD;\n",
              "  }\n",
              "\n",
              "  [theme=dark] .colab-df-quickchart {\n",
              "      --bg-color: #3B4455;\n",
              "      --fill-color: #D2E3FC;\n",
              "      --hover-bg-color: #434B5C;\n",
              "      --hover-fill-color: #FFFFFF;\n",
              "      --disabled-bg-color: #3B4455;\n",
              "      --disabled-fill-color: #666;\n",
              "  }\n",
              "\n",
              "  .colab-df-quickchart {\n",
              "    background-color: var(--bg-color);\n",
              "    border: none;\n",
              "    border-radius: 50%;\n",
              "    cursor: pointer;\n",
              "    display: none;\n",
              "    fill: var(--fill-color);\n",
              "    height: 32px;\n",
              "    padding: 0;\n",
              "    width: 32px;\n",
              "  }\n",
              "\n",
              "  .colab-df-quickchart:hover {\n",
              "    background-color: var(--hover-bg-color);\n",
              "    box-shadow: 0 1px 2px rgba(60, 64, 67, 0.3), 0 1px 3px 1px rgba(60, 64, 67, 0.15);\n",
              "    fill: var(--button-hover-fill-color);\n",
              "  }\n",
              "\n",
              "  .colab-df-quickchart-complete:disabled,\n",
              "  .colab-df-quickchart-complete:disabled:hover {\n",
              "    background-color: var(--disabled-bg-color);\n",
              "    fill: var(--disabled-fill-color);\n",
              "    box-shadow: none;\n",
              "  }\n",
              "\n",
              "  .colab-df-spinner {\n",
              "    border: 2px solid var(--fill-color);\n",
              "    border-color: transparent;\n",
              "    border-bottom-color: var(--fill-color);\n",
              "    animation:\n",
              "      spin 1s steps(1) infinite;\n",
              "  }\n",
              "\n",
              "  @keyframes spin {\n",
              "    0% {\n",
              "      border-color: transparent;\n",
              "      border-bottom-color: var(--fill-color);\n",
              "      border-left-color: var(--fill-color);\n",
              "    }\n",
              "    20% {\n",
              "      border-color: transparent;\n",
              "      border-left-color: var(--fill-color);\n",
              "      border-top-color: var(--fill-color);\n",
              "    }\n",
              "    30% {\n",
              "      border-color: transparent;\n",
              "      border-left-color: var(--fill-color);\n",
              "      border-top-color: var(--fill-color);\n",
              "      border-right-color: var(--fill-color);\n",
              "    }\n",
              "    40% {\n",
              "      border-color: transparent;\n",
              "      border-right-color: var(--fill-color);\n",
              "      border-top-color: var(--fill-color);\n",
              "    }\n",
              "    60% {\n",
              "      border-color: transparent;\n",
              "      border-right-color: var(--fill-color);\n",
              "    }\n",
              "    80% {\n",
              "      border-color: transparent;\n",
              "      border-right-color: var(--fill-color);\n",
              "      border-bottom-color: var(--fill-color);\n",
              "    }\n",
              "    90% {\n",
              "      border-color: transparent;\n",
              "      border-bottom-color: var(--fill-color);\n",
              "    }\n",
              "  }\n",
              "</style>\n",
              "\n",
              "  <script>\n",
              "    async function quickchart(key) {\n",
              "      const quickchartButtonEl =\n",
              "        document.querySelector('#' + key + ' button');\n",
              "      quickchartButtonEl.disabled = true;  // To prevent multiple clicks.\n",
              "      quickchartButtonEl.classList.add('colab-df-spinner');\n",
              "      try {\n",
              "        const charts = await google.colab.kernel.invokeFunction(\n",
              "            'suggestCharts', [key], {});\n",
              "      } catch (error) {\n",
              "        console.error('Error during call to suggestCharts:', error);\n",
              "      }\n",
              "      quickchartButtonEl.classList.remove('colab-df-spinner');\n",
              "      quickchartButtonEl.classList.add('colab-df-quickchart-complete');\n",
              "    }\n",
              "    (() => {\n",
              "      let quickchartButtonEl =\n",
              "        document.querySelector('#df-8cd66c80-9510-4dbe-9bba-f9bddd6e5d2d button');\n",
              "      quickchartButtonEl.style.display =\n",
              "        google.colab.kernel.accessAllowed ? 'block' : 'none';\n",
              "    })();\n",
              "  </script>\n",
              "</div>\n",
              "    </div>\n",
              "  </div>\n"
            ]
          },
          "metadata": {},
          "execution_count": 13
        }
      ]
    },
    {
      "cell_type": "code",
      "source": [
        "new_df_vae"
      ],
      "metadata": {
        "colab": {
          "base_uri": "https://localhost:8080/",
          "height": 423
        },
        "id": "AEYC7E8gEGjP",
        "outputId": "8a77287b-2bb4-4c51-fa8a-563bfc5724b3"
      },
      "execution_count": null,
      "outputs": [
        {
          "output_type": "execute_result",
          "data": {
            "text/plain": [
              "      chrom  new_chromStart  new_chromEnd\n",
              "0      chr1          845339        845353\n",
              "1      chr1          845336        845353\n",
              "2      chr1          845337        845354\n",
              "3      chr1          845354        845369\n",
              "4      chr1          845338        845353\n",
              "...     ...             ...           ...\n",
              "51741  chrX         2746576       2746593\n",
              "51742  chrX         2746602       2746621\n",
              "51743  chrX         2746579       2746599\n",
              "51744  chrX         2746575       2746595\n",
              "51745  chrX         2746572       2746595\n",
              "\n",
              "[51746 rows x 3 columns]"
            ],
            "text/html": [
              "\n",
              "  <div id=\"df-91354ebf-fec6-4f5e-8730-32d10eeac81b\" class=\"colab-df-container\">\n",
              "    <div>\n",
              "<style scoped>\n",
              "    .dataframe tbody tr th:only-of-type {\n",
              "        vertical-align: middle;\n",
              "    }\n",
              "\n",
              "    .dataframe tbody tr th {\n",
              "        vertical-align: top;\n",
              "    }\n",
              "\n",
              "    .dataframe thead th {\n",
              "        text-align: right;\n",
              "    }\n",
              "</style>\n",
              "<table border=\"1\" class=\"dataframe\">\n",
              "  <thead>\n",
              "    <tr style=\"text-align: right;\">\n",
              "      <th></th>\n",
              "      <th>chrom</th>\n",
              "      <th>new_chromStart</th>\n",
              "      <th>new_chromEnd</th>\n",
              "    </tr>\n",
              "  </thead>\n",
              "  <tbody>\n",
              "    <tr>\n",
              "      <th>0</th>\n",
              "      <td>chr1</td>\n",
              "      <td>845339</td>\n",
              "      <td>845353</td>\n",
              "    </tr>\n",
              "    <tr>\n",
              "      <th>1</th>\n",
              "      <td>chr1</td>\n",
              "      <td>845336</td>\n",
              "      <td>845353</td>\n",
              "    </tr>\n",
              "    <tr>\n",
              "      <th>2</th>\n",
              "      <td>chr1</td>\n",
              "      <td>845337</td>\n",
              "      <td>845354</td>\n",
              "    </tr>\n",
              "    <tr>\n",
              "      <th>3</th>\n",
              "      <td>chr1</td>\n",
              "      <td>845354</td>\n",
              "      <td>845369</td>\n",
              "    </tr>\n",
              "    <tr>\n",
              "      <th>4</th>\n",
              "      <td>chr1</td>\n",
              "      <td>845338</td>\n",
              "      <td>845353</td>\n",
              "    </tr>\n",
              "    <tr>\n",
              "      <th>...</th>\n",
              "      <td>...</td>\n",
              "      <td>...</td>\n",
              "      <td>...</td>\n",
              "    </tr>\n",
              "    <tr>\n",
              "      <th>51741</th>\n",
              "      <td>chrX</td>\n",
              "      <td>2746576</td>\n",
              "      <td>2746593</td>\n",
              "    </tr>\n",
              "    <tr>\n",
              "      <th>51742</th>\n",
              "      <td>chrX</td>\n",
              "      <td>2746602</td>\n",
              "      <td>2746621</td>\n",
              "    </tr>\n",
              "    <tr>\n",
              "      <th>51743</th>\n",
              "      <td>chrX</td>\n",
              "      <td>2746579</td>\n",
              "      <td>2746599</td>\n",
              "    </tr>\n",
              "    <tr>\n",
              "      <th>51744</th>\n",
              "      <td>chrX</td>\n",
              "      <td>2746575</td>\n",
              "      <td>2746595</td>\n",
              "    </tr>\n",
              "    <tr>\n",
              "      <th>51745</th>\n",
              "      <td>chrX</td>\n",
              "      <td>2746572</td>\n",
              "      <td>2746595</td>\n",
              "    </tr>\n",
              "  </tbody>\n",
              "</table>\n",
              "<p>51746 rows × 3 columns</p>\n",
              "</div>\n",
              "    <div class=\"colab-df-buttons\">\n",
              "\n",
              "  <div class=\"colab-df-container\">\n",
              "    <button class=\"colab-df-convert\" onclick=\"convertToInteractive('df-91354ebf-fec6-4f5e-8730-32d10eeac81b')\"\n",
              "            title=\"Convert this dataframe to an interactive table.\"\n",
              "            style=\"display:none;\">\n",
              "\n",
              "  <svg xmlns=\"http://www.w3.org/2000/svg\" height=\"24px\" viewBox=\"0 -960 960 960\">\n",
              "    <path d=\"M120-120v-720h720v720H120Zm60-500h600v-160H180v160Zm220 220h160v-160H400v160Zm0 220h160v-160H400v160ZM180-400h160v-160H180v160Zm440 0h160v-160H620v160ZM180-180h160v-160H180v160Zm440 0h160v-160H620v160Z\"/>\n",
              "  </svg>\n",
              "    </button>\n",
              "\n",
              "  <style>\n",
              "    .colab-df-container {\n",
              "      display:flex;\n",
              "      gap: 12px;\n",
              "    }\n",
              "\n",
              "    .colab-df-convert {\n",
              "      background-color: #E8F0FE;\n",
              "      border: none;\n",
              "      border-radius: 50%;\n",
              "      cursor: pointer;\n",
              "      display: none;\n",
              "      fill: #1967D2;\n",
              "      height: 32px;\n",
              "      padding: 0 0 0 0;\n",
              "      width: 32px;\n",
              "    }\n",
              "\n",
              "    .colab-df-convert:hover {\n",
              "      background-color: #E2EBFA;\n",
              "      box-shadow: 0px 1px 2px rgba(60, 64, 67, 0.3), 0px 1px 3px 1px rgba(60, 64, 67, 0.15);\n",
              "      fill: #174EA6;\n",
              "    }\n",
              "\n",
              "    .colab-df-buttons div {\n",
              "      margin-bottom: 4px;\n",
              "    }\n",
              "\n",
              "    [theme=dark] .colab-df-convert {\n",
              "      background-color: #3B4455;\n",
              "      fill: #D2E3FC;\n",
              "    }\n",
              "\n",
              "    [theme=dark] .colab-df-convert:hover {\n",
              "      background-color: #434B5C;\n",
              "      box-shadow: 0px 1px 3px 1px rgba(0, 0, 0, 0.15);\n",
              "      filter: drop-shadow(0px 1px 2px rgba(0, 0, 0, 0.3));\n",
              "      fill: #FFFFFF;\n",
              "    }\n",
              "  </style>\n",
              "\n",
              "    <script>\n",
              "      const buttonEl =\n",
              "        document.querySelector('#df-91354ebf-fec6-4f5e-8730-32d10eeac81b button.colab-df-convert');\n",
              "      buttonEl.style.display =\n",
              "        google.colab.kernel.accessAllowed ? 'block' : 'none';\n",
              "\n",
              "      async function convertToInteractive(key) {\n",
              "        const element = document.querySelector('#df-91354ebf-fec6-4f5e-8730-32d10eeac81b');\n",
              "        const dataTable =\n",
              "          await google.colab.kernel.invokeFunction('convertToInteractive',\n",
              "                                                    [key], {});\n",
              "        if (!dataTable) return;\n",
              "\n",
              "        const docLinkHtml = 'Like what you see? Visit the ' +\n",
              "          '<a target=\"_blank\" href=https://colab.research.google.com/notebooks/data_table.ipynb>data table notebook</a>'\n",
              "          + ' to learn more about interactive tables.';\n",
              "        element.innerHTML = '';\n",
              "        dataTable['output_type'] = 'display_data';\n",
              "        await google.colab.output.renderOutput(dataTable, element);\n",
              "        const docLink = document.createElement('div');\n",
              "        docLink.innerHTML = docLinkHtml;\n",
              "        element.appendChild(docLink);\n",
              "      }\n",
              "    </script>\n",
              "  </div>\n",
              "\n",
              "\n",
              "<div id=\"df-27eafc66-7514-4b30-8673-8e38d0ac2dc8\">\n",
              "  <button class=\"colab-df-quickchart\" onclick=\"quickchart('df-27eafc66-7514-4b30-8673-8e38d0ac2dc8')\"\n",
              "            title=\"Suggest charts\"\n",
              "            style=\"display:none;\">\n",
              "\n",
              "<svg xmlns=\"http://www.w3.org/2000/svg\" height=\"24px\"viewBox=\"0 0 24 24\"\n",
              "     width=\"24px\">\n",
              "    <g>\n",
              "        <path d=\"M19 3H5c-1.1 0-2 .9-2 2v14c0 1.1.9 2 2 2h14c1.1 0 2-.9 2-2V5c0-1.1-.9-2-2-2zM9 17H7v-7h2v7zm4 0h-2V7h2v10zm4 0h-2v-4h2v4z\"/>\n",
              "    </g>\n",
              "</svg>\n",
              "  </button>\n",
              "\n",
              "<style>\n",
              "  .colab-df-quickchart {\n",
              "      --bg-color: #E8F0FE;\n",
              "      --fill-color: #1967D2;\n",
              "      --hover-bg-color: #E2EBFA;\n",
              "      --hover-fill-color: #174EA6;\n",
              "      --disabled-fill-color: #AAA;\n",
              "      --disabled-bg-color: #DDD;\n",
              "  }\n",
              "\n",
              "  [theme=dark] .colab-df-quickchart {\n",
              "      --bg-color: #3B4455;\n",
              "      --fill-color: #D2E3FC;\n",
              "      --hover-bg-color: #434B5C;\n",
              "      --hover-fill-color: #FFFFFF;\n",
              "      --disabled-bg-color: #3B4455;\n",
              "      --disabled-fill-color: #666;\n",
              "  }\n",
              "\n",
              "  .colab-df-quickchart {\n",
              "    background-color: var(--bg-color);\n",
              "    border: none;\n",
              "    border-radius: 50%;\n",
              "    cursor: pointer;\n",
              "    display: none;\n",
              "    fill: var(--fill-color);\n",
              "    height: 32px;\n",
              "    padding: 0;\n",
              "    width: 32px;\n",
              "  }\n",
              "\n",
              "  .colab-df-quickchart:hover {\n",
              "    background-color: var(--hover-bg-color);\n",
              "    box-shadow: 0 1px 2px rgba(60, 64, 67, 0.3), 0 1px 3px 1px rgba(60, 64, 67, 0.15);\n",
              "    fill: var(--button-hover-fill-color);\n",
              "  }\n",
              "\n",
              "  .colab-df-quickchart-complete:disabled,\n",
              "  .colab-df-quickchart-complete:disabled:hover {\n",
              "    background-color: var(--disabled-bg-color);\n",
              "    fill: var(--disabled-fill-color);\n",
              "    box-shadow: none;\n",
              "  }\n",
              "\n",
              "  .colab-df-spinner {\n",
              "    border: 2px solid var(--fill-color);\n",
              "    border-color: transparent;\n",
              "    border-bottom-color: var(--fill-color);\n",
              "    animation:\n",
              "      spin 1s steps(1) infinite;\n",
              "  }\n",
              "\n",
              "  @keyframes spin {\n",
              "    0% {\n",
              "      border-color: transparent;\n",
              "      border-bottom-color: var(--fill-color);\n",
              "      border-left-color: var(--fill-color);\n",
              "    }\n",
              "    20% {\n",
              "      border-color: transparent;\n",
              "      border-left-color: var(--fill-color);\n",
              "      border-top-color: var(--fill-color);\n",
              "    }\n",
              "    30% {\n",
              "      border-color: transparent;\n",
              "      border-left-color: var(--fill-color);\n",
              "      border-top-color: var(--fill-color);\n",
              "      border-right-color: var(--fill-color);\n",
              "    }\n",
              "    40% {\n",
              "      border-color: transparent;\n",
              "      border-right-color: var(--fill-color);\n",
              "      border-top-color: var(--fill-color);\n",
              "    }\n",
              "    60% {\n",
              "      border-color: transparent;\n",
              "      border-right-color: var(--fill-color);\n",
              "    }\n",
              "    80% {\n",
              "      border-color: transparent;\n",
              "      border-right-color: var(--fill-color);\n",
              "      border-bottom-color: var(--fill-color);\n",
              "    }\n",
              "    90% {\n",
              "      border-color: transparent;\n",
              "      border-bottom-color: var(--fill-color);\n",
              "    }\n",
              "  }\n",
              "</style>\n",
              "\n",
              "  <script>\n",
              "    async function quickchart(key) {\n",
              "      const quickchartButtonEl =\n",
              "        document.querySelector('#' + key + ' button');\n",
              "      quickchartButtonEl.disabled = true;  // To prevent multiple clicks.\n",
              "      quickchartButtonEl.classList.add('colab-df-spinner');\n",
              "      try {\n",
              "        const charts = await google.colab.kernel.invokeFunction(\n",
              "            'suggestCharts', [key], {});\n",
              "      } catch (error) {\n",
              "        console.error('Error during call to suggestCharts:', error);\n",
              "      }\n",
              "      quickchartButtonEl.classList.remove('colab-df-spinner');\n",
              "      quickchartButtonEl.classList.add('colab-df-quickchart-complete');\n",
              "    }\n",
              "    (() => {\n",
              "      let quickchartButtonEl =\n",
              "        document.querySelector('#df-27eafc66-7514-4b30-8673-8e38d0ac2dc8 button');\n",
              "      quickchartButtonEl.style.display =\n",
              "        google.colab.kernel.accessAllowed ? 'block' : 'none';\n",
              "    })();\n",
              "  </script>\n",
              "</div>\n",
              "    </div>\n",
              "  </div>\n"
            ]
          },
          "metadata": {},
          "execution_count": 14
        }
      ]
    },
    {
      "cell_type": "code",
      "source": [
        "new_df"
      ],
      "metadata": {
        "colab": {
          "base_uri": "https://localhost:8080/",
          "height": 423
        },
        "id": "yLunOguzEJ8v",
        "outputId": "e12bb5b2-f63f-48fa-84f3-25ad92056505"
      },
      "execution_count": null,
      "outputs": [
        {
          "output_type": "execute_result",
          "data": {
            "text/plain": [
              "      chrom  new_chromStart  new_chromEnd\n",
              "0      chr1          845352        845365\n",
              "1      chr1          845296        845308\n",
              "2      chr1          845377        845390\n",
              "3      chr1          845296        845311\n",
              "4      chr1          845358        845369\n",
              "...     ...             ...           ...\n",
              "18246  chrX         2746572       2746593\n",
              "18247  chrX         2746546       2746560\n",
              "18248  chrX         2746536       2746550\n",
              "18249  chrY         3452219       3452238\n",
              "18250  chr1          845357        845390\n",
              "\n",
              "[18251 rows x 3 columns]"
            ],
            "text/html": [
              "\n",
              "  <div id=\"df-45cb9199-05da-4352-ab07-be0e40d9deac\" class=\"colab-df-container\">\n",
              "    <div>\n",
              "<style scoped>\n",
              "    .dataframe tbody tr th:only-of-type {\n",
              "        vertical-align: middle;\n",
              "    }\n",
              "\n",
              "    .dataframe tbody tr th {\n",
              "        vertical-align: top;\n",
              "    }\n",
              "\n",
              "    .dataframe thead th {\n",
              "        text-align: right;\n",
              "    }\n",
              "</style>\n",
              "<table border=\"1\" class=\"dataframe\">\n",
              "  <thead>\n",
              "    <tr style=\"text-align: right;\">\n",
              "      <th></th>\n",
              "      <th>chrom</th>\n",
              "      <th>new_chromStart</th>\n",
              "      <th>new_chromEnd</th>\n",
              "    </tr>\n",
              "  </thead>\n",
              "  <tbody>\n",
              "    <tr>\n",
              "      <th>0</th>\n",
              "      <td>chr1</td>\n",
              "      <td>845352</td>\n",
              "      <td>845365</td>\n",
              "    </tr>\n",
              "    <tr>\n",
              "      <th>1</th>\n",
              "      <td>chr1</td>\n",
              "      <td>845296</td>\n",
              "      <td>845308</td>\n",
              "    </tr>\n",
              "    <tr>\n",
              "      <th>2</th>\n",
              "      <td>chr1</td>\n",
              "      <td>845377</td>\n",
              "      <td>845390</td>\n",
              "    </tr>\n",
              "    <tr>\n",
              "      <th>3</th>\n",
              "      <td>chr1</td>\n",
              "      <td>845296</td>\n",
              "      <td>845311</td>\n",
              "    </tr>\n",
              "    <tr>\n",
              "      <th>4</th>\n",
              "      <td>chr1</td>\n",
              "      <td>845358</td>\n",
              "      <td>845369</td>\n",
              "    </tr>\n",
              "    <tr>\n",
              "      <th>...</th>\n",
              "      <td>...</td>\n",
              "      <td>...</td>\n",
              "      <td>...</td>\n",
              "    </tr>\n",
              "    <tr>\n",
              "      <th>18246</th>\n",
              "      <td>chrX</td>\n",
              "      <td>2746572</td>\n",
              "      <td>2746593</td>\n",
              "    </tr>\n",
              "    <tr>\n",
              "      <th>18247</th>\n",
              "      <td>chrX</td>\n",
              "      <td>2746546</td>\n",
              "      <td>2746560</td>\n",
              "    </tr>\n",
              "    <tr>\n",
              "      <th>18248</th>\n",
              "      <td>chrX</td>\n",
              "      <td>2746536</td>\n",
              "      <td>2746550</td>\n",
              "    </tr>\n",
              "    <tr>\n",
              "      <th>18249</th>\n",
              "      <td>chrY</td>\n",
              "      <td>3452219</td>\n",
              "      <td>3452238</td>\n",
              "    </tr>\n",
              "    <tr>\n",
              "      <th>18250</th>\n",
              "      <td>chr1</td>\n",
              "      <td>845357</td>\n",
              "      <td>845390</td>\n",
              "    </tr>\n",
              "  </tbody>\n",
              "</table>\n",
              "<p>18251 rows × 3 columns</p>\n",
              "</div>\n",
              "    <div class=\"colab-df-buttons\">\n",
              "\n",
              "  <div class=\"colab-df-container\">\n",
              "    <button class=\"colab-df-convert\" onclick=\"convertToInteractive('df-45cb9199-05da-4352-ab07-be0e40d9deac')\"\n",
              "            title=\"Convert this dataframe to an interactive table.\"\n",
              "            style=\"display:none;\">\n",
              "\n",
              "  <svg xmlns=\"http://www.w3.org/2000/svg\" height=\"24px\" viewBox=\"0 -960 960 960\">\n",
              "    <path d=\"M120-120v-720h720v720H120Zm60-500h600v-160H180v160Zm220 220h160v-160H400v160Zm0 220h160v-160H400v160ZM180-400h160v-160H180v160Zm440 0h160v-160H620v160ZM180-180h160v-160H180v160Zm440 0h160v-160H620v160Z\"/>\n",
              "  </svg>\n",
              "    </button>\n",
              "\n",
              "  <style>\n",
              "    .colab-df-container {\n",
              "      display:flex;\n",
              "      gap: 12px;\n",
              "    }\n",
              "\n",
              "    .colab-df-convert {\n",
              "      background-color: #E8F0FE;\n",
              "      border: none;\n",
              "      border-radius: 50%;\n",
              "      cursor: pointer;\n",
              "      display: none;\n",
              "      fill: #1967D2;\n",
              "      height: 32px;\n",
              "      padding: 0 0 0 0;\n",
              "      width: 32px;\n",
              "    }\n",
              "\n",
              "    .colab-df-convert:hover {\n",
              "      background-color: #E2EBFA;\n",
              "      box-shadow: 0px 1px 2px rgba(60, 64, 67, 0.3), 0px 1px 3px 1px rgba(60, 64, 67, 0.15);\n",
              "      fill: #174EA6;\n",
              "    }\n",
              "\n",
              "    .colab-df-buttons div {\n",
              "      margin-bottom: 4px;\n",
              "    }\n",
              "\n",
              "    [theme=dark] .colab-df-convert {\n",
              "      background-color: #3B4455;\n",
              "      fill: #D2E3FC;\n",
              "    }\n",
              "\n",
              "    [theme=dark] .colab-df-convert:hover {\n",
              "      background-color: #434B5C;\n",
              "      box-shadow: 0px 1px 3px 1px rgba(0, 0, 0, 0.15);\n",
              "      filter: drop-shadow(0px 1px 2px rgba(0, 0, 0, 0.3));\n",
              "      fill: #FFFFFF;\n",
              "    }\n",
              "  </style>\n",
              "\n",
              "    <script>\n",
              "      const buttonEl =\n",
              "        document.querySelector('#df-45cb9199-05da-4352-ab07-be0e40d9deac button.colab-df-convert');\n",
              "      buttonEl.style.display =\n",
              "        google.colab.kernel.accessAllowed ? 'block' : 'none';\n",
              "\n",
              "      async function convertToInteractive(key) {\n",
              "        const element = document.querySelector('#df-45cb9199-05da-4352-ab07-be0e40d9deac');\n",
              "        const dataTable =\n",
              "          await google.colab.kernel.invokeFunction('convertToInteractive',\n",
              "                                                    [key], {});\n",
              "        if (!dataTable) return;\n",
              "\n",
              "        const docLinkHtml = 'Like what you see? Visit the ' +\n",
              "          '<a target=\"_blank\" href=https://colab.research.google.com/notebooks/data_table.ipynb>data table notebook</a>'\n",
              "          + ' to learn more about interactive tables.';\n",
              "        element.innerHTML = '';\n",
              "        dataTable['output_type'] = 'display_data';\n",
              "        await google.colab.output.renderOutput(dataTable, element);\n",
              "        const docLink = document.createElement('div');\n",
              "        docLink.innerHTML = docLinkHtml;\n",
              "        element.appendChild(docLink);\n",
              "      }\n",
              "    </script>\n",
              "  </div>\n",
              "\n",
              "\n",
              "<div id=\"df-7a641428-0831-4a9b-b10e-b5cb6a6c7493\">\n",
              "  <button class=\"colab-df-quickchart\" onclick=\"quickchart('df-7a641428-0831-4a9b-b10e-b5cb6a6c7493')\"\n",
              "            title=\"Suggest charts\"\n",
              "            style=\"display:none;\">\n",
              "\n",
              "<svg xmlns=\"http://www.w3.org/2000/svg\" height=\"24px\"viewBox=\"0 0 24 24\"\n",
              "     width=\"24px\">\n",
              "    <g>\n",
              "        <path d=\"M19 3H5c-1.1 0-2 .9-2 2v14c0 1.1.9 2 2 2h14c1.1 0 2-.9 2-2V5c0-1.1-.9-2-2-2zM9 17H7v-7h2v7zm4 0h-2V7h2v10zm4 0h-2v-4h2v4z\"/>\n",
              "    </g>\n",
              "</svg>\n",
              "  </button>\n",
              "\n",
              "<style>\n",
              "  .colab-df-quickchart {\n",
              "      --bg-color: #E8F0FE;\n",
              "      --fill-color: #1967D2;\n",
              "      --hover-bg-color: #E2EBFA;\n",
              "      --hover-fill-color: #174EA6;\n",
              "      --disabled-fill-color: #AAA;\n",
              "      --disabled-bg-color: #DDD;\n",
              "  }\n",
              "\n",
              "  [theme=dark] .colab-df-quickchart {\n",
              "      --bg-color: #3B4455;\n",
              "      --fill-color: #D2E3FC;\n",
              "      --hover-bg-color: #434B5C;\n",
              "      --hover-fill-color: #FFFFFF;\n",
              "      --disabled-bg-color: #3B4455;\n",
              "      --disabled-fill-color: #666;\n",
              "  }\n",
              "\n",
              "  .colab-df-quickchart {\n",
              "    background-color: var(--bg-color);\n",
              "    border: none;\n",
              "    border-radius: 50%;\n",
              "    cursor: pointer;\n",
              "    display: none;\n",
              "    fill: var(--fill-color);\n",
              "    height: 32px;\n",
              "    padding: 0;\n",
              "    width: 32px;\n",
              "  }\n",
              "\n",
              "  .colab-df-quickchart:hover {\n",
              "    background-color: var(--hover-bg-color);\n",
              "    box-shadow: 0 1px 2px rgba(60, 64, 67, 0.3), 0 1px 3px 1px rgba(60, 64, 67, 0.15);\n",
              "    fill: var(--button-hover-fill-color);\n",
              "  }\n",
              "\n",
              "  .colab-df-quickchart-complete:disabled,\n",
              "  .colab-df-quickchart-complete:disabled:hover {\n",
              "    background-color: var(--disabled-bg-color);\n",
              "    fill: var(--disabled-fill-color);\n",
              "    box-shadow: none;\n",
              "  }\n",
              "\n",
              "  .colab-df-spinner {\n",
              "    border: 2px solid var(--fill-color);\n",
              "    border-color: transparent;\n",
              "    border-bottom-color: var(--fill-color);\n",
              "    animation:\n",
              "      spin 1s steps(1) infinite;\n",
              "  }\n",
              "\n",
              "  @keyframes spin {\n",
              "    0% {\n",
              "      border-color: transparent;\n",
              "      border-bottom-color: var(--fill-color);\n",
              "      border-left-color: var(--fill-color);\n",
              "    }\n",
              "    20% {\n",
              "      border-color: transparent;\n",
              "      border-left-color: var(--fill-color);\n",
              "      border-top-color: var(--fill-color);\n",
              "    }\n",
              "    30% {\n",
              "      border-color: transparent;\n",
              "      border-left-color: var(--fill-color);\n",
              "      border-top-color: var(--fill-color);\n",
              "      border-right-color: var(--fill-color);\n",
              "    }\n",
              "    40% {\n",
              "      border-color: transparent;\n",
              "      border-right-color: var(--fill-color);\n",
              "      border-top-color: var(--fill-color);\n",
              "    }\n",
              "    60% {\n",
              "      border-color: transparent;\n",
              "      border-right-color: var(--fill-color);\n",
              "    }\n",
              "    80% {\n",
              "      border-color: transparent;\n",
              "      border-right-color: var(--fill-color);\n",
              "      border-bottom-color: var(--fill-color);\n",
              "    }\n",
              "    90% {\n",
              "      border-color: transparent;\n",
              "      border-bottom-color: var(--fill-color);\n",
              "    }\n",
              "  }\n",
              "</style>\n",
              "\n",
              "  <script>\n",
              "    async function quickchart(key) {\n",
              "      const quickchartButtonEl =\n",
              "        document.querySelector('#' + key + ' button');\n",
              "      quickchartButtonEl.disabled = true;  // To prevent multiple clicks.\n",
              "      quickchartButtonEl.classList.add('colab-df-spinner');\n",
              "      try {\n",
              "        const charts = await google.colab.kernel.invokeFunction(\n",
              "            'suggestCharts', [key], {});\n",
              "      } catch (error) {\n",
              "        console.error('Error during call to suggestCharts:', error);\n",
              "      }\n",
              "      quickchartButtonEl.classList.remove('colab-df-spinner');\n",
              "      quickchartButtonEl.classList.add('colab-df-quickchart-complete');\n",
              "    }\n",
              "    (() => {\n",
              "      let quickchartButtonEl =\n",
              "        document.querySelector('#df-7a641428-0831-4a9b-b10e-b5cb6a6c7493 button');\n",
              "      quickchartButtonEl.style.display =\n",
              "        google.colab.kernel.accessAllowed ? 'block' : 'none';\n",
              "    })();\n",
              "  </script>\n",
              "</div>\n",
              "    </div>\n",
              "  </div>\n"
            ]
          },
          "metadata": {},
          "execution_count": 15
        }
      ]
    },
    {
      "cell_type": "code",
      "source": [
        "import csv\n",
        "\n",
        "def csv_to_bed(csv_filename, bed_filename):\n",
        "    with open(csv_filename, 'r') as csv_file, open(bed_filename, 'w') as bed_file:\n",
        "        csv_reader = csv.reader(csv_file)\n",
        "        bed_writer = csv.writer(bed_file, delimiter='\\t')\n",
        "\n",
        "        for row in csv_reader:\n",
        "            chromosome = row[0]\n",
        "            start = row[1]\n",
        "            end = row[2]\n",
        "\n",
        "            additional_columns = row[3:]\n",
        "\n",
        "            # Write to BED file\n",
        "            bed_writer.writerow([chromosome, start, end] + additional_columns)"
      ],
      "metadata": {
        "id": "YveT3J9nEK0j"
      },
      "execution_count": null,
      "outputs": []
    },
    {
      "cell_type": "markdown",
      "source": [
        "# For classifier"
      ],
      "metadata": {
        "id": "2PS4Wo21SiPW"
      }
    },
    {
      "cell_type": "code",
      "source": [
        "csv_to_bed('/content/new_bed_diff.csv', 'new_bed_diff.bed')\n",
        "csv_to_bed('/content/new_bed_gan.csv', 'new_bed_gan.bed')\n",
        "csv_to_bed('/content/new_bed_vae.csv', 'new_bed_vae.bed')"
      ],
      "metadata": {
        "id": "OpLwtVQ_OBL4"
      },
      "execution_count": null,
      "outputs": []
    },
    {
      "cell_type": "code",
      "source": [
        "!mkdir sparse_vector"
      ],
      "metadata": {
        "id": "7GpJdi-jQAxW"
      },
      "execution_count": null,
      "outputs": []
    },
    {
      "cell_type": "code",
      "source": [
        "import pandas as pd\n",
        "from tqdm import tqdm_notebook, tqdm\n",
        "from collections import defaultdict\n",
        "import numpy as np\n",
        "from sparse_vector.sparse_vector import SparseVector\n",
        "import os\n",
        "from joblib import load, dump, Parallel, delayed\n",
        "\n",
        "taget_antigen = ['DNase-seq', 'Histone', 'RNA polymerase', 'TFs and others']\n",
        "chroms = [f'chr{i}' for i in list(range(1, 23)) + ['X', 'Y','M']]"
      ],
      "metadata": {
        "id": "MUkpbkSNPLbq"
      },
      "execution_count": null,
      "outputs": []
    },
    {
      "cell_type": "code",
      "source": [
        "def chrom_reader(chrom):\n",
        "    files = sorted([i for i in os.listdir(f'/content/drive/MyDrive/DeepZ_data_creation/data/hg19_dna/') if f\"{chrom}_\" in i])\n",
        "    return ''.join([load(f\"/content/drive/MyDrive/DeepZ_data_creation/data/hg19_dna/{file}\") for file in files])"
      ],
      "metadata": {
        "id": "tVfMLoNuPL9R"
      },
      "execution_count": null,
      "outputs": []
    },
    {
      "cell_type": "code",
      "source": [
        "dna = {chrom:chrom_reader(chrom) for chrom in tqdm_notebook(chroms)}\n",
        "lens_of_chroms = {chrom: len(dna[chrom]) for chrom in dna}\n",
        "del dna"
      ],
      "metadata": {
        "colab": {
          "base_uri": "https://localhost:8080/",
          "height": 101,
          "referenced_widgets": [
            "706becc38c114299b2ba573e01a6d839",
            "c5a6aaf059fa4bf188870ee2eea60ddc",
            "353606489a8a44dbab7b59792456496e",
            "55033a95dcf34f5dacefbbd02d03d7fb",
            "485dddc8f9db471998f03bf6249febe5",
            "bbdb751c00464f02a9fb054786657543",
            "2b8b9d88b2e8477198da9f06ab543814",
            "5523e801fa2b4723bf07fcff0ff55fe5",
            "be986ac16e384cc9b26ec9d94bd12fad",
            "e6faac7d5c78491282a6db596740b847",
            "000ed91b07ef4a80a63448bb02591b37"
          ]
        },
        "id": "kMf0ucZjPUdN",
        "outputId": "eb346bda-03cb-4d4f-9635-de4bf74efb63"
      },
      "execution_count": null,
      "outputs": [
        {
          "output_type": "stream",
          "name": "stderr",
          "text": [
            "<ipython-input-6-0227fbfed577>:1: TqdmDeprecationWarning: This function will be removed in tqdm==5.0.0\n",
            "Please use `tqdm.notebook.tqdm` instead of `tqdm.tqdm_notebook`\n",
            "  dna = {chrom:chrom_reader(chrom) for chrom in tqdm_notebook(chroms)}\n"
          ]
        },
        {
          "output_type": "display_data",
          "data": {
            "text/plain": [
              "  0%|          | 0/25 [00:00<?, ?it/s]"
            ],
            "application/vnd.jupyter.widget-view+json": {
              "version_major": 2,
              "version_minor": 0,
              "model_id": "706becc38c114299b2ba573e01a6d839"
            }
          },
          "metadata": {}
        }
      ]
    },
    {
      "cell_type": "code",
      "source": [
        "files = sorted(os.listdir('/content/drive/MyDrive/DeepZ_data_creation/data/hg19_features/raw/'))[::-1]\n",
        "\n",
        "def sparser(file, lens_of_chroms, chroms):\n",
        "#     print(file)\n",
        "    loc_dd = {}\n",
        "    df = pd.read_csv(f'/content/drive/MyDrive/DeepZ_data_creation/data/hg19_features/raw/{file}', header=None, sep='\\t')\n",
        "    for chrom, sub_df in tqdm(df.groupby(0), desc=file):\n",
        "        if chrom not in chroms:\n",
        "            continue\n",
        "        vec = np.zeros(lens_of_chroms[chrom])\n",
        "        for inter in sub_df.values:\n",
        "            vec[inter[1]:inter[2]+1] = np.maximum(vec[inter[1]:inter[2]+1], inter[4])\n",
        "        loc_dd[chrom] = SparseVector(vec)\n",
        "\n",
        "    dump(loc_dd, f'/content/drive/MyDrive/DeepZ_data_creation/data/hg19_features/sparse/{file[:-4]}.pkl', 3)"
      ],
      "metadata": {
        "id": "ykcJyVySQ1JN"
      },
      "execution_count": null,
      "outputs": []
    },
    {
      "cell_type": "code",
      "source": [
        "done_files = set([i[:-4] for i in os.listdir('/content/drive/MyDrive/DeepZ_data_creation/data/hg19_features/sparse/')])\n",
        "files = [file for file in files if file[:-4] not in done_files]"
      ],
      "metadata": {
        "id": "hfrmm5JMQ7ac"
      },
      "execution_count": null,
      "outputs": []
    },
    {
      "cell_type": "code",
      "source": [
        "Parallel(n_jobs = -1,\n",
        "         backend= \"multiprocessing\")(delayed(sparser)(file, lens_of_chroms, chroms)\n",
        "                                      for file in files if file.endswith('.bed'))"
      ],
      "metadata": {
        "id": "i4lbXlu5RAGY"
      },
      "execution_count": null,
      "outputs": []
    },
    {
      "cell_type": "markdown",
      "source": [
        "Convert beds to DeepZ format"
      ],
      "metadata": {
        "id": "QAFDhAUkPXgp"
      }
    },
    {
      "cell_type": "code",
      "source": [
        "loc_dd = {chrm:SparseVector(lens_of_chroms[chrm]) for chrm in chroms}\n",
        "df = pd.read_csv(f'new_bed_diff.bed', sep='\\t')\n",
        "for chrom, sub_df in tqdm(df.groupby('chrom')):\n",
        "    if chrom not in chroms:\n",
        "        continue\n",
        "    vec = np.zeros(lens_of_chroms[chrom])\n",
        "    for inter in sub_df.values:\n",
        "        vec[inter[1]:inter[2]+1] = np.maximum(vec[inter[1]:inter[2]+1], 1)\n",
        "    loc_dd[chrom] = SparseVector(vec)\n",
        "\n",
        "dump(loc_dd, f'new_bed_diff.pkl', 3)"
      ],
      "metadata": {
        "colab": {
          "base_uri": "https://localhost:8080/"
        },
        "id": "S-WHGioiPbTF",
        "outputId": "27bc35e1-3bd3-4120-e562-f43815227c55"
      },
      "execution_count": null,
      "outputs": [
        {
          "output_type": "stream",
          "name": "stderr",
          "text": [
            "100%|██████████| 25/25 [00:31<00:00,  1.27s/it]\n"
          ]
        },
        {
          "output_type": "execute_result",
          "data": {
            "text/plain": [
              "['new_bed_diff.pkl']"
            ]
          },
          "metadata": {},
          "execution_count": 16
        }
      ]
    },
    {
      "cell_type": "code",
      "source": [
        "df"
      ],
      "metadata": {
        "colab": {
          "base_uri": "https://localhost:8080/",
          "height": 423
        },
        "id": "KAGr6te-Rvi3",
        "outputId": "3c7429ef-444b-4526-e4a2-2f26ca7f96ef"
      },
      "execution_count": null,
      "outputs": [
        {
          "output_type": "execute_result",
          "data": {
            "text/plain": [
              "      chrom  new_chromStart  new_chromEnd\n",
              "0      chr1          845339        845353\n",
              "1      chr1          845336        845353\n",
              "2      chr1          845337        845354\n",
              "3      chr1          845354        845369\n",
              "4      chr1          845338        845353\n",
              "...     ...             ...           ...\n",
              "51741  chrX         2746576       2746593\n",
              "51742  chrX         2746602       2746621\n",
              "51743  chrX         2746579       2746599\n",
              "51744  chrX         2746575       2746595\n",
              "51745  chrX         2746572       2746595\n",
              "\n",
              "[51746 rows x 3 columns]"
            ],
            "text/html": [
              "\n",
              "  <div id=\"df-2a62bbf4-9278-4ef2-9452-3bb5da9390c4\" class=\"colab-df-container\">\n",
              "    <div>\n",
              "<style scoped>\n",
              "    .dataframe tbody tr th:only-of-type {\n",
              "        vertical-align: middle;\n",
              "    }\n",
              "\n",
              "    .dataframe tbody tr th {\n",
              "        vertical-align: top;\n",
              "    }\n",
              "\n",
              "    .dataframe thead th {\n",
              "        text-align: right;\n",
              "    }\n",
              "</style>\n",
              "<table border=\"1\" class=\"dataframe\">\n",
              "  <thead>\n",
              "    <tr style=\"text-align: right;\">\n",
              "      <th></th>\n",
              "      <th>chrom</th>\n",
              "      <th>new_chromStart</th>\n",
              "      <th>new_chromEnd</th>\n",
              "    </tr>\n",
              "  </thead>\n",
              "  <tbody>\n",
              "    <tr>\n",
              "      <th>0</th>\n",
              "      <td>chr1</td>\n",
              "      <td>845339</td>\n",
              "      <td>845353</td>\n",
              "    </tr>\n",
              "    <tr>\n",
              "      <th>1</th>\n",
              "      <td>chr1</td>\n",
              "      <td>845336</td>\n",
              "      <td>845353</td>\n",
              "    </tr>\n",
              "    <tr>\n",
              "      <th>2</th>\n",
              "      <td>chr1</td>\n",
              "      <td>845337</td>\n",
              "      <td>845354</td>\n",
              "    </tr>\n",
              "    <tr>\n",
              "      <th>3</th>\n",
              "      <td>chr1</td>\n",
              "      <td>845354</td>\n",
              "      <td>845369</td>\n",
              "    </tr>\n",
              "    <tr>\n",
              "      <th>4</th>\n",
              "      <td>chr1</td>\n",
              "      <td>845338</td>\n",
              "      <td>845353</td>\n",
              "    </tr>\n",
              "    <tr>\n",
              "      <th>...</th>\n",
              "      <td>...</td>\n",
              "      <td>...</td>\n",
              "      <td>...</td>\n",
              "    </tr>\n",
              "    <tr>\n",
              "      <th>51741</th>\n",
              "      <td>chrX</td>\n",
              "      <td>2746576</td>\n",
              "      <td>2746593</td>\n",
              "    </tr>\n",
              "    <tr>\n",
              "      <th>51742</th>\n",
              "      <td>chrX</td>\n",
              "      <td>2746602</td>\n",
              "      <td>2746621</td>\n",
              "    </tr>\n",
              "    <tr>\n",
              "      <th>51743</th>\n",
              "      <td>chrX</td>\n",
              "      <td>2746579</td>\n",
              "      <td>2746599</td>\n",
              "    </tr>\n",
              "    <tr>\n",
              "      <th>51744</th>\n",
              "      <td>chrX</td>\n",
              "      <td>2746575</td>\n",
              "      <td>2746595</td>\n",
              "    </tr>\n",
              "    <tr>\n",
              "      <th>51745</th>\n",
              "      <td>chrX</td>\n",
              "      <td>2746572</td>\n",
              "      <td>2746595</td>\n",
              "    </tr>\n",
              "  </tbody>\n",
              "</table>\n",
              "<p>51746 rows × 3 columns</p>\n",
              "</div>\n",
              "    <div class=\"colab-df-buttons\">\n",
              "\n",
              "  <div class=\"colab-df-container\">\n",
              "    <button class=\"colab-df-convert\" onclick=\"convertToInteractive('df-2a62bbf4-9278-4ef2-9452-3bb5da9390c4')\"\n",
              "            title=\"Convert this dataframe to an interactive table.\"\n",
              "            style=\"display:none;\">\n",
              "\n",
              "  <svg xmlns=\"http://www.w3.org/2000/svg\" height=\"24px\" viewBox=\"0 -960 960 960\">\n",
              "    <path d=\"M120-120v-720h720v720H120Zm60-500h600v-160H180v160Zm220 220h160v-160H400v160Zm0 220h160v-160H400v160ZM180-400h160v-160H180v160Zm440 0h160v-160H620v160ZM180-180h160v-160H180v160Zm440 0h160v-160H620v160Z\"/>\n",
              "  </svg>\n",
              "    </button>\n",
              "\n",
              "  <style>\n",
              "    .colab-df-container {\n",
              "      display:flex;\n",
              "      gap: 12px;\n",
              "    }\n",
              "\n",
              "    .colab-df-convert {\n",
              "      background-color: #E8F0FE;\n",
              "      border: none;\n",
              "      border-radius: 50%;\n",
              "      cursor: pointer;\n",
              "      display: none;\n",
              "      fill: #1967D2;\n",
              "      height: 32px;\n",
              "      padding: 0 0 0 0;\n",
              "      width: 32px;\n",
              "    }\n",
              "\n",
              "    .colab-df-convert:hover {\n",
              "      background-color: #E2EBFA;\n",
              "      box-shadow: 0px 1px 2px rgba(60, 64, 67, 0.3), 0px 1px 3px 1px rgba(60, 64, 67, 0.15);\n",
              "      fill: #174EA6;\n",
              "    }\n",
              "\n",
              "    .colab-df-buttons div {\n",
              "      margin-bottom: 4px;\n",
              "    }\n",
              "\n",
              "    [theme=dark] .colab-df-convert {\n",
              "      background-color: #3B4455;\n",
              "      fill: #D2E3FC;\n",
              "    }\n",
              "\n",
              "    [theme=dark] .colab-df-convert:hover {\n",
              "      background-color: #434B5C;\n",
              "      box-shadow: 0px 1px 3px 1px rgba(0, 0, 0, 0.15);\n",
              "      filter: drop-shadow(0px 1px 2px rgba(0, 0, 0, 0.3));\n",
              "      fill: #FFFFFF;\n",
              "    }\n",
              "  </style>\n",
              "\n",
              "    <script>\n",
              "      const buttonEl =\n",
              "        document.querySelector('#df-2a62bbf4-9278-4ef2-9452-3bb5da9390c4 button.colab-df-convert');\n",
              "      buttonEl.style.display =\n",
              "        google.colab.kernel.accessAllowed ? 'block' : 'none';\n",
              "\n",
              "      async function convertToInteractive(key) {\n",
              "        const element = document.querySelector('#df-2a62bbf4-9278-4ef2-9452-3bb5da9390c4');\n",
              "        const dataTable =\n",
              "          await google.colab.kernel.invokeFunction('convertToInteractive',\n",
              "                                                    [key], {});\n",
              "        if (!dataTable) return;\n",
              "\n",
              "        const docLinkHtml = 'Like what you see? Visit the ' +\n",
              "          '<a target=\"_blank\" href=https://colab.research.google.com/notebooks/data_table.ipynb>data table notebook</a>'\n",
              "          + ' to learn more about interactive tables.';\n",
              "        element.innerHTML = '';\n",
              "        dataTable['output_type'] = 'display_data';\n",
              "        await google.colab.output.renderOutput(dataTable, element);\n",
              "        const docLink = document.createElement('div');\n",
              "        docLink.innerHTML = docLinkHtml;\n",
              "        element.appendChild(docLink);\n",
              "      }\n",
              "    </script>\n",
              "  </div>\n",
              "\n",
              "\n",
              "<div id=\"df-8e751f99-3667-4916-9a41-199ffca96231\">\n",
              "  <button class=\"colab-df-quickchart\" onclick=\"quickchart('df-8e751f99-3667-4916-9a41-199ffca96231')\"\n",
              "            title=\"Suggest charts\"\n",
              "            style=\"display:none;\">\n",
              "\n",
              "<svg xmlns=\"http://www.w3.org/2000/svg\" height=\"24px\"viewBox=\"0 0 24 24\"\n",
              "     width=\"24px\">\n",
              "    <g>\n",
              "        <path d=\"M19 3H5c-1.1 0-2 .9-2 2v14c0 1.1.9 2 2 2h14c1.1 0 2-.9 2-2V5c0-1.1-.9-2-2-2zM9 17H7v-7h2v7zm4 0h-2V7h2v10zm4 0h-2v-4h2v4z\"/>\n",
              "    </g>\n",
              "</svg>\n",
              "  </button>\n",
              "\n",
              "<style>\n",
              "  .colab-df-quickchart {\n",
              "      --bg-color: #E8F0FE;\n",
              "      --fill-color: #1967D2;\n",
              "      --hover-bg-color: #E2EBFA;\n",
              "      --hover-fill-color: #174EA6;\n",
              "      --disabled-fill-color: #AAA;\n",
              "      --disabled-bg-color: #DDD;\n",
              "  }\n",
              "\n",
              "  [theme=dark] .colab-df-quickchart {\n",
              "      --bg-color: #3B4455;\n",
              "      --fill-color: #D2E3FC;\n",
              "      --hover-bg-color: #434B5C;\n",
              "      --hover-fill-color: #FFFFFF;\n",
              "      --disabled-bg-color: #3B4455;\n",
              "      --disabled-fill-color: #666;\n",
              "  }\n",
              "\n",
              "  .colab-df-quickchart {\n",
              "    background-color: var(--bg-color);\n",
              "    border: none;\n",
              "    border-radius: 50%;\n",
              "    cursor: pointer;\n",
              "    display: none;\n",
              "    fill: var(--fill-color);\n",
              "    height: 32px;\n",
              "    padding: 0;\n",
              "    width: 32px;\n",
              "  }\n",
              "\n",
              "  .colab-df-quickchart:hover {\n",
              "    background-color: var(--hover-bg-color);\n",
              "    box-shadow: 0 1px 2px rgba(60, 64, 67, 0.3), 0 1px 3px 1px rgba(60, 64, 67, 0.15);\n",
              "    fill: var(--button-hover-fill-color);\n",
              "  }\n",
              "\n",
              "  .colab-df-quickchart-complete:disabled,\n",
              "  .colab-df-quickchart-complete:disabled:hover {\n",
              "    background-color: var(--disabled-bg-color);\n",
              "    fill: var(--disabled-fill-color);\n",
              "    box-shadow: none;\n",
              "  }\n",
              "\n",
              "  .colab-df-spinner {\n",
              "    border: 2px solid var(--fill-color);\n",
              "    border-color: transparent;\n",
              "    border-bottom-color: var(--fill-color);\n",
              "    animation:\n",
              "      spin 1s steps(1) infinite;\n",
              "  }\n",
              "\n",
              "  @keyframes spin {\n",
              "    0% {\n",
              "      border-color: transparent;\n",
              "      border-bottom-color: var(--fill-color);\n",
              "      border-left-color: var(--fill-color);\n",
              "    }\n",
              "    20% {\n",
              "      border-color: transparent;\n",
              "      border-left-color: var(--fill-color);\n",
              "      border-top-color: var(--fill-color);\n",
              "    }\n",
              "    30% {\n",
              "      border-color: transparent;\n",
              "      border-left-color: var(--fill-color);\n",
              "      border-top-color: var(--fill-color);\n",
              "      border-right-color: var(--fill-color);\n",
              "    }\n",
              "    40% {\n",
              "      border-color: transparent;\n",
              "      border-right-color: var(--fill-color);\n",
              "      border-top-color: var(--fill-color);\n",
              "    }\n",
              "    60% {\n",
              "      border-color: transparent;\n",
              "      border-right-color: var(--fill-color);\n",
              "    }\n",
              "    80% {\n",
              "      border-color: transparent;\n",
              "      border-right-color: var(--fill-color);\n",
              "      border-bottom-color: var(--fill-color);\n",
              "    }\n",
              "    90% {\n",
              "      border-color: transparent;\n",
              "      border-bottom-color: var(--fill-color);\n",
              "    }\n",
              "  }\n",
              "</style>\n",
              "\n",
              "  <script>\n",
              "    async function quickchart(key) {\n",
              "      const quickchartButtonEl =\n",
              "        document.querySelector('#' + key + ' button');\n",
              "      quickchartButtonEl.disabled = true;  // To prevent multiple clicks.\n",
              "      quickchartButtonEl.classList.add('colab-df-spinner');\n",
              "      try {\n",
              "        const charts = await google.colab.kernel.invokeFunction(\n",
              "            'suggestCharts', [key], {});\n",
              "      } catch (error) {\n",
              "        console.error('Error during call to suggestCharts:', error);\n",
              "      }\n",
              "      quickchartButtonEl.classList.remove('colab-df-spinner');\n",
              "      quickchartButtonEl.classList.add('colab-df-quickchart-complete');\n",
              "    }\n",
              "    (() => {\n",
              "      let quickchartButtonEl =\n",
              "        document.querySelector('#df-8e751f99-3667-4916-9a41-199ffca96231 button');\n",
              "      quickchartButtonEl.style.display =\n",
              "        google.colab.kernel.accessAllowed ? 'block' : 'none';\n",
              "    })();\n",
              "  </script>\n",
              "</div>\n",
              "    </div>\n",
              "  </div>\n"
            ]
          },
          "metadata": {},
          "execution_count": 20
        }
      ]
    },
    {
      "cell_type": "code",
      "source": [
        "df = pd.read_csv(f'new_bed_vae.bed', sep='\\t')\n",
        "for chrom, sub_df in tqdm(df.groupby('chrom')):\n",
        "    if chrom not in chroms:\n",
        "        continue\n",
        "    vec = np.zeros(lens_of_chroms[chrom])\n",
        "    for inter in sub_df.values:\n",
        "        vec[inter[1]:inter[2]+1] = np.maximum(vec[inter[1]:inter[2]+1], 1)\n",
        "    loc_dd[chrom] = SparseVector(vec)\n",
        "\n",
        "dump(loc_dd, f'new_bed_vae.pkl', 3)"
      ],
      "metadata": {
        "colab": {
          "base_uri": "https://localhost:8080/"
        },
        "id": "_kSN10L9QNSZ",
        "outputId": "f7131691-519e-495d-a3cb-b37a39505750"
      },
      "execution_count": null,
      "outputs": [
        {
          "output_type": "stream",
          "name": "stderr",
          "text": [
            "100%|██████████| 25/25 [00:28<00:00,  1.15s/it]\n"
          ]
        },
        {
          "output_type": "execute_result",
          "data": {
            "text/plain": [
              "['new_bed_vae.pkl']"
            ]
          },
          "metadata": {},
          "execution_count": 19
        }
      ]
    },
    {
      "cell_type": "code",
      "source": [
        "df = pd.read_csv(f'new_bed_gan.bed', sep='\\t')\n",
        "for chrom, sub_df in tqdm(df.groupby('chrom')):\n",
        "    if chrom not in chroms:\n",
        "        continue\n",
        "    vec = np.zeros(lens_of_chroms[chrom])\n",
        "    for inter in sub_df.values:\n",
        "        vec[inter[1]:inter[2]+1] = np.maximum(vec[inter[1]:inter[2]+1], 1)\n",
        "    loc_dd[chrom] = SparseVector(vec)\n",
        "\n",
        "dump(loc_dd, f'new_bed_gan.pkl', 3)"
      ],
      "metadata": {
        "colab": {
          "base_uri": "https://localhost:8080/"
        },
        "id": "k9oSG69LQNU9",
        "outputId": "aa43c328-c388-4048-de99-18f60147677f"
      },
      "execution_count": null,
      "outputs": [
        {
          "output_type": "stream",
          "name": "stderr",
          "text": [
            "100%|██████████| 25/25 [00:27<00:00,  1.11s/it]\n"
          ]
        },
        {
          "output_type": "execute_result",
          "data": {
            "text/plain": [
              "['new_bed_gan.pkl']"
            ]
          },
          "metadata": {},
          "execution_count": 21
        }
      ]
    },
    {
      "cell_type": "code",
      "source": [
        "df1 = pd.read_csv(f'/content/WuKou16.bed', sep='\\t', header=None)\n",
        "df2 = pd.read_csv(f'/content/zdna2016.bed', sep='\\t', header=None)"
      ],
      "metadata": {
        "id": "FnHQcUPTS8TO"
      },
      "execution_count": null,
      "outputs": []
    },
    {
      "cell_type": "code",
      "source": [
        "columns = [\"chrom\", \"start\", \"end\"]"
      ],
      "metadata": {
        "id": "kJz9QTxYUzgO"
      },
      "execution_count": null,
      "outputs": []
    },
    {
      "cell_type": "code",
      "source": [
        "df1.columns, df2.columns = columns, columns"
      ],
      "metadata": {
        "id": "0QaCbIUdU7ZB"
      },
      "execution_count": null,
      "outputs": []
    },
    {
      "cell_type": "code",
      "source": [
        "df1"
      ],
      "metadata": {
        "colab": {
          "base_uri": "https://localhost:8080/",
          "height": 423
        },
        "id": "jHTapv-KUqKj",
        "outputId": "1565cb89-bda8-4afc-8e6a-e37c24948984"
      },
      "execution_count": null,
      "outputs": [
        {
          "output_type": "execute_result",
          "data": {
            "text/plain": [
              "       chrom      start        end\n",
              "0       chr1     845543     845560\n",
              "1       chr1     845627     845642\n",
              "2       chr1     846050     846065\n",
              "3       chr1     846142     846161\n",
              "4       chr1     848436     848452\n",
              "...      ...        ...        ...\n",
              "44295  chr14   74222812   74223196\n",
              "44296  chr16   80837960   80838344\n",
              "44297   chr1  149982538  149982922\n",
              "44298   chr3  150321147  150321531\n",
              "44299   chr1  226898922  226899306\n",
              "\n",
              "[44300 rows x 3 columns]"
            ],
            "text/html": [
              "\n",
              "  <div id=\"df-9b837d42-997c-48b6-be87-b9a9d3c780ae\" class=\"colab-df-container\">\n",
              "    <div>\n",
              "<style scoped>\n",
              "    .dataframe tbody tr th:only-of-type {\n",
              "        vertical-align: middle;\n",
              "    }\n",
              "\n",
              "    .dataframe tbody tr th {\n",
              "        vertical-align: top;\n",
              "    }\n",
              "\n",
              "    .dataframe thead th {\n",
              "        text-align: right;\n",
              "    }\n",
              "</style>\n",
              "<table border=\"1\" class=\"dataframe\">\n",
              "  <thead>\n",
              "    <tr style=\"text-align: right;\">\n",
              "      <th></th>\n",
              "      <th>chrom</th>\n",
              "      <th>start</th>\n",
              "      <th>end</th>\n",
              "    </tr>\n",
              "  </thead>\n",
              "  <tbody>\n",
              "    <tr>\n",
              "      <th>0</th>\n",
              "      <td>chr1</td>\n",
              "      <td>845543</td>\n",
              "      <td>845560</td>\n",
              "    </tr>\n",
              "    <tr>\n",
              "      <th>1</th>\n",
              "      <td>chr1</td>\n",
              "      <td>845627</td>\n",
              "      <td>845642</td>\n",
              "    </tr>\n",
              "    <tr>\n",
              "      <th>2</th>\n",
              "      <td>chr1</td>\n",
              "      <td>846050</td>\n",
              "      <td>846065</td>\n",
              "    </tr>\n",
              "    <tr>\n",
              "      <th>3</th>\n",
              "      <td>chr1</td>\n",
              "      <td>846142</td>\n",
              "      <td>846161</td>\n",
              "    </tr>\n",
              "    <tr>\n",
              "      <th>4</th>\n",
              "      <td>chr1</td>\n",
              "      <td>848436</td>\n",
              "      <td>848452</td>\n",
              "    </tr>\n",
              "    <tr>\n",
              "      <th>...</th>\n",
              "      <td>...</td>\n",
              "      <td>...</td>\n",
              "      <td>...</td>\n",
              "    </tr>\n",
              "    <tr>\n",
              "      <th>44295</th>\n",
              "      <td>chr14</td>\n",
              "      <td>74222812</td>\n",
              "      <td>74223196</td>\n",
              "    </tr>\n",
              "    <tr>\n",
              "      <th>44296</th>\n",
              "      <td>chr16</td>\n",
              "      <td>80837960</td>\n",
              "      <td>80838344</td>\n",
              "    </tr>\n",
              "    <tr>\n",
              "      <th>44297</th>\n",
              "      <td>chr1</td>\n",
              "      <td>149982538</td>\n",
              "      <td>149982922</td>\n",
              "    </tr>\n",
              "    <tr>\n",
              "      <th>44298</th>\n",
              "      <td>chr3</td>\n",
              "      <td>150321147</td>\n",
              "      <td>150321531</td>\n",
              "    </tr>\n",
              "    <tr>\n",
              "      <th>44299</th>\n",
              "      <td>chr1</td>\n",
              "      <td>226898922</td>\n",
              "      <td>226899306</td>\n",
              "    </tr>\n",
              "  </tbody>\n",
              "</table>\n",
              "<p>44300 rows × 3 columns</p>\n",
              "</div>\n",
              "    <div class=\"colab-df-buttons\">\n",
              "\n",
              "  <div class=\"colab-df-container\">\n",
              "    <button class=\"colab-df-convert\" onclick=\"convertToInteractive('df-9b837d42-997c-48b6-be87-b9a9d3c780ae')\"\n",
              "            title=\"Convert this dataframe to an interactive table.\"\n",
              "            style=\"display:none;\">\n",
              "\n",
              "  <svg xmlns=\"http://www.w3.org/2000/svg\" height=\"24px\" viewBox=\"0 -960 960 960\">\n",
              "    <path d=\"M120-120v-720h720v720H120Zm60-500h600v-160H180v160Zm220 220h160v-160H400v160Zm0 220h160v-160H400v160ZM180-400h160v-160H180v160Zm440 0h160v-160H620v160ZM180-180h160v-160H180v160Zm440 0h160v-160H620v160Z\"/>\n",
              "  </svg>\n",
              "    </button>\n",
              "\n",
              "  <style>\n",
              "    .colab-df-container {\n",
              "      display:flex;\n",
              "      gap: 12px;\n",
              "    }\n",
              "\n",
              "    .colab-df-convert {\n",
              "      background-color: #E8F0FE;\n",
              "      border: none;\n",
              "      border-radius: 50%;\n",
              "      cursor: pointer;\n",
              "      display: none;\n",
              "      fill: #1967D2;\n",
              "      height: 32px;\n",
              "      padding: 0 0 0 0;\n",
              "      width: 32px;\n",
              "    }\n",
              "\n",
              "    .colab-df-convert:hover {\n",
              "      background-color: #E2EBFA;\n",
              "      box-shadow: 0px 1px 2px rgba(60, 64, 67, 0.3), 0px 1px 3px 1px rgba(60, 64, 67, 0.15);\n",
              "      fill: #174EA6;\n",
              "    }\n",
              "\n",
              "    .colab-df-buttons div {\n",
              "      margin-bottom: 4px;\n",
              "    }\n",
              "\n",
              "    [theme=dark] .colab-df-convert {\n",
              "      background-color: #3B4455;\n",
              "      fill: #D2E3FC;\n",
              "    }\n",
              "\n",
              "    [theme=dark] .colab-df-convert:hover {\n",
              "      background-color: #434B5C;\n",
              "      box-shadow: 0px 1px 3px 1px rgba(0, 0, 0, 0.15);\n",
              "      filter: drop-shadow(0px 1px 2px rgba(0, 0, 0, 0.3));\n",
              "      fill: #FFFFFF;\n",
              "    }\n",
              "  </style>\n",
              "\n",
              "    <script>\n",
              "      const buttonEl =\n",
              "        document.querySelector('#df-9b837d42-997c-48b6-be87-b9a9d3c780ae button.colab-df-convert');\n",
              "      buttonEl.style.display =\n",
              "        google.colab.kernel.accessAllowed ? 'block' : 'none';\n",
              "\n",
              "      async function convertToInteractive(key) {\n",
              "        const element = document.querySelector('#df-9b837d42-997c-48b6-be87-b9a9d3c780ae');\n",
              "        const dataTable =\n",
              "          await google.colab.kernel.invokeFunction('convertToInteractive',\n",
              "                                                    [key], {});\n",
              "        if (!dataTable) return;\n",
              "\n",
              "        const docLinkHtml = 'Like what you see? Visit the ' +\n",
              "          '<a target=\"_blank\" href=https://colab.research.google.com/notebooks/data_table.ipynb>data table notebook</a>'\n",
              "          + ' to learn more about interactive tables.';\n",
              "        element.innerHTML = '';\n",
              "        dataTable['output_type'] = 'display_data';\n",
              "        await google.colab.output.renderOutput(dataTable, element);\n",
              "        const docLink = document.createElement('div');\n",
              "        docLink.innerHTML = docLinkHtml;\n",
              "        element.appendChild(docLink);\n",
              "      }\n",
              "    </script>\n",
              "  </div>\n",
              "\n",
              "\n",
              "<div id=\"df-7ab0a142-4e7f-40d9-8458-4b7f834c6622\">\n",
              "  <button class=\"colab-df-quickchart\" onclick=\"quickchart('df-7ab0a142-4e7f-40d9-8458-4b7f834c6622')\"\n",
              "            title=\"Suggest charts\"\n",
              "            style=\"display:none;\">\n",
              "\n",
              "<svg xmlns=\"http://www.w3.org/2000/svg\" height=\"24px\"viewBox=\"0 0 24 24\"\n",
              "     width=\"24px\">\n",
              "    <g>\n",
              "        <path d=\"M19 3H5c-1.1 0-2 .9-2 2v14c0 1.1.9 2 2 2h14c1.1 0 2-.9 2-2V5c0-1.1-.9-2-2-2zM9 17H7v-7h2v7zm4 0h-2V7h2v10zm4 0h-2v-4h2v4z\"/>\n",
              "    </g>\n",
              "</svg>\n",
              "  </button>\n",
              "\n",
              "<style>\n",
              "  .colab-df-quickchart {\n",
              "      --bg-color: #E8F0FE;\n",
              "      --fill-color: #1967D2;\n",
              "      --hover-bg-color: #E2EBFA;\n",
              "      --hover-fill-color: #174EA6;\n",
              "      --disabled-fill-color: #AAA;\n",
              "      --disabled-bg-color: #DDD;\n",
              "  }\n",
              "\n",
              "  [theme=dark] .colab-df-quickchart {\n",
              "      --bg-color: #3B4455;\n",
              "      --fill-color: #D2E3FC;\n",
              "      --hover-bg-color: #434B5C;\n",
              "      --hover-fill-color: #FFFFFF;\n",
              "      --disabled-bg-color: #3B4455;\n",
              "      --disabled-fill-color: #666;\n",
              "  }\n",
              "\n",
              "  .colab-df-quickchart {\n",
              "    background-color: var(--bg-color);\n",
              "    border: none;\n",
              "    border-radius: 50%;\n",
              "    cursor: pointer;\n",
              "    display: none;\n",
              "    fill: var(--fill-color);\n",
              "    height: 32px;\n",
              "    padding: 0;\n",
              "    width: 32px;\n",
              "  }\n",
              "\n",
              "  .colab-df-quickchart:hover {\n",
              "    background-color: var(--hover-bg-color);\n",
              "    box-shadow: 0 1px 2px rgba(60, 64, 67, 0.3), 0 1px 3px 1px rgba(60, 64, 67, 0.15);\n",
              "    fill: var(--button-hover-fill-color);\n",
              "  }\n",
              "\n",
              "  .colab-df-quickchart-complete:disabled,\n",
              "  .colab-df-quickchart-complete:disabled:hover {\n",
              "    background-color: var(--disabled-bg-color);\n",
              "    fill: var(--disabled-fill-color);\n",
              "    box-shadow: none;\n",
              "  }\n",
              "\n",
              "  .colab-df-spinner {\n",
              "    border: 2px solid var(--fill-color);\n",
              "    border-color: transparent;\n",
              "    border-bottom-color: var(--fill-color);\n",
              "    animation:\n",
              "      spin 1s steps(1) infinite;\n",
              "  }\n",
              "\n",
              "  @keyframes spin {\n",
              "    0% {\n",
              "      border-color: transparent;\n",
              "      border-bottom-color: var(--fill-color);\n",
              "      border-left-color: var(--fill-color);\n",
              "    }\n",
              "    20% {\n",
              "      border-color: transparent;\n",
              "      border-left-color: var(--fill-color);\n",
              "      border-top-color: var(--fill-color);\n",
              "    }\n",
              "    30% {\n",
              "      border-color: transparent;\n",
              "      border-left-color: var(--fill-color);\n",
              "      border-top-color: var(--fill-color);\n",
              "      border-right-color: var(--fill-color);\n",
              "    }\n",
              "    40% {\n",
              "      border-color: transparent;\n",
              "      border-right-color: var(--fill-color);\n",
              "      border-top-color: var(--fill-color);\n",
              "    }\n",
              "    60% {\n",
              "      border-color: transparent;\n",
              "      border-right-color: var(--fill-color);\n",
              "    }\n",
              "    80% {\n",
              "      border-color: transparent;\n",
              "      border-right-color: var(--fill-color);\n",
              "      border-bottom-color: var(--fill-color);\n",
              "    }\n",
              "    90% {\n",
              "      border-color: transparent;\n",
              "      border-bottom-color: var(--fill-color);\n",
              "    }\n",
              "  }\n",
              "</style>\n",
              "\n",
              "  <script>\n",
              "    async function quickchart(key) {\n",
              "      const quickchartButtonEl =\n",
              "        document.querySelector('#' + key + ' button');\n",
              "      quickchartButtonEl.disabled = true;  // To prevent multiple clicks.\n",
              "      quickchartButtonEl.classList.add('colab-df-spinner');\n",
              "      try {\n",
              "        const charts = await google.colab.kernel.invokeFunction(\n",
              "            'suggestCharts', [key], {});\n",
              "      } catch (error) {\n",
              "        console.error('Error during call to suggestCharts:', error);\n",
              "      }\n",
              "      quickchartButtonEl.classList.remove('colab-df-spinner');\n",
              "      quickchartButtonEl.classList.add('colab-df-quickchart-complete');\n",
              "    }\n",
              "    (() => {\n",
              "      let quickchartButtonEl =\n",
              "        document.querySelector('#df-7ab0a142-4e7f-40d9-8458-4b7f834c6622 button');\n",
              "      quickchartButtonEl.style.display =\n",
              "        google.colab.kernel.accessAllowed ? 'block' : 'none';\n",
              "    })();\n",
              "  </script>\n",
              "</div>\n",
              "    </div>\n",
              "  </div>\n"
            ]
          },
          "metadata": {},
          "execution_count": 30
        }
      ]
    },
    {
      "cell_type": "code",
      "source": [
        "df = pd.concat([df1, df2], axis=0)"
      ],
      "metadata": {
        "id": "Q_cVWrYzUqir"
      },
      "execution_count": null,
      "outputs": []
    },
    {
      "cell_type": "code",
      "source": [
        "for chrom, sub_df in tqdm(df.groupby('chrom')):\n",
        "    if chrom not in chroms:\n",
        "        continue\n",
        "    vec = np.zeros(lens_of_chroms[chrom])\n",
        "    for inter in sub_df.values:\n",
        "        vec[inter[1]:inter[2]+1] = np.maximum(vec[inter[1]:inter[2]+1], 1)\n",
        "    loc_dd[chrom] = SparseVector(vec)\n",
        "\n",
        "dump(loc_dd, f'Zdna_new.pkl', 3)"
      ],
      "metadata": {
        "colab": {
          "base_uri": "https://localhost:8080/"
        },
        "id": "ERsGmEoVVcl7",
        "outputId": "81e70d5d-31e2-4c7b-cb20-5763d52bad03"
      },
      "execution_count": null,
      "outputs": [
        {
          "output_type": "stream",
          "name": "stderr",
          "text": [
            "100%|██████████| 24/24 [00:43<00:00,  1.79s/it]\n"
          ]
        },
        {
          "output_type": "execute_result",
          "data": {
            "text/plain": [
              "['Zdna_new.pkl']"
            ]
          },
          "metadata": {},
          "execution_count": 37
        }
      ]
    },
    {
      "cell_type": "code",
      "source": [
        "df_diff = pd.read_csv(f'/content/new_bed_diff.csv')\n",
        "df_gan = pd.read_csv(f'/content/new_bed_gan.csv')\n",
        "df_vae = pd.read_csv(f'/content/new_bed_vae.csv')"
      ],
      "metadata": {
        "id": "QWSRu_g4YAJU"
      },
      "execution_count": null,
      "outputs": []
    },
    {
      "cell_type": "code",
      "source": [
        "df"
      ],
      "metadata": {
        "colab": {
          "base_uri": "https://localhost:8080/",
          "height": 423
        },
        "id": "ZJ1qdW5HaR6O",
        "outputId": "2ff90dc7-cecf-4cd6-cb60-79d5ef70416c"
      },
      "execution_count": null,
      "outputs": [
        {
          "output_type": "execute_result",
          "data": {
            "text/plain": [
              "     chrom      start        end\n",
              "0     chr1     845543     845560\n",
              "1     chr1     845627     845642\n",
              "2     chr1     846050     846065\n",
              "3     chr1     846142     846161\n",
              "4     chr1     848436     848452\n",
              "..     ...        ...        ...\n",
              "358  chr14   74222812   74223196\n",
              "359  chr16   80837960   80838344\n",
              "360   chr1  149982538  149982922\n",
              "361   chr3  150321147  150321531\n",
              "362   chr1  226898922  226899306\n",
              "\n",
              "[44663 rows x 3 columns]"
            ],
            "text/html": [
              "\n",
              "  <div id=\"df-e4523d1a-af3c-42b0-817a-ce17012dba6c\" class=\"colab-df-container\">\n",
              "    <div>\n",
              "<style scoped>\n",
              "    .dataframe tbody tr th:only-of-type {\n",
              "        vertical-align: middle;\n",
              "    }\n",
              "\n",
              "    .dataframe tbody tr th {\n",
              "        vertical-align: top;\n",
              "    }\n",
              "\n",
              "    .dataframe thead th {\n",
              "        text-align: right;\n",
              "    }\n",
              "</style>\n",
              "<table border=\"1\" class=\"dataframe\">\n",
              "  <thead>\n",
              "    <tr style=\"text-align: right;\">\n",
              "      <th></th>\n",
              "      <th>chrom</th>\n",
              "      <th>start</th>\n",
              "      <th>end</th>\n",
              "    </tr>\n",
              "  </thead>\n",
              "  <tbody>\n",
              "    <tr>\n",
              "      <th>0</th>\n",
              "      <td>chr1</td>\n",
              "      <td>845543</td>\n",
              "      <td>845560</td>\n",
              "    </tr>\n",
              "    <tr>\n",
              "      <th>1</th>\n",
              "      <td>chr1</td>\n",
              "      <td>845627</td>\n",
              "      <td>845642</td>\n",
              "    </tr>\n",
              "    <tr>\n",
              "      <th>2</th>\n",
              "      <td>chr1</td>\n",
              "      <td>846050</td>\n",
              "      <td>846065</td>\n",
              "    </tr>\n",
              "    <tr>\n",
              "      <th>3</th>\n",
              "      <td>chr1</td>\n",
              "      <td>846142</td>\n",
              "      <td>846161</td>\n",
              "    </tr>\n",
              "    <tr>\n",
              "      <th>4</th>\n",
              "      <td>chr1</td>\n",
              "      <td>848436</td>\n",
              "      <td>848452</td>\n",
              "    </tr>\n",
              "    <tr>\n",
              "      <th>...</th>\n",
              "      <td>...</td>\n",
              "      <td>...</td>\n",
              "      <td>...</td>\n",
              "    </tr>\n",
              "    <tr>\n",
              "      <th>358</th>\n",
              "      <td>chr14</td>\n",
              "      <td>74222812</td>\n",
              "      <td>74223196</td>\n",
              "    </tr>\n",
              "    <tr>\n",
              "      <th>359</th>\n",
              "      <td>chr16</td>\n",
              "      <td>80837960</td>\n",
              "      <td>80838344</td>\n",
              "    </tr>\n",
              "    <tr>\n",
              "      <th>360</th>\n",
              "      <td>chr1</td>\n",
              "      <td>149982538</td>\n",
              "      <td>149982922</td>\n",
              "    </tr>\n",
              "    <tr>\n",
              "      <th>361</th>\n",
              "      <td>chr3</td>\n",
              "      <td>150321147</td>\n",
              "      <td>150321531</td>\n",
              "    </tr>\n",
              "    <tr>\n",
              "      <th>362</th>\n",
              "      <td>chr1</td>\n",
              "      <td>226898922</td>\n",
              "      <td>226899306</td>\n",
              "    </tr>\n",
              "  </tbody>\n",
              "</table>\n",
              "<p>44663 rows × 3 columns</p>\n",
              "</div>\n",
              "    <div class=\"colab-df-buttons\">\n",
              "\n",
              "  <div class=\"colab-df-container\">\n",
              "    <button class=\"colab-df-convert\" onclick=\"convertToInteractive('df-e4523d1a-af3c-42b0-817a-ce17012dba6c')\"\n",
              "            title=\"Convert this dataframe to an interactive table.\"\n",
              "            style=\"display:none;\">\n",
              "\n",
              "  <svg xmlns=\"http://www.w3.org/2000/svg\" height=\"24px\" viewBox=\"0 -960 960 960\">\n",
              "    <path d=\"M120-120v-720h720v720H120Zm60-500h600v-160H180v160Zm220 220h160v-160H400v160Zm0 220h160v-160H400v160ZM180-400h160v-160H180v160Zm440 0h160v-160H620v160ZM180-180h160v-160H180v160Zm440 0h160v-160H620v160Z\"/>\n",
              "  </svg>\n",
              "    </button>\n",
              "\n",
              "  <style>\n",
              "    .colab-df-container {\n",
              "      display:flex;\n",
              "      gap: 12px;\n",
              "    }\n",
              "\n",
              "    .colab-df-convert {\n",
              "      background-color: #E8F0FE;\n",
              "      border: none;\n",
              "      border-radius: 50%;\n",
              "      cursor: pointer;\n",
              "      display: none;\n",
              "      fill: #1967D2;\n",
              "      height: 32px;\n",
              "      padding: 0 0 0 0;\n",
              "      width: 32px;\n",
              "    }\n",
              "\n",
              "    .colab-df-convert:hover {\n",
              "      background-color: #E2EBFA;\n",
              "      box-shadow: 0px 1px 2px rgba(60, 64, 67, 0.3), 0px 1px 3px 1px rgba(60, 64, 67, 0.15);\n",
              "      fill: #174EA6;\n",
              "    }\n",
              "\n",
              "    .colab-df-buttons div {\n",
              "      margin-bottom: 4px;\n",
              "    }\n",
              "\n",
              "    [theme=dark] .colab-df-convert {\n",
              "      background-color: #3B4455;\n",
              "      fill: #D2E3FC;\n",
              "    }\n",
              "\n",
              "    [theme=dark] .colab-df-convert:hover {\n",
              "      background-color: #434B5C;\n",
              "      box-shadow: 0px 1px 3px 1px rgba(0, 0, 0, 0.15);\n",
              "      filter: drop-shadow(0px 1px 2px rgba(0, 0, 0, 0.3));\n",
              "      fill: #FFFFFF;\n",
              "    }\n",
              "  </style>\n",
              "\n",
              "    <script>\n",
              "      const buttonEl =\n",
              "        document.querySelector('#df-e4523d1a-af3c-42b0-817a-ce17012dba6c button.colab-df-convert');\n",
              "      buttonEl.style.display =\n",
              "        google.colab.kernel.accessAllowed ? 'block' : 'none';\n",
              "\n",
              "      async function convertToInteractive(key) {\n",
              "        const element = document.querySelector('#df-e4523d1a-af3c-42b0-817a-ce17012dba6c');\n",
              "        const dataTable =\n",
              "          await google.colab.kernel.invokeFunction('convertToInteractive',\n",
              "                                                    [key], {});\n",
              "        if (!dataTable) return;\n",
              "\n",
              "        const docLinkHtml = 'Like what you see? Visit the ' +\n",
              "          '<a target=\"_blank\" href=https://colab.research.google.com/notebooks/data_table.ipynb>data table notebook</a>'\n",
              "          + ' to learn more about interactive tables.';\n",
              "        element.innerHTML = '';\n",
              "        dataTable['output_type'] = 'display_data';\n",
              "        await google.colab.output.renderOutput(dataTable, element);\n",
              "        const docLink = document.createElement('div');\n",
              "        docLink.innerHTML = docLinkHtml;\n",
              "        element.appendChild(docLink);\n",
              "      }\n",
              "    </script>\n",
              "  </div>\n",
              "\n",
              "\n",
              "<div id=\"df-6ed91ef3-0e62-47a0-9e7b-3232330cf626\">\n",
              "  <button class=\"colab-df-quickchart\" onclick=\"quickchart('df-6ed91ef3-0e62-47a0-9e7b-3232330cf626')\"\n",
              "            title=\"Suggest charts\"\n",
              "            style=\"display:none;\">\n",
              "\n",
              "<svg xmlns=\"http://www.w3.org/2000/svg\" height=\"24px\"viewBox=\"0 0 24 24\"\n",
              "     width=\"24px\">\n",
              "    <g>\n",
              "        <path d=\"M19 3H5c-1.1 0-2 .9-2 2v14c0 1.1.9 2 2 2h14c1.1 0 2-.9 2-2V5c0-1.1-.9-2-2-2zM9 17H7v-7h2v7zm4 0h-2V7h2v10zm4 0h-2v-4h2v4z\"/>\n",
              "    </g>\n",
              "</svg>\n",
              "  </button>\n",
              "\n",
              "<style>\n",
              "  .colab-df-quickchart {\n",
              "      --bg-color: #E8F0FE;\n",
              "      --fill-color: #1967D2;\n",
              "      --hover-bg-color: #E2EBFA;\n",
              "      --hover-fill-color: #174EA6;\n",
              "      --disabled-fill-color: #AAA;\n",
              "      --disabled-bg-color: #DDD;\n",
              "  }\n",
              "\n",
              "  [theme=dark] .colab-df-quickchart {\n",
              "      --bg-color: #3B4455;\n",
              "      --fill-color: #D2E3FC;\n",
              "      --hover-bg-color: #434B5C;\n",
              "      --hover-fill-color: #FFFFFF;\n",
              "      --disabled-bg-color: #3B4455;\n",
              "      --disabled-fill-color: #666;\n",
              "  }\n",
              "\n",
              "  .colab-df-quickchart {\n",
              "    background-color: var(--bg-color);\n",
              "    border: none;\n",
              "    border-radius: 50%;\n",
              "    cursor: pointer;\n",
              "    display: none;\n",
              "    fill: var(--fill-color);\n",
              "    height: 32px;\n",
              "    padding: 0;\n",
              "    width: 32px;\n",
              "  }\n",
              "\n",
              "  .colab-df-quickchart:hover {\n",
              "    background-color: var(--hover-bg-color);\n",
              "    box-shadow: 0 1px 2px rgba(60, 64, 67, 0.3), 0 1px 3px 1px rgba(60, 64, 67, 0.15);\n",
              "    fill: var(--button-hover-fill-color);\n",
              "  }\n",
              "\n",
              "  .colab-df-quickchart-complete:disabled,\n",
              "  .colab-df-quickchart-complete:disabled:hover {\n",
              "    background-color: var(--disabled-bg-color);\n",
              "    fill: var(--disabled-fill-color);\n",
              "    box-shadow: none;\n",
              "  }\n",
              "\n",
              "  .colab-df-spinner {\n",
              "    border: 2px solid var(--fill-color);\n",
              "    border-color: transparent;\n",
              "    border-bottom-color: var(--fill-color);\n",
              "    animation:\n",
              "      spin 1s steps(1) infinite;\n",
              "  }\n",
              "\n",
              "  @keyframes spin {\n",
              "    0% {\n",
              "      border-color: transparent;\n",
              "      border-bottom-color: var(--fill-color);\n",
              "      border-left-color: var(--fill-color);\n",
              "    }\n",
              "    20% {\n",
              "      border-color: transparent;\n",
              "      border-left-color: var(--fill-color);\n",
              "      border-top-color: var(--fill-color);\n",
              "    }\n",
              "    30% {\n",
              "      border-color: transparent;\n",
              "      border-left-color: var(--fill-color);\n",
              "      border-top-color: var(--fill-color);\n",
              "      border-right-color: var(--fill-color);\n",
              "    }\n",
              "    40% {\n",
              "      border-color: transparent;\n",
              "      border-right-color: var(--fill-color);\n",
              "      border-top-color: var(--fill-color);\n",
              "    }\n",
              "    60% {\n",
              "      border-color: transparent;\n",
              "      border-right-color: var(--fill-color);\n",
              "    }\n",
              "    80% {\n",
              "      border-color: transparent;\n",
              "      border-right-color: var(--fill-color);\n",
              "      border-bottom-color: var(--fill-color);\n",
              "    }\n",
              "    90% {\n",
              "      border-color: transparent;\n",
              "      border-bottom-color: var(--fill-color);\n",
              "    }\n",
              "  }\n",
              "</style>\n",
              "\n",
              "  <script>\n",
              "    async function quickchart(key) {\n",
              "      const quickchartButtonEl =\n",
              "        document.querySelector('#' + key + ' button');\n",
              "      quickchartButtonEl.disabled = true;  // To prevent multiple clicks.\n",
              "      quickchartButtonEl.classList.add('colab-df-spinner');\n",
              "      try {\n",
              "        const charts = await google.colab.kernel.invokeFunction(\n",
              "            'suggestCharts', [key], {});\n",
              "      } catch (error) {\n",
              "        console.error('Error during call to suggestCharts:', error);\n",
              "      }\n",
              "      quickchartButtonEl.classList.remove('colab-df-spinner');\n",
              "      quickchartButtonEl.classList.add('colab-df-quickchart-complete');\n",
              "    }\n",
              "    (() => {\n",
              "      let quickchartButtonEl =\n",
              "        document.querySelector('#df-6ed91ef3-0e62-47a0-9e7b-3232330cf626 button');\n",
              "      quickchartButtonEl.style.display =\n",
              "        google.colab.kernel.accessAllowed ? 'block' : 'none';\n",
              "    })();\n",
              "  </script>\n",
              "</div>\n",
              "    </div>\n",
              "  </div>\n"
            ]
          },
          "metadata": {},
          "execution_count": 47
        }
      ]
    },
    {
      "cell_type": "code",
      "source": [
        "df_diff.columns, df_vae.columns, df_gan.columns = columns, columns, columns"
      ],
      "metadata": {
        "id": "URMpriIoaQwR"
      },
      "execution_count": null,
      "outputs": []
    },
    {
      "cell_type": "code",
      "source": [
        "df_orig_and_diff = pd.concat([df, df_diff], axis=0)"
      ],
      "metadata": {
        "id": "1DyEP1viX9Tx"
      },
      "execution_count": null,
      "outputs": []
    },
    {
      "cell_type": "code",
      "source": [
        "df_orig_and_vae = pd.concat([df, df_gan], axis=0)"
      ],
      "metadata": {
        "id": "jj5H0MuYYP0Q"
      },
      "execution_count": null,
      "outputs": []
    },
    {
      "cell_type": "code",
      "source": [
        "df_orig_and_gan = pd.concat([df, df_vae], axis=0)"
      ],
      "metadata": {
        "id": "tVbeOE41YP23"
      },
      "execution_count": null,
      "outputs": []
    },
    {
      "cell_type": "code",
      "source": [
        "for chrom, sub_df in tqdm(df_orig_and_diff.groupby('chrom')):\n",
        "    if chrom not in chroms:\n",
        "        continue\n",
        "    vec = np.zeros(lens_of_chroms[chrom])\n",
        "    for inter in sub_df.values:\n",
        "        vec[inter[1]:inter[2]+1] = np.maximum(vec[inter[1]:inter[2]+1], 1)\n",
        "    loc_dd[chrom] = SparseVector(vec)\n",
        "\n",
        "dump(loc_dd, f'Zdna_orig_fake_diff.pkl', 3)"
      ],
      "metadata": {
        "colab": {
          "base_uri": "https://localhost:8080/"
        },
        "id": "SyOIYLF_Zm0H",
        "outputId": "a699e791-d877-4c29-ca68-b090bc04178e"
      },
      "execution_count": null,
      "outputs": [
        {
          "output_type": "stream",
          "name": "stderr",
          "text": [
            "100%|██████████| 25/25 [00:30<00:00,  1.24s/it]\n"
          ]
        },
        {
          "output_type": "execute_result",
          "data": {
            "text/plain": [
              "['Zdna_orig_fake_diff.pkl']"
            ]
          },
          "metadata": {},
          "execution_count": 54
        }
      ]
    },
    {
      "cell_type": "code",
      "source": [
        "for chrom, sub_df in tqdm(df_orig_and_vae.groupby('chrom')):\n",
        "    if chrom not in chroms:\n",
        "        continue\n",
        "    vec = np.zeros(lens_of_chroms[chrom])\n",
        "    for inter in sub_df.values:\n",
        "        vec[inter[1]:inter[2]+1] = np.maximum(vec[inter[1]:inter[2]+1], 1)\n",
        "    loc_dd[chrom] = SparseVector(vec)\n",
        "\n",
        "dump(loc_dd, f'Zdna_orig_fake_gan.pkl', 3)"
      ],
      "metadata": {
        "colab": {
          "base_uri": "https://localhost:8080/"
        },
        "id": "SuhUGeniZm2y",
        "outputId": "6dcdefe9-55ae-47ee-82de-51833bf3817c"
      },
      "execution_count": null,
      "outputs": [
        {
          "output_type": "stream",
          "name": "stderr",
          "text": [
            "100%|██████████| 25/25 [00:28<00:00,  1.15s/it]\n"
          ]
        },
        {
          "output_type": "execute_result",
          "data": {
            "text/plain": [
              "['Zdna_orig_fake_gan.pkl']"
            ]
          },
          "metadata": {},
          "execution_count": 55
        }
      ]
    },
    {
      "cell_type": "code",
      "source": [
        "for chrom, sub_df in tqdm(df_orig_and_gan.groupby('chrom')):\n",
        "    if chrom not in chroms:\n",
        "        continue\n",
        "    vec = np.zeros(lens_of_chroms[chrom])\n",
        "    for inter in sub_df.values:\n",
        "        vec[inter[1]:inter[2]+1] = np.maximum(vec[inter[1]:inter[2]+1], 1)\n",
        "    loc_dd[chrom] = SparseVector(vec)\n",
        "\n",
        "dump(loc_dd, f'Zdna_orig_fake_vae.pkl', 3)"
      ],
      "metadata": {
        "colab": {
          "base_uri": "https://localhost:8080/"
        },
        "id": "LSoqVuVeZnQX",
        "outputId": "e9f46878-02a3-4a36-bfbd-0c8b9f8f00cc"
      },
      "execution_count": null,
      "outputs": [
        {
          "output_type": "stream",
          "name": "stderr",
          "text": [
            "100%|██████████| 25/25 [00:28<00:00,  1.13s/it]\n"
          ]
        },
        {
          "output_type": "execute_result",
          "data": {
            "text/plain": [
              "['Zdna_orig_fake_vae.pkl']"
            ]
          },
          "metadata": {},
          "execution_count": 56
        }
      ]
    },
    {
      "cell_type": "markdown",
      "source": [
        "# Metrics"
      ],
      "metadata": {
        "id": "XT7EGSwYYLcs"
      }
    },
    {
      "cell_type": "code",
      "source": [
        "!pip install Bio"
      ],
      "metadata": {
        "colab": {
          "base_uri": "https://localhost:8080/"
        },
        "id": "-MQgOgytcjJ9",
        "outputId": "97de7e2b-0094-4317-e0c6-5d230033a5f7"
      },
      "execution_count": null,
      "outputs": [
        {
          "output_type": "stream",
          "name": "stdout",
          "text": [
            "Collecting Bio\n",
            "  Downloading bio-1.6.2-py3-none-any.whl (278 kB)\n",
            "\u001b[2K     \u001b[90m━━━━━━━━━━━━━━━━━━━━━━━━━━━━━━━━━━━━━━━━\u001b[0m \u001b[32m278.6/278.6 kB\u001b[0m \u001b[31m7.1 MB/s\u001b[0m eta \u001b[36m0:00:00\u001b[0m\n",
            "\u001b[?25hCollecting biopython>=1.80 (from Bio)\n",
            "  Downloading biopython-1.83-cp310-cp310-manylinux_2_17_x86_64.manylinux2014_x86_64.whl (3.1 MB)\n",
            "\u001b[2K     \u001b[90m━━━━━━━━━━━━━━━━━━━━━━━━━━━━━━━━━━━━━━━━\u001b[0m \u001b[32m3.1/3.1 MB\u001b[0m \u001b[31m19.9 MB/s\u001b[0m eta \u001b[36m0:00:00\u001b[0m\n",
            "\u001b[?25hRequirement already satisfied: requests in /usr/local/lib/python3.10/dist-packages (from Bio) (2.31.0)\n",
            "Requirement already satisfied: tqdm in /usr/local/lib/python3.10/dist-packages (from Bio) (4.66.1)\n",
            "Collecting mygene (from Bio)\n",
            "  Downloading mygene-3.2.2-py2.py3-none-any.whl (5.4 kB)\n",
            "Requirement already satisfied: pandas in /usr/local/lib/python3.10/dist-packages (from Bio) (1.5.3)\n",
            "Requirement already satisfied: pooch in /usr/local/lib/python3.10/dist-packages (from Bio) (1.8.0)\n",
            "Collecting gprofiler-official (from Bio)\n",
            "  Downloading gprofiler_official-1.0.0-py3-none-any.whl (9.3 kB)\n",
            "Requirement already satisfied: numpy in /usr/local/lib/python3.10/dist-packages (from biopython>=1.80->Bio) (1.23.5)\n",
            "Collecting biothings-client>=0.2.6 (from mygene->Bio)\n",
            "  Downloading biothings_client-0.3.1-py2.py3-none-any.whl (29 kB)\n",
            "Requirement already satisfied: python-dateutil>=2.8.1 in /usr/local/lib/python3.10/dist-packages (from pandas->Bio) (2.8.2)\n",
            "Requirement already satisfied: pytz>=2020.1 in /usr/local/lib/python3.10/dist-packages (from pandas->Bio) (2023.4)\n",
            "Requirement already satisfied: platformdirs>=2.5.0 in /usr/local/lib/python3.10/dist-packages (from pooch->Bio) (4.2.0)\n",
            "Requirement already satisfied: packaging>=20.0 in /usr/local/lib/python3.10/dist-packages (from pooch->Bio) (23.2)\n",
            "Requirement already satisfied: charset-normalizer<4,>=2 in /usr/local/lib/python3.10/dist-packages (from requests->Bio) (3.3.2)\n",
            "Requirement already satisfied: idna<4,>=2.5 in /usr/local/lib/python3.10/dist-packages (from requests->Bio) (3.6)\n",
            "Requirement already satisfied: urllib3<3,>=1.21.1 in /usr/local/lib/python3.10/dist-packages (from requests->Bio) (2.0.7)\n",
            "Requirement already satisfied: certifi>=2017.4.17 in /usr/local/lib/python3.10/dist-packages (from requests->Bio) (2023.11.17)\n",
            "Requirement already satisfied: six>=1.5 in /usr/local/lib/python3.10/dist-packages (from python-dateutil>=2.8.1->pandas->Bio) (1.16.0)\n",
            "Installing collected packages: biopython, gprofiler-official, biothings-client, mygene, Bio\n",
            "Successfully installed Bio-1.6.2 biopython-1.83 biothings-client-0.3.1 gprofiler-official-1.0.0 mygene-3.2.2\n"
          ]
        }
      ]
    },
    {
      "cell_type": "code",
      "source": [
        "import numpy as np\n",
        "import pandas as pd"
      ],
      "metadata": {
        "id": "bfrkHnmsdaXI"
      },
      "execution_count": null,
      "outputs": []
    },
    {
      "cell_type": "code",
      "source": [
        "from concurrent.futures import ThreadPoolExecutor\n",
        "from scipy.spatial import KDTree\n",
        "import editdistance"
      ],
      "metadata": {
        "id": "eoPG_VUadrhK"
      },
      "execution_count": null,
      "outputs": []
    },
    {
      "cell_type": "code",
      "source": [
        "def one_hot_encoding(sequence, target_length):\n",
        "    \"\"\"Convert DNA sequence to one-hot encoding.\"\"\"\n",
        "    nucleotides = {'A': 0, 'C': 1, 'G': 2, 'T': 3}\n",
        "    one_hot_seq = np.zeros((target_length, len(nucleotides)))\n",
        "    target_length = 100\n",
        "    for i, nucleotide in enumerate(sequence[:target_length]):\n",
        "        if nucleotide in nucleotides:\n",
        "            one_hot_seq[i, nucleotides[nucleotide]] = 1\n",
        "\n",
        "    one_hot_flat = one_hot_seq.flatten()\n",
        "\n",
        "    return one_hot_flat\n",
        "\n",
        "def preprocess_sequences(sequences, target_length):\n",
        "    \"\"\"Pad or truncate sequences to the target length.\"\"\"\n",
        "    target_length = 100\n",
        "    return [seq.ljust(target_length, 'N')[:target_length] for seq in sequences]"
      ],
      "metadata": {
        "id": "slk5-7ujZQTU"
      },
      "execution_count": null,
      "outputs": []
    },
    {
      "cell_type": "code",
      "source": [
        "def calculate_novelty(generated_sequences, initial_sequences, target_length, chunk_size=100):\n",
        "    \"\"\"Calculate novelty of the generated sequences using KDTree and one-hot encoding in chunks.\"\"\"\n",
        "    novelty = 0.0\n",
        "    total_pairs = 0\n",
        "    target_length = 100\n",
        "    initial_sequences = preprocess_sequences(initial_sequences, target_length)\n",
        "    generated_sequences = preprocess_sequences(generated_sequences, target_length)\n",
        "    chunks_generated = [generated_sequences[i:i + chunk_size] for i in range(0, len(generated_sequences), chunk_size)]\n",
        "\n",
        "    initial_sequences_one_hot = [one_hot_encoding(seq, target_length) for seq in initial_sequences]\n",
        "\n",
        "    kdtree = KDTree(initial_sequences_one_hot)\n",
        "\n",
        "\n",
        "    def calculate_chunk(chunk_generated):\n",
        "        nonlocal novelty\n",
        "        nonlocal total_pairs\n",
        "\n",
        "        chunk_generated_one_hot = [one_hot_encoding(seq, target_length) for seq in chunk_generated]\n",
        "\n",
        "        for gen_seq_one_hot in chunk_generated_one_hot:\n",
        "            distance, _ = kdtree.query(gen_seq_one_hot)\n",
        "            novelty += distance\n",
        "            total_pairs += 1\n",
        "\n",
        "    with ThreadPoolExecutor() as executor:\n",
        "        futures = [executor.submit(calculate_chunk, chunk_generated) for chunk_generated in chunks_generated]\n",
        "\n",
        "    for future in futures:\n",
        "        future.result()\n",
        "\n",
        "    if total_pairs > 0:\n",
        "        novelty /= total_pairs\n",
        "\n",
        "    return novelty"
      ],
      "metadata": {
        "id": "KIiOyfAWYSkD"
      },
      "execution_count": null,
      "outputs": []
    },
    {
      "cell_type": "code",
      "source": [
        "def calculate_diversity(dataset, target_length, chunk_size=100):\n",
        "    \"\"\"Calculate diversity within a single dataset using KDTree and one-hot encoding in chunks.\"\"\"\n",
        "    diversity = 0.0\n",
        "    total_pairs = 0\n",
        "    target_length = 100\n",
        "    sequences = preprocess_sequences(dataset, target_length)\n",
        "\n",
        "    chunks = [sequences[i:i + chunk_size] for i in range(0, len(sequences), chunk_size)]\n",
        "\n",
        "    kdtree = KDTree([one_hot_encoding(seq, target_length) for seq in sequences])\n",
        "\n",
        "    def calculate_chunk(chunk):\n",
        "        nonlocal diversity\n",
        "        nonlocal total_pairs\n",
        "\n",
        "        chunk_one_hot = [one_hot_encoding(seq, target_length) for seq in chunk]\n",
        "\n",
        "        for i in range(len(chunk_one_hot)):\n",
        "            for j in range(i+1, len(chunk_one_hot)):\n",
        "                edit_dist_ij = editdistance.eval(chunk_one_hot[i], chunk_one_hot[j])\n",
        "                diversity += edit_dist_ij\n",
        "                total_pairs += 1\n",
        "\n",
        "    with ThreadPoolExecutor() as executor:\n",
        "        futures = [executor.submit(calculate_chunk, chunk) for chunk in chunks]\n",
        "\n",
        "    for future in futures:\n",
        "        future.result()\n",
        "\n",
        "    if total_pairs > 0:\n",
        "        diversity /= total_pairs\n",
        "\n",
        "    return diversity"
      ],
      "metadata": {
        "id": "a_rGIm_lYSnk"
      },
      "execution_count": null,
      "outputs": []
    },
    {
      "cell_type": "code",
      "source": [
        "def normalize_diversity(diversity, min_diversity, max_diversity):\n",
        "    \"\"\"Normalize diversity measure to the range [0, 1].\"\"\"\n",
        "    return (diversity - min_diversity) / (max_diversity - min_diversity) if max_diversity != min_diversity else 0.0"
      ],
      "metadata": {
        "id": "YK7wFDZfZxoW"
      },
      "execution_count": null,
      "outputs": []
    },
    {
      "cell_type": "code",
      "source": [
        "def normalize_novelty(novelty, min_novelty, max_novelty):\n",
        "    \"\"\"Normalize novelty measure to the range [0, 1].\"\"\"\n",
        "    return (novelty - min_novelty) / (max_novelty - min_novelty) if max_novelty != min_novelty else 0.0\n"
      ],
      "metadata": {
        "id": "HloDNSysZ8Hi"
      },
      "execution_count": null,
      "outputs": []
    },
    {
      "cell_type": "code",
      "source": [
        "df = pd.read_csv(\"Zdna.csv\")"
      ],
      "metadata": {
        "id": "sGtLb5rYam_E"
      },
      "execution_count": null,
      "outputs": []
    },
    {
      "cell_type": "code",
      "source": [
        "from Bio import SeqIO\n",
        "\n",
        "def read_fasta(file_path):\n",
        "    sequences = []\n",
        "    for record in SeqIO.parse(file_path, \"fasta\"):\n",
        "        sequences.append(str(record.seq))\n",
        "    return sequences\n",
        "\n",
        "# fasta_diff_path = \"/content/diff_generated_G4.fasta\"\n",
        "# fasta_vae_path = \"/content/generated_sequences_vqvae_fulldata.fasta\"\n",
        "# fasta_gan_path = \"/content/wgan_generated_sequences_fulldata.fasta\"\n",
        "\n",
        "# target_length = 100\n",
        "# sequences_fasta_diff = read_fasta(fasta_diff_path)\n",
        "# sequences_fasta_vae = read_fasta(fasta_vae_path)\n",
        "# sequences_fasta_gan = read_fasta(fasta_gan_path)"
      ],
      "metadata": {
        "id": "OsCMQHxgbeLq"
      },
      "execution_count": null,
      "outputs": []
    },
    {
      "cell_type": "code",
      "source": [
        "def calculate_diversity(dataset, target_length, chunk_size=100):\n",
        "    \"\"\"Calculate diversity within a single dataset using KDTree and one-hot encoding in chunks.\"\"\"\n",
        "    diversity = 0.0\n",
        "    total_pairs = 0\n",
        "    target_length = 100\n",
        "    sequences = preprocess_sequences(dataset, target_length)\n",
        "\n",
        "    chunks = [sequences[i:i + chunk_size] for i in range(0, len(sequences), chunk_size)]\n",
        "\n",
        "    kdtree = KDTree([one_hot_encoding(seq, target_length) for seq in sequences])\n",
        "\n",
        "    def calculate_chunk(chunk):\n",
        "        nonlocal diversity\n",
        "        nonlocal total_pairs\n",
        "\n",
        "        chunk_one_hot = [one_hot_encoding(seq, target_length) for seq in chunk]\n",
        "\n",
        "        for i in range(len(chunk_one_hot)):\n",
        "            for j in range(i+1, len(chunk_one_hot)):\n",
        "                edit_dist_ij = editdistance.eval(chunk_one_hot[i], chunk_one_hot[j])\n",
        "                diversity += edit_dist_ij\n",
        "                total_pairs += 1\n",
        "\n",
        "    with ThreadPoolExecutor() as executor:\n",
        "        futures = [executor.submit(calculate_chunk, chunk) for chunk in chunks]\n",
        "\n",
        "    for future in futures:\n",
        "        future.result()\n",
        "\n",
        "    if total_pairs > 0:\n",
        "        diversity /= total_pairs\n",
        "\n",
        "    return diversity"
      ],
      "metadata": {
        "id": "KsdnmaqfewcH"
      },
      "execution_count": null,
      "outputs": []
    },
    {
      "cell_type": "code",
      "source": [
        "diversity_diff = calculate_diversity(sequences_fasta_diff, target_length)"
      ],
      "metadata": {
        "id": "b8Om0UnQGTjw"
      },
      "execution_count": null,
      "outputs": []
    },
    {
      "cell_type": "code",
      "source": [
        "diversity_vae = calculate_diversity(sequences_fasta_vae, target_length)"
      ],
      "metadata": {
        "id": "ib_r35JhHN-D"
      },
      "execution_count": null,
      "outputs": []
    },
    {
      "cell_type": "code",
      "source": [
        "diversity_gan = calculate_diversity(sequences_fasta_gan, target_length)"
      ],
      "metadata": {
        "id": "iDhm_3cbHQAX"
      },
      "execution_count": null,
      "outputs": []
    },
    {
      "cell_type": "code",
      "source": [
        "print(diversity_diff)"
      ],
      "metadata": {
        "colab": {
          "base_uri": "https://localhost:8080/"
        },
        "id": "ciUmsCo-LbGD",
        "outputId": "2fc78dc0-245b-486c-ea2a-3978ad8c86e9"
      },
      "execution_count": null,
      "outputs": [
        {
          "output_type": "stream",
          "name": "stdout",
          "text": [
            "71.7285296279347\n"
          ]
        }
      ]
    },
    {
      "cell_type": "code",
      "source": [
        "print(diversity_diff)\n",
        "print(diversity_vae)\n",
        "print(diversity_gan)"
      ],
      "metadata": {
        "colab": {
          "base_uri": "https://localhost:8080/"
        },
        "id": "8exMixuYTn_Z",
        "outputId": "9e70518f-020c-4ae0-f4d8-f8754ec6c007"
      },
      "execution_count": null,
      "outputs": [
        {
          "output_type": "stream",
          "name": "stdout",
          "text": [
            "71.72646657416722\n",
            "69.30558407107785\n",
            "72.19251232854727\n"
          ]
        }
      ]
    },
    {
      "cell_type": "code",
      "source": [
        "print(diversity_diff)\n",
        "print(diversity_vae)\n",
        "print(diversity_gan)"
      ],
      "metadata": {
        "colab": {
          "base_uri": "https://localhost:8080/"
        },
        "id": "zYrpEmo_KymP",
        "outputId": "6f5be8b9-cd46-412b-a4d7-fb24c0e67a9c"
      },
      "execution_count": null,
      "outputs": [
        {
          "output_type": "stream",
          "name": "stdout",
          "text": [
            "72.2286082946742\n",
            "69.57710435991395\n",
            "72.2286082946742\n"
          ]
        }
      ]
    },
    {
      "cell_type": "code",
      "source": [
        "fasta_diff_path = \"/content/generated_wgan_G4.fasta\"\n",
        "fasta_vae_path = \"/content/generated_Gquad_vqvae.fasta\"\n",
        "fasta_gan_path = \"/content/G4_Chip_seq_quadruplex_norm_to_500.fa\"\n",
        "\n",
        "target_length = 100\n",
        "sequences_fasta_diff = read_fasta(fasta_diff_path)\n",
        "sequences_fasta_vae = read_fasta(fasta_vae_path)\n",
        "sequences_fasta_gan = read_fasta(fasta_gan_path)"
      ],
      "metadata": {
        "id": "2Ii_ne2xSXN_"
      },
      "execution_count": null,
      "outputs": []
    },
    {
      "cell_type": "code",
      "source": [
        "diversity_diff = calculate_diversity(sequences_fasta_diff, target_length)\n",
        "diversity_vae = calculate_diversity(sequences_fasta_vae, target_length)\n",
        "diversity_gan = calculate_diversity(sequences_fasta_gan, target_length)"
      ],
      "metadata": {
        "id": "-Cno6fjRSIng"
      },
      "execution_count": null,
      "outputs": []
    },
    {
      "cell_type": "code",
      "source": [
        "print(diversity_diff)\n",
        "print(diversity_vae)\n",
        "print(diversity_gan)"
      ],
      "metadata": {
        "colab": {
          "base_uri": "https://localhost:8080/"
        },
        "id": "3XzjUShFSIvX",
        "outputId": "31780ae1-bd80-4c47-d5ff-1f7865a8e073"
      },
      "execution_count": null,
      "outputs": [
        {
          "output_type": "stream",
          "name": "stdout",
          "text": [
            "72.2286082946742\n",
            "69.57710435991395\n",
            "72.2286082946742\n"
          ]
        }
      ]
    },
    {
      "cell_type": "code",
      "source": [
        "diversity_gan = calculate_diversity(df.raw_sequence, target_length)"
      ],
      "metadata": {
        "id": "lorTRzFJSIyK"
      },
      "execution_count": null,
      "outputs": []
    },
    {
      "cell_type": "code",
      "source": [
        "diversity_gan"
      ],
      "metadata": {
        "colab": {
          "base_uri": "https://localhost:8080/"
        },
        "id": "1w90XpH2iw-_",
        "outputId": "55330736-3211-4188-fc2f-8cc3d910de4c"
      },
      "execution_count": null,
      "outputs": [
        {
          "output_type": "execute_result",
          "data": {
            "text/plain": [
              "74.11119309533272"
            ]
          },
          "metadata": {},
          "execution_count": 64
        }
      ]
    },
    {
      "cell_type": "code",
      "source": [
        "from concurrent.futures import ThreadPoolExecutor\n",
        "from scipy.spatial import KDTree\n",
        "import numpy as np\n",
        "\n",
        "def calculate_novelty(generated_sequences, initial_sequences, target_length, chunk_size=100):\n",
        "    \"\"\"Calculate novelty of the generated sequences using KDTree and one-hot encoding in chunks.\"\"\"\n",
        "    novelty = 0.0\n",
        "    total_pairs = 0\n",
        "    initial_sequences = preprocess_sequences(initial_sequences, target_length)\n",
        "    initial_sequences_one_hot = [one_hot_encoding(seq, target_length) for seq in initial_sequences]\n",
        "\n",
        "    # Create KDTree\n",
        "    kdtree = KDTree(initial_sequences_one_hot)\n",
        "\n",
        "    chunks_generated = [generated_sequences[i:i + chunk_size] for i in range(0, len(generated_sequences), chunk_size)]\n",
        "\n",
        "    def calculate_chunk(chunk_generated):\n",
        "        nonlocal novelty\n",
        "        nonlocal total_pairs\n",
        "        chunk_generated_one_hot = [one_hot_encoding(seq, target_length) for seq in chunk_generated]\n",
        "\n",
        "        distances, _ = kdtree.query(np.array(chunk_generated_one_hot), k=len(initial_sequences))\n",
        "        novelty += np.sum(distances)\n",
        "        total_pairs += len(chunk_generated)\n",
        "\n",
        "    with ThreadPoolExecutor() as executor:\n",
        "        futures = [executor.submit(calculate_chunk, chunk_generated) for chunk_generated in chunks_generated]\n",
        "\n",
        "    for future in futures:\n",
        "        future.result()\n",
        "\n",
        "    if total_pairs > 0:\n",
        "        novelty /= (total_pairs * (total_pairs - 1))\n",
        "\n",
        "    return novelty\n"
      ],
      "metadata": {
        "id": "_GJv5-b7FLUn"
      },
      "execution_count": null,
      "outputs": []
    },
    {
      "cell_type": "code",
      "source": [
        "calculate_novelty(sequences_fasta_diff, df.raw_sequence, target_length)"
      ],
      "metadata": {
        "colab": {
          "base_uri": "https://localhost:8080/"
        },
        "id": "mNvbNhMVFPmr",
        "outputId": "ea950cd0-a687-4525-a5ab-fd0a4becb14e"
      },
      "execution_count": null,
      "outputs": [
        {
          "output_type": "execute_result",
          "data": {
            "text/plain": [
              "11.379785222268412"
            ]
          },
          "metadata": {},
          "execution_count": 52
        }
      ]
    },
    {
      "cell_type": "code",
      "source": [
        "calculate_novelty(sequences_fasta_gan, df.raw_sequence, target_length)"
      ],
      "metadata": {
        "colab": {
          "base_uri": "https://localhost:8080/"
        },
        "id": "6I-NHxx4MyZU",
        "outputId": "6f83ae61-1d13-4f19-f08a-ffc08edaa823"
      },
      "execution_count": null,
      "outputs": [
        {
          "output_type": "execute_result",
          "data": {
            "text/plain": [
              "11.627088587316493"
            ]
          },
          "metadata": {},
          "execution_count": 55
        }
      ]
    },
    {
      "cell_type": "code",
      "source": [
        "novelty_diff = calculate_novelty(sequences_fasta_diff, df.raw_sequence, target_length)\n",
        "novelty_vae = calculate_novelty(sequences_fasta_vae, df.raw_sequence, target_length)\n",
        "novelty_gan = calculate_novelty(sequences_fasta_gan, df.raw_sequence, target_length)"
      ],
      "metadata": {
        "id": "g41jRFGGLWOo"
      },
      "execution_count": null,
      "outputs": []
    },
    {
      "cell_type": "code",
      "source": [
        "print(novelty_diff)\n",
        "print(novelty_vae)\n",
        "print(novelty_gan)"
      ],
      "metadata": {
        "id": "NyBKZSW0OGOu",
        "colab": {
          "base_uri": "https://localhost:8080/"
        },
        "outputId": "18842b12-0f61-4047-fd18-fa44e5d678b3"
      },
      "execution_count": null,
      "outputs": [
        {
          "output_type": "stream",
          "name": "stdout",
          "text": [
            "12.102283805083015\n",
            "11.80206059524792\n",
            "12.111608480469622\n"
          ]
        }
      ]
    },
    {
      "cell_type": "code",
      "source": [
        "def count_repeats(fasta_file):\n",
        "    repeat_patterns = [\n",
        "        r'(CG)+',\n",
        "        r'(CACG)+',\n",
        "        r'(CGGG)+',\n",
        "        r'(CGTG)+',\n",
        "        r'(CCCG)+',\n",
        "        r'(CACGA)+',\n",
        "        r'(CCGCG)+',\n",
        "        r'(CGCGG)+',\n",
        "        r'(CGAG)+',\n",
        "        r'(GCGTG)+',\n",
        "        r'(CAGCG)+',\n",
        "        r'(CCTCG)+',\n",
        "        r'(CATG)+',\n",
        "        r'(CA)+',\n",
        "        r'(CCCCCG)+',\n",
        "        r'(CGGGGG)+',\n",
        "        r'(CTCG)+',\n",
        "        r'(CGGGG)+',\n",
        "        r'(CCCCG)+',\n",
        "    ]\n",
        "\n",
        "    pattern_counts = {pattern: 0 for pattern in repeat_patterns}\n",
        "\n",
        "    with open(fasta_file, 'r') as file:\n",
        "        sequence = ''\n",
        "        for line in file:\n",
        "            if line.startswith('>'):\n",
        "                for pattern in repeat_patterns:\n",
        "                    pattern_counts[pattern] += len(re.findall(pattern, sequence))\n",
        "                sequence = ''\n",
        "            else:\n",
        "                sequence += line.strip()\n",
        "\n",
        "        for pattern in repeat_patterns:\n",
        "            pattern_counts[pattern] += len(re.findall(pattern, sequence))\n",
        "\n",
        "    return pattern_counts\n",
        "\n",
        "def print_table(results):\n",
        "    table_data = [(pattern, count) for pattern, count in results.items()]\n",
        "    headers = [\"Repeat Pattern\", \"Count\"]\n",
        "    print(tabulate(table_data, headers=headers, tablefmt=\"pretty\"))\n",
        "\n",
        "fasta_file_path = '/content/diff_generated_sequences_fulldata.fasta'\n",
        "result = count_repeats(fasta_file_path)\n",
        "\n",
        "# Print the results in a table\n",
        "print_table(result)"
      ],
      "metadata": {
        "colab": {
          "base_uri": "https://localhost:8080/"
        },
        "id": "ft9R0Q8SrWdK",
        "outputId": "9698393a-be69-4f07-abcb-e794bcac2e40"
      },
      "execution_count": null,
      "outputs": [
        {
          "output_type": "stream",
          "name": "stdout",
          "text": [
            "+----------------+--------+\n",
            "| Repeat Pattern | Count  |\n",
            "+----------------+--------+\n",
            "|     (CG)+      | 353844 |\n",
            "|    (CACG)+     | 21773  |\n",
            "|    (CGGG)+     | 65148  |\n",
            "|    (CGTG)+     | 26326  |\n",
            "|    (CCCG)+     | 45174  |\n",
            "|    (CACGA)+    |  3304  |\n",
            "|    (CCGCG)+    | 18094  |\n",
            "|    (CGCGG)+    | 21585  |\n",
            "|    (CGAG)+     | 21995  |\n",
            "|    (GCGTG)+    | 12584  |\n",
            "|    (CAGCG)+    |  9324  |\n",
            "|    (CCTCG)+    |  6670  |\n",
            "|    (CATG)+     | 18552  |\n",
            "|     (CA)+      | 311264 |\n",
            "|   (CCCCCG)+    |  5431  |\n",
            "|   (CGGGGG)+    | 11109  |\n",
            "|    (CTCG)+     | 19479  |\n",
            "|    (CGGGG)+    | 27852  |\n",
            "|    (CCCCG)+    | 16202  |\n",
            "+----------------+--------+\n"
          ]
        }
      ]
    },
    {
      "cell_type": "code",
      "source": [
        "fasta_file_path = '/content/generated_sequences_vqvae_fulldata.fasta'\n",
        "result = count_repeats(fasta_file_path)\n",
        "\n",
        "print_table(result)"
      ],
      "metadata": {
        "colab": {
          "base_uri": "https://localhost:8080/"
        },
        "id": "GU3NQI1Vr2vr",
        "outputId": "90b8e794-d670-4383-e7dc-276a3a7c51c7"
      },
      "execution_count": null,
      "outputs": [
        {
          "output_type": "stream",
          "name": "stdout",
          "text": [
            "+----------------+--------+\n",
            "| Repeat Pattern | Count  |\n",
            "+----------------+--------+\n",
            "|     (CG)+      | 429149 |\n",
            "|    (CACG)+     | 38246  |\n",
            "|    (CGGG)+     | 77185  |\n",
            "|    (CGTG)+     | 44845  |\n",
            "|    (CCCG)+     | 69161  |\n",
            "|    (CACGA)+    |  2000  |\n",
            "|    (CCGCG)+    | 32092  |\n",
            "|    (CGCGG)+    | 29608  |\n",
            "|    (CGAG)+     | 19609  |\n",
            "|    (GCGTG)+    | 23546  |\n",
            "|    (CAGCG)+    |  6708  |\n",
            "|    (CCTCG)+    |  8888  |\n",
            "|    (CATG)+     | 16799  |\n",
            "|     (CA)+      | 288845 |\n",
            "|   (CCCCCG)+    |  6629  |\n",
            "|   (CGGGGG)+    |  8032  |\n",
            "|    (CTCG)+     | 20029  |\n",
            "|    (CGGGG)+    | 28527  |\n",
            "|    (CCCCG)+    | 24871  |\n",
            "+----------------+--------+\n"
          ]
        }
      ]
    },
    {
      "cell_type": "code",
      "source": [
        "fasta_file_path = '/content/wgan_generated_sequences_fulldata.fasta'\n",
        "result = count_repeats(fasta_file_path)\n",
        "\n",
        "\n",
        "print_table(result)"
      ],
      "metadata": {
        "colab": {
          "base_uri": "https://localhost:8080/"
        },
        "id": "zWYnR7E9r242",
        "outputId": "4c441297-1c6c-4989-de4f-02fef7e61cf3"
      },
      "execution_count": null,
      "outputs": [
        {
          "output_type": "stream",
          "name": "stdout",
          "text": [
            "+----------------+--------+\n",
            "| Repeat Pattern | Count  |\n",
            "+----------------+--------+\n",
            "|     (CG)+      | 341697 |\n",
            "|    (CACG)+     | 20568  |\n",
            "|    (CGGG)+     | 50153  |\n",
            "|    (CGTG)+     | 17084  |\n",
            "|    (CCCG)+     | 51426  |\n",
            "|    (CACGA)+    |  2791  |\n",
            "|    (CCGCG)+    | 16731  |\n",
            "|    (CGCGG)+    | 16909  |\n",
            "|    (CGAG)+     | 24344  |\n",
            "|    (GCGTG)+    |  5984  |\n",
            "|    (CAGCG)+    | 10532  |\n",
            "|    (CCTCG)+    |  9995  |\n",
            "|    (CATG)+     | 16592  |\n",
            "|     (CA)+      | 313696 |\n",
            "|   (CCCCCG)+    |  5791  |\n",
            "|   (CGGGGG)+    |  7477  |\n",
            "|    (CTCG)+     | 25265  |\n",
            "|    (CGGGG)+    | 19758  |\n",
            "|    (CCCCG)+    | 19262  |\n",
            "+----------------+--------+\n"
          ]
        }
      ]
    },
    {
      "cell_type": "code",
      "source": [
        "def count_regular_and_extended_patterns(fasta_file):\n",
        "    regular_pattern = r'G{3,}[ATCG]{1,7}G{3,}[ATCG]{1,7}G{3,}[ATCG]{1,7}G{3,}'\n",
        "    extended_pattern = r'G{3,}[ATCG]{1,12}G{3,}[ATCG]{1,12}G{3,}[ATCG]{1,12}G{3,}'\n",
        "\n",
        "    pattern_counts = {'Regular Pattern': 0, 'Extended Pattern': 0}\n",
        "\n",
        "    with open(fasta_file, 'r') as file:\n",
        "        sequence = ''\n",
        "        for line in file:\n",
        "            if line.startswith('>'):\n",
        "\n",
        "                pattern_counts['Regular Pattern'] += len(re.findall(regular_pattern, sequence, re.IGNORECASE))\n",
        "                pattern_counts['Extended Pattern'] += len(re.findall(extended_pattern, sequence, re.IGNORECASE))\n",
        "                sequence = ''\n",
        "            else:\n",
        "                sequence += line.strip()\n",
        "\n",
        "        pattern_counts['Regular Pattern'] += len(re.findall(regular_pattern, sequence, re.IGNORECASE))\n",
        "        pattern_counts['Extended Pattern'] += len(re.findall(extended_pattern, sequence, re.IGNORECASE))\n",
        "\n",
        "    total_length = sum(pattern_counts.values())\n",
        "    pattern_percentages = {pattern: (count / total_length) * 100 for pattern, count in pattern_counts.items()}\n",
        "\n",
        "    return pattern_percentages\n",
        "\n",
        "def print_table(results):\n",
        "    table_data = [(pattern, f'{count:.2f}%') for pattern, count in results.items()]\n",
        "    headers = [\"Pattern\", \"Percentage\"]\n",
        "    print(tabulate(table_data, headers=headers, tablefmt=\"pretty\"))"
      ],
      "metadata": {
        "id": "amk98Nfzwd-c"
      },
      "execution_count": null,
      "outputs": []
    },
    {
      "cell_type": "code",
      "source": [
        "fasta_file_path = '/content/generated_Gquad_vqvae.fasta'\n",
        "result = count_regular_and_extended_patterns(fasta_file_path)\n",
        "print_table(result)"
      ],
      "metadata": {
        "colab": {
          "base_uri": "https://localhost:8080/"
        },
        "id": "-RagIHAhweBD",
        "outputId": "648680ac-08e4-4619-823e-52ba761bbf83"
      },
      "execution_count": null,
      "outputs": [
        {
          "output_type": "stream",
          "name": "stdout",
          "text": [
            "+------------------+------------+\n",
            "|     Pattern      | Percentage |\n",
            "+------------------+------------+\n",
            "| Regular Pattern  |   37.65%   |\n",
            "| Extended Pattern |   62.35%   |\n",
            "+------------------+------------+\n"
          ]
        }
      ]
    },
    {
      "cell_type": "code",
      "source": [
        "fasta_file_path = '/content/G4_Chip_seq_quadruplex_norm_to_500.fa'\n",
        "result = count_regular_and_extended_patterns(fasta_file_path)\n",
        "print_table(result)"
      ],
      "metadata": {
        "colab": {
          "base_uri": "https://localhost:8080/"
        },
        "id": "byW58E-_yUb7",
        "outputId": "59be10ee-3647-4aa3-c963-f5ef9ec892b7"
      },
      "execution_count": null,
      "outputs": [
        {
          "output_type": "stream",
          "name": "stdout",
          "text": [
            "+------------------+------------+\n",
            "|     Pattern      | Percentage |\n",
            "+------------------+------------+\n",
            "| Regular Pattern  |   36.62%   |\n",
            "| Extended Pattern |   63.38%   |\n",
            "+------------------+------------+\n"
          ]
        }
      ]
    },
    {
      "cell_type": "code",
      "source": [
        "fasta_file_path = '/content/diff_generated_G4.fasta'\n",
        "result = count_regular_and_extended_patterns(fasta_file_path)\n",
        "print_table(result)"
      ],
      "metadata": {
        "colab": {
          "base_uri": "https://localhost:8080/"
        },
        "id": "HWksU8yryUeD",
        "outputId": "67aa1457-344e-4732-a5e6-12e6d615bca7"
      },
      "execution_count": null,
      "outputs": [
        {
          "output_type": "stream",
          "name": "stdout",
          "text": [
            "+------------------+------------+\n",
            "|     Pattern      | Percentage |\n",
            "+------------------+------------+\n",
            "| Regular Pattern  |   37.20%   |\n",
            "| Extended Pattern |   62.80%   |\n",
            "+------------------+------------+\n"
          ]
        }
      ]
    },
    {
      "cell_type": "code",
      "source": [
        "fasta_file_path = '/content/generated_wgan_G4.fasta'\n",
        "result = count_regular_and_extended_patterns(fasta_file_path)\n",
        "print_table(result)"
      ],
      "metadata": {
        "colab": {
          "base_uri": "https://localhost:8080/"
        },
        "id": "xyaqnGm1WZet",
        "outputId": "9aeb3df1-d93b-4e5d-d27e-6583efb74214"
      },
      "execution_count": null,
      "outputs": [
        {
          "output_type": "stream",
          "name": "stdout",
          "text": [
            "+------------------+------------+\n",
            "|     Pattern      | Percentage |\n",
            "+------------------+------------+\n",
            "| Regular Pattern  |   33.03%   |\n",
            "| Extended Pattern |   66.97%   |\n",
            "+------------------+------------+\n"
          ]
        }
      ]
    },
    {
      "cell_type": "code",
      "source": [
        "!pip install Bio"
      ],
      "metadata": {
        "colab": {
          "base_uri": "https://localhost:8080/"
        },
        "id": "7dPzJ95YxSxi",
        "outputId": "5b98e10a-95c1-4a63-960d-14123c5d99ab"
      },
      "execution_count": null,
      "outputs": [
        {
          "output_type": "stream",
          "name": "stdout",
          "text": [
            "Collecting Bio\n",
            "  Downloading bio-1.6.2-py3-none-any.whl (278 kB)\n",
            "\u001b[2K     \u001b[90m━━━━━━━━━━━━━━━━━━━━━━━━━━━━━━━━━━━━━━━━\u001b[0m \u001b[32m278.6/278.6 kB\u001b[0m \u001b[31m5.6 MB/s\u001b[0m eta \u001b[36m0:00:00\u001b[0m\n",
            "\u001b[?25hCollecting biopython>=1.80 (from Bio)\n",
            "  Downloading biopython-1.83-cp310-cp310-manylinux_2_17_x86_64.manylinux2014_x86_64.whl (3.1 MB)\n",
            "\u001b[2K     \u001b[90m━━━━━━━━━━━━━━━━━━━━━━━━━━━━━━━━━━━━━━━━\u001b[0m \u001b[32m3.1/3.1 MB\u001b[0m \u001b[31m49.6 MB/s\u001b[0m eta \u001b[36m0:00:00\u001b[0m\n",
            "\u001b[?25hRequirement already satisfied: requests in /usr/local/lib/python3.10/dist-packages (from Bio) (2.31.0)\n",
            "Requirement already satisfied: tqdm in /usr/local/lib/python3.10/dist-packages (from Bio) (4.66.1)\n",
            "Collecting mygene (from Bio)\n",
            "  Downloading mygene-3.2.2-py2.py3-none-any.whl (5.4 kB)\n",
            "Requirement already satisfied: pandas in /usr/local/lib/python3.10/dist-packages (from Bio) (1.5.3)\n",
            "Requirement already satisfied: pooch in /usr/local/lib/python3.10/dist-packages (from Bio) (1.8.0)\n",
            "Collecting gprofiler-official (from Bio)\n",
            "  Downloading gprofiler_official-1.0.0-py3-none-any.whl (9.3 kB)\n",
            "Requirement already satisfied: numpy in /usr/local/lib/python3.10/dist-packages (from biopython>=1.80->Bio) (1.23.5)\n",
            "Collecting biothings-client>=0.2.6 (from mygene->Bio)\n",
            "  Downloading biothings_client-0.3.1-py2.py3-none-any.whl (29 kB)\n",
            "Requirement already satisfied: python-dateutil>=2.8.1 in /usr/local/lib/python3.10/dist-packages (from pandas->Bio) (2.8.2)\n",
            "Requirement already satisfied: pytz>=2020.1 in /usr/local/lib/python3.10/dist-packages (from pandas->Bio) (2023.4)\n",
            "Requirement already satisfied: platformdirs>=2.5.0 in /usr/local/lib/python3.10/dist-packages (from pooch->Bio) (4.2.0)\n",
            "Requirement already satisfied: packaging>=20.0 in /usr/local/lib/python3.10/dist-packages (from pooch->Bio) (23.2)\n",
            "Requirement already satisfied: charset-normalizer<4,>=2 in /usr/local/lib/python3.10/dist-packages (from requests->Bio) (3.3.2)\n",
            "Requirement already satisfied: idna<4,>=2.5 in /usr/local/lib/python3.10/dist-packages (from requests->Bio) (3.6)\n",
            "Requirement already satisfied: urllib3<3,>=1.21.1 in /usr/local/lib/python3.10/dist-packages (from requests->Bio) (2.0.7)\n",
            "Requirement already satisfied: certifi>=2017.4.17 in /usr/local/lib/python3.10/dist-packages (from requests->Bio) (2023.11.17)\n",
            "Requirement already satisfied: six>=1.5 in /usr/local/lib/python3.10/dist-packages (from python-dateutil>=2.8.1->pandas->Bio) (1.16.0)\n",
            "Installing collected packages: biopython, gprofiler-official, biothings-client, mygene, Bio\n",
            "Successfully installed Bio-1.6.2 biopython-1.83 biothings-client-0.3.1 gprofiler-official-1.0.0 mygene-3.2.2\n"
          ]
        }
      ]
    },
    {
      "cell_type": "code",
      "source": [
        "import pandas as pd"
      ],
      "metadata": {
        "id": "4Ho1xwUs5pcq"
      },
      "execution_count": null,
      "outputs": []
    },
    {
      "cell_type": "code",
      "source": [
        "raw_dataset = pd.read_csv(\"/content/drive/My Drive/Zdna.csv\")"
      ],
      "metadata": {
        "id": "ChWC0epn5o6_"
      },
      "execution_count": null,
      "outputs": []
    },
    {
      "cell_type": "code",
      "source": [
        "from Bio import SeqIO\n",
        "import matplotlib.pyplot as plt\n",
        "import pandas as pd\n",
        "\n",
        "def calculate_nucleotide_freq(sequence):\n",
        "    nucleotide_counts = {'A': 0, 'C': 0, 'G': 0, 'T': 0}\n",
        "    total_nucleotides = len(sequence)\n",
        "\n",
        "    for nucleotide in sequence:\n",
        "        if nucleotide != 'N':\n",
        "            nucleotide_counts[nucleotide] += 1\n",
        "\n",
        "    nucleotide_freq = {key: count / (total_nucleotides - sequence.count('N')) for key, count in nucleotide_counts.items()}\n",
        "    return nucleotide_freq\n",
        "\n",
        "def plot_nucleotide_freq(ax, title, nucleotide_freq):\n",
        "    df = pd.DataFrame(nucleotide_freq.values(), index=nucleotide_freq.keys(), columns=['Frequency'])\n",
        "    df.plot(kind='bar', ax=ax, legend=False)\n",
        "    ax.set_title(title)\n",
        "    ax.set_xlabel('Nucleotides')\n",
        "    ax.set_ylabel('Frequency')\n",
        "\n",
        "real_fasta_path = '/content/drive/My Drive/data_for_gans/preprocessed_fastas/WuKou2016_filter-norm_to_512.fasta'\n",
        "real_nucleotide_freq = {'A': 0, 'C': 0, 'G': 0, 'T': 0}\n",
        "\n",
        "for record in SeqIO.parse(real_fasta_path, 'fasta'):\n",
        "    sequence = str(record.seq).upper()\n",
        "    nucleotide_freq = calculate_nucleotide_freq(sequence)\n",
        "\n",
        "    for nucleotide, freq in nucleotide_freq.items():\n",
        "        real_nucleotide_freq[nucleotide] += freq\n",
        "\n",
        "synthetic_datasets_paths = ['/content/diff_generated_sequences_fulldata.fasta',\n",
        "                            '/content/generated_sequences_vqvae_fulldata.fasta',\n",
        "                            '/content/wgan_generated_sequences_fulldata.fasta']\n",
        "synthetic_nucleotide_freqs = []\n",
        "\n",
        "for synthetic_fasta_path in synthetic_datasets_paths:\n",
        "    synthetic_nucleotide_freq = {'A': 0, 'C': 0, 'G': 0, 'T': 0}\n",
        "\n",
        "    for record in SeqIO.parse(synthetic_fasta_path, 'fasta'):\n",
        "        sequence = str(record.seq).upper()\n",
        "        nucleotide_freq = calculate_nucleotide_freq(sequence)\n",
        "\n",
        "        for nucleotide, freq in nucleotide_freq.items():\n",
        "            synthetic_nucleotide_freq[nucleotide] += freq\n",
        "\n",
        "    synthetic_nucleotide_freqs.append(synthetic_nucleotide_freq)\n",
        "\n",
        "real_total = sum(real_nucleotide_freq.values())\n",
        "real_nucleotide_freq = {key: value / real_total for key, value in real_nucleotide_freq.items()}\n",
        "\n",
        "synthetic_normalized_freqs = []\n",
        "for synthetic_nucleotide_freq in synthetic_nucleotide_freqs:\n",
        "    synthetic_total = sum(synthetic_nucleotide_freq.values())\n",
        "    synthetic_normalized_freq = {key: value / synthetic_total for key, value in synthetic_nucleotide_freq.items()}\n",
        "    synthetic_normalized_freqs.append(synthetic_normalized_freq)\n",
        "\n",
        "fig, axes = plt.subplots(nrows=1, ncols=4, figsize=(15, 4))\n",
        "\n",
        "plot_nucleotide_freq(axes[0], 'Real Dataset', real_nucleotide_freq)\n",
        "\n",
        "for i, (synthetic_freq, synthetic_fasta_path) in enumerate(zip(synthetic_normalized_freqs, synthetic_datasets_paths), start=1):\n",
        "    plot_nucleotide_freq(axes[i], f'Synthetic {i}', synthetic_freq)\n",
        "\n",
        "plt.tight_layout()\n",
        "plt.show()"
      ],
      "metadata": {
        "colab": {
          "base_uri": "https://localhost:8080/",
          "height": 308
        },
        "id": "R_ssKZ_OzcQE",
        "outputId": "de97b7d1-8199-44cd-c639-576bc9ffea18"
      },
      "execution_count": null,
      "outputs": [
        {
          "output_type": "display_data",
          "data": {
            "text/plain": [
              "<Figure size 1500x400 with 4 Axes>"
            ],
            "image/png": "[encoded data removed]"
          },
          "metadata": {}
        }
      ]
    },
    {
      "cell_type": "code",
      "source": [],
      "metadata": {
        "id": "ooAs7TUr5zY5"
      },
      "execution_count": null,
      "outputs": []
    },
    {
      "cell_type": "markdown",
      "source": [
        "# Curax"
      ],
      "metadata": {
        "id": "cwTEhEA9d2op"
      }
    },
    {
      "cell_type": "code",
      "source": [
        "import matplotlib.pyplot as plt\n",
        "import seaborn as sns\n",
        "import pandas as pd\n",
        "from scipy.spatial import KDTree\n",
        "import editdistance\n",
        "import re\n",
        "from tabulate import tabulate"
      ],
      "metadata": {
        "id": "-OKjay1wd355"
      },
      "execution_count": null,
      "outputs": []
    },
    {
      "cell_type": "code",
      "source": [
        "from Bio import SeqIO\n",
        "\n",
        "def read_fasta(file_path):\n",
        "    sequences = []\n",
        "    for record in SeqIO.parse(file_path, \"fasta\"):\n",
        "        sequences.append(str(record.seq))\n",
        "    return sequences\n",
        "\n",
        "fasta_diff_path = \"/content/curax_diff.fasta\"\n",
        "fasta_vae_path = \"/content/curax_vqvae.fasta\"\n",
        "fasta_gan_path = \"/content/curax_wgan.fasta\"\n",
        "real = \"/content/curax_filter-norm_to_500.fasta\"\n",
        "\n",
        "target_length = 100\n",
        "sequences_fasta_diff = read_fasta(fasta_diff_path)\n",
        "sequences_fasta_vae = read_fasta(fasta_vae_path)\n",
        "sequences_fasta_gan = read_fasta(fasta_gan_path)\n",
        "sequences_real = read_fasta(fasta_gan_path)"
      ],
      "metadata": {
        "id": "j4xeTUkPuCSN"
      },
      "execution_count": null,
      "outputs": []
    },
    {
      "cell_type": "code",
      "source": [
        "diversity_diff = calculate_diversity(sequences_fasta_diff, target_length)\n",
        "diversity_vae = calculate_diversity(sequences_fasta_vae, target_length)\n",
        "diversity_gan = calculate_diversity(sequences_fasta_gan, target_length)"
      ],
      "metadata": {
        "id": "-E6Zqwp3ucd5"
      },
      "execution_count": null,
      "outputs": []
    },
    {
      "cell_type": "code",
      "source": [
        "calculate_diversity(sequences_real, target_length)"
      ],
      "metadata": {
        "colab": {
          "base_uri": "https://localhost:8080/"
        },
        "id": "CxoiU69xzHKK",
        "outputId": "096f9d9b-c6d1-4bb5-890d-b0b2adb60fd7"
      },
      "execution_count": null,
      "outputs": [
        {
          "output_type": "execute_result",
          "data": {
            "text/plain": [
              "72.2403758964636"
            ]
          },
          "metadata": {},
          "execution_count": 23
        }
      ]
    },
    {
      "cell_type": "code",
      "source": [
        "print(diversity_diff)\n",
        "print(diversity_vae)\n",
        "print(diversity_gan)"
      ],
      "metadata": {
        "colab": {
          "base_uri": "https://localhost:8080/"
        },
        "id": "1--YDtDCucgs",
        "outputId": "d09b8770-5135-4bff-9a0d-bb8934ee6df6"
      },
      "execution_count": null,
      "outputs": [
        {
          "output_type": "stream",
          "name": "stdout",
          "text": [
            "71.71727946127946\n",
            "73.096767561058\n",
            "72.2403758964636\n"
          ]
        }
      ]
    },
    {
      "cell_type": "code",
      "source": [
        "novelty_diff = calculate_novelty(sequences_fasta_diff, sequences_real, target_length)\n",
        "novelty_vae = calculate_novelty(sequences_fasta_vae, sequences_real, target_length)\n",
        "novelty_gan = calculate_novelty(sequences_fasta_gan, sequences_real, target_length)"
      ],
      "metadata": {
        "id": "8toSATKWuvCR"
      },
      "execution_count": null,
      "outputs": []
    },
    {
      "cell_type": "code",
      "source": [
        "print(novelty_diff)\n",
        "print(novelty_vae)\n",
        "print(novelty_gan)"
      ],
      "metadata": {
        "colab": {
          "base_uri": "https://localhost:8080/"
        },
        "id": "lqHUAaQqu-Yo",
        "outputId": "9fd341e1-4829-430d-872a-3c9726e13179"
      },
      "execution_count": null,
      "outputs": [
        {
          "output_type": "stream",
          "name": "stdout",
          "text": [
            "11.952247944676262\n",
            "12.204599220644637\n",
            "11.267886570316492\n"
          ]
        }
      ]
    },
    {
      "cell_type": "code",
      "source": [
        "def count_repeats(fasta_file):\n",
        "    repeat_patterns = [\n",
        "        r'(CG)+',\n",
        "        r'(CACG)+',\n",
        "        r'(CGGG)+',\n",
        "        r'(CGTG)+',\n",
        "        r'(CCCG)+',\n",
        "        r'(CACGA)+',\n",
        "        r'(CCGCG)+',\n",
        "        r'(CGCGG)+',\n",
        "        r'(CGAG)+',\n",
        "        r'(GCGTG)+',\n",
        "        r'(CAGCG)+',\n",
        "        r'(CCTCG)+',\n",
        "        r'(CATG)+',\n",
        "        r'(CA)+',\n",
        "        r'(CCCCCG)+',\n",
        "        r'(CGGGGG)+',\n",
        "        r'(CTCG)+',\n",
        "        r'(CGGGG)+',\n",
        "        r'(CCCCG)+',\n",
        "    ]\n",
        "\n",
        "    pattern_counts = {pattern: 0 for pattern in repeat_patterns}\n",
        "\n",
        "    with open(fasta_file, 'r') as file:\n",
        "        sequence = ''\n",
        "        for line in file:\n",
        "            if line.startswith('>'):\n",
        "                for pattern in repeat_patterns:\n",
        "                    pattern_counts[pattern] += len(re.findall(pattern, sequence))\n",
        "                sequence = ''\n",
        "            else:\n",
        "                sequence += line.strip()\n",
        "\n",
        "        for pattern in repeat_patterns:\n",
        "            pattern_counts[pattern] += len(re.findall(pattern, sequence))\n",
        "\n",
        "    return pattern_counts\n",
        "\n",
        "def print_table(results):\n",
        "    table_data = [(pattern, count) for pattern, count in results.items()]\n",
        "    headers = [\"Repeat Pattern\", \"Count\"]\n",
        "    print(tabulate(table_data, headers=headers, tablefmt=\"pretty\"))\n"
      ],
      "metadata": {
        "id": "9pIm8S1SvQGg"
      },
      "execution_count": null,
      "outputs": []
    },
    {
      "cell_type": "code",
      "source": [
        "fasta_file_path = '/content/curax_diff.fasta'\n",
        "result = count_repeats(fasta_file_path)\n",
        "print_table(result)"
      ],
      "metadata": {
        "colab": {
          "base_uri": "https://localhost:8080/"
        },
        "id": "ujEXK3DkvWKk",
        "outputId": "eb655a7d-eb16-44a0-8992-cc22389e9ef7"
      },
      "execution_count": null,
      "outputs": [
        {
          "output_type": "stream",
          "name": "stdout",
          "text": [
            "+----------------+-------+\n",
            "| Repeat Pattern | Count |\n",
            "+----------------+-------+\n",
            "|     (CG)+      | 9843  |\n",
            "|    (CACG)+     |  551  |\n",
            "|    (CGGG)+     | 1828  |\n",
            "|    (CGTG)+     |  768  |\n",
            "|    (CCCG)+     | 1211  |\n",
            "|    (CACGA)+    |  73   |\n",
            "|    (CCGCG)+    |  492  |\n",
            "|    (CGCGG)+    |  583  |\n",
            "|    (CGAG)+     |  613  |\n",
            "|    (GCGTG)+    |  381  |\n",
            "|    (CAGCG)+    |  254  |\n",
            "|    (CCTCG)+    |  180  |\n",
            "|    (CATG)+     |  499  |\n",
            "|     (CA)+      | 8709  |\n",
            "|   (CCCCCG)+    |  154  |\n",
            "|   (CGGGGG)+    |  292  |\n",
            "|    (CTCG)+     |  525  |\n",
            "|    (CGGGG)+    |  776  |\n",
            "|    (CCCCG)+    |  444  |\n",
            "+----------------+-------+\n"
          ]
        }
      ]
    },
    {
      "cell_type": "code",
      "source": [
        "fasta_file_path = '/content/curax_vqvae.fasta'\n",
        "result = count_repeats(fasta_file_path)\n",
        "print_table(result)"
      ],
      "metadata": {
        "colab": {
          "base_uri": "https://localhost:8080/"
        },
        "id": "-bt9G5iEvZWp",
        "outputId": "cd3c4e43-1b13-4365-9405-96c48ea92b22"
      },
      "execution_count": null,
      "outputs": [
        {
          "output_type": "stream",
          "name": "stdout",
          "text": [
            "+----------------+-------+\n",
            "| Repeat Pattern | Count |\n",
            "+----------------+-------+\n",
            "|     (CG)+      | 2073  |\n",
            "|    (CACG)+     |  189  |\n",
            "|    (CGGG)+     |  292  |\n",
            "|    (CGTG)+     |  465  |\n",
            "|    (CCCG)+     |  196  |\n",
            "|    (CACGA)+    |  21   |\n",
            "|    (CCGCG)+    |  36   |\n",
            "|    (CGCGG)+    |  17   |\n",
            "|    (CGAG)+     |  178  |\n",
            "|    (GCGTG)+    |  135  |\n",
            "|    (CAGCG)+    |  29   |\n",
            "|    (CCTCG)+    |  48   |\n",
            "|    (CATG)+     |  526  |\n",
            "|     (CA)+      | 8858  |\n",
            "|   (CCCCCG)+    |  11   |\n",
            "|   (CGGGGG)+    |  21   |\n",
            "|    (CTCG)+     |  130  |\n",
            "|    (CGGGG)+    |  90   |\n",
            "|    (CCCCG)+    |  43   |\n",
            "+----------------+-------+\n"
          ]
        }
      ]
    },
    {
      "cell_type": "code",
      "source": [
        "fasta_file_path = '/content/curax_wgan.fasta'\n",
        "result = count_repeats(fasta_file_path)\n",
        "print_table(result)"
      ],
      "metadata": {
        "colab": {
          "base_uri": "https://localhost:8080/"
        },
        "id": "E5ewcnJ0vZZl",
        "outputId": "7e2e32dc-7d05-472d-9e82-0ea3f94129d0"
      },
      "execution_count": null,
      "outputs": [
        {
          "output_type": "stream",
          "name": "stdout",
          "text": [
            "+----------------+-------+\n",
            "| Repeat Pattern | Count |\n",
            "+----------------+-------+\n",
            "|     (CG)+      | 9483  |\n",
            "|    (CACG)+     |  560  |\n",
            "|    (CGGG)+     | 1422  |\n",
            "|    (CGTG)+     |  457  |\n",
            "|    (CCCG)+     | 1479  |\n",
            "|    (CACGA)+    |  71   |\n",
            "|    (CCGCG)+    |  428  |\n",
            "|    (CGCGG)+    |  483  |\n",
            "|    (CGAG)+     |  691  |\n",
            "|    (GCGTG)+    |  160  |\n",
            "|    (CAGCG)+    |  312  |\n",
            "|    (CCTCG)+    |  263  |\n",
            "|    (CATG)+     |  481  |\n",
            "|     (CA)+      | 8690  |\n",
            "|   (CCCCCG)+    |  169  |\n",
            "|   (CGGGGG)+    |  217  |\n",
            "|    (CTCG)+     |  701  |\n",
            "|    (CGGGG)+    |  582  |\n",
            "|    (CCCCG)+    |  515  |\n",
            "+----------------+-------+\n"
          ]
        }
      ]
    },
    {
      "cell_type": "code",
      "source": [
        "from Bio import SeqIO\n",
        "import matplotlib.pyplot as plt\n",
        "import pandas as pd\n",
        "\n",
        "def calculate_nucleotide_freq(sequence):\n",
        "    nucleotide_counts = {'A': 0, 'C': 0, 'G': 0, 'T': 0}\n",
        "    total_nucleotides = len(sequence)\n",
        "\n",
        "    for nucleotide in sequence:\n",
        "        if nucleotide != 'N':\n",
        "            nucleotide_counts[nucleotide] += 1\n",
        "\n",
        "    nucleotide_freq = {key: count / (total_nucleotides) for key, count in nucleotide_counts.items()}\n",
        "    return nucleotide_freq\n",
        "\n",
        "def plot_nucleotide_freq(ax, title, nucleotide_freq):\n",
        "    df = pd.DataFrame(nucleotide_freq.values(), index=nucleotide_freq.keys(), columns=['Frequency'])\n",
        "    df.plot(kind='bar', ax=ax, legend=False)\n",
        "    ax.set_title(title)\n",
        "    ax.set_xlabel('Nucleotides')\n",
        "    ax.set_ylabel('Frequency')\n",
        "\n",
        "real_fasta_path = '/content/curax_filter-norm_to_500.fasta'\n",
        "real_nucleotide_freq = {'A': 0, 'C': 0, 'G': 0, 'T': 0}\n",
        "\n",
        "for record in SeqIO.parse(real_fasta_path, 'fasta'):\n",
        "    sequence = str(record.seq).upper()\n",
        "    nucleotide_freq = calculate_nucleotide_freq(sequence)\n",
        "\n",
        "    for nucleotide, freq in nucleotide_freq.items():\n",
        "        real_nucleotide_freq[nucleotide] += freq\n",
        "\n",
        "synthetic_datasets_paths = ['/content/curax_diff.fasta',\n",
        "                            '/content/curax_vqvae.fasta',\n",
        "                            '/content/curax_wgan.fasta']\n",
        "synthetic_nucleotide_freqs = []\n",
        "\n",
        "for synthetic_fasta_path in synthetic_datasets_paths:\n",
        "    synthetic_nucleotide_freq = {'A': 0, 'C': 0, 'G': 0, 'T': 0}\n",
        "\n",
        "    for record in SeqIO.parse(synthetic_fasta_path, 'fasta'):\n",
        "        sequence = str(record.seq).upper()\n",
        "        nucleotide_freq = calculate_nucleotide_freq(sequence)\n",
        "\n",
        "        for nucleotide, freq in nucleotide_freq.items():\n",
        "            synthetic_nucleotide_freq[nucleotide] += freq\n",
        "\n",
        "    synthetic_nucleotide_freqs.append(synthetic_nucleotide_freq)\n",
        "\n",
        "real_total = sum(real_nucleotide_freq.values())\n",
        "real_nucleotide_freq = {key: value / real_total for key, value in real_nucleotide_freq.items()}\n",
        "\n",
        "synthetic_normalized_freqs = []\n",
        "for synthetic_nucleotide_freq in synthetic_nucleotide_freqs:\n",
        "    synthetic_total = sum(synthetic_nucleotide_freq.values())\n",
        "    synthetic_normalized_freq = {key: value / synthetic_total for key, value in synthetic_nucleotide_freq.items()}\n",
        "    synthetic_normalized_freqs.append(synthetic_normalized_freq)\n",
        "\n",
        "fig, axes = plt.subplots(nrows=1, ncols=4, figsize=(15, 4))\n",
        "\n",
        "plot_nucleotide_freq(axes[0], 'Real Dataset', real_nucleotide_freq)\n",
        "\n",
        "for i, (synthetic_freq, synthetic_fasta_path) in enumerate(zip(synthetic_normalized_freqs, synthetic_datasets_paths), start=1):\n",
        "    plot_nucleotide_freq(axes[i], f'Synthetic {i}', synthetic_freq)\n",
        "\n",
        "plt.tight_layout()\n",
        "plt.show()"
      ],
      "metadata": {
        "colab": {
          "base_uri": "https://localhost:8080/",
          "height": 308
        },
        "id": "wu6bWznmvhZ8",
        "outputId": "95be45e6-f9b9-4eb9-d384-1afb7f8ca4fb"
      },
      "execution_count": null,
      "outputs": [
        {
          "output_type": "display_data",
          "data": {
            "text/plain": [
              "<Figure size 1500x400 with 4 Axes>"
            ],
            "image/png": "[encoded data removed]"
          },
          "metadata": {}
        }
      ]
    },
    {
      "cell_type": "markdown",
      "source": [
        "# H-DNA\n"
      ],
      "metadata": {
        "id": "M5mzZx-yzNHJ"
      }
    },
    {
      "cell_type": "code",
      "source": [
        "from Bio import SeqIO\n",
        "\n",
        "def read_fasta(file_path):\n",
        "    sequences = []\n",
        "    for record in SeqIO.parse(file_path, \"fasta\"):\n",
        "        sequences.append(str(record.seq))\n",
        "    return sequences"
      ],
      "metadata": {
        "id": "9GRsDKuq0rWU"
      },
      "execution_count": null,
      "outputs": []
    },
    {
      "cell_type": "code",
      "source": [
        "# fasta_diff_path = \"/content/diff_generated_G4.fasta\"\n",
        "fasta_vae_path = \"/content/HDNA_vqvae.fasta\"\n",
        "fasta_gan_path = \"/content/HDNA_wgan.fasta\"\n",
        "\n",
        "target_length = 100\n",
        "# sequences_fasta_diff = read_fasta(fasta_diff_path)\n",
        "sequences_fasta_vae = read_fasta(fasta_vae_path)\n",
        "sequences_fasta_gan = read_fasta(fasta_gan_path)"
      ],
      "metadata": {
        "id": "8edfdNoDzORd",
        "colab": {
          "base_uri": "https://localhost:8080/",
          "height": 373
        },
        "outputId": "af49e152-5e93-47bc-9130-e5e4dcabb937"
      },
      "execution_count": null,
      "outputs": [
        {
          "output_type": "error",
          "ename": "FileNotFoundError",
          "evalue": "[Errno 2] No such file or directory: '/content/HDNA_vqvae.fasta'",
          "traceback": [
            "\u001b[0;31m---------------------------------------------------------------------------\u001b[0m",
            "\u001b[0;31mFileNotFoundError\u001b[0m                         Traceback (most recent call last)",
            "\u001b[0;32m<ipython-input-13-717bb91b7217>\u001b[0m in \u001b[0;36m<cell line: 7>\u001b[0;34m()\u001b[0m\n\u001b[1;32m      5\u001b[0m \u001b[0mtarget_length\u001b[0m \u001b[0;34m=\u001b[0m \u001b[0;36m100\u001b[0m\u001b[0;34m\u001b[0m\u001b[0;34m\u001b[0m\u001b[0m\n\u001b[1;32m      6\u001b[0m \u001b[0;31m# sequences_fasta_diff = read_fasta(fasta_diff_path)\u001b[0m\u001b[0;34m\u001b[0m\u001b[0;34m\u001b[0m\u001b[0m\n\u001b[0;32m----> 7\u001b[0;31m \u001b[0msequences_fasta_vae\u001b[0m \u001b[0;34m=\u001b[0m \u001b[0mread_fasta\u001b[0m\u001b[0;34m(\u001b[0m\u001b[0mfasta_vae_path\u001b[0m\u001b[0;34m)\u001b[0m\u001b[0;34m\u001b[0m\u001b[0;34m\u001b[0m\u001b[0m\n\u001b[0m\u001b[1;32m      8\u001b[0m \u001b[0msequences_fasta_gan\u001b[0m \u001b[0;34m=\u001b[0m \u001b[0mread_fasta\u001b[0m\u001b[0;34m(\u001b[0m\u001b[0mfasta_gan_path\u001b[0m\u001b[0;34m)\u001b[0m\u001b[0;34m\u001b[0m\u001b[0;34m\u001b[0m\u001b[0m\n",
            "\u001b[0;32m<ipython-input-12-d87863f669f9>\u001b[0m in \u001b[0;36mread_fasta\u001b[0;34m(file_path)\u001b[0m\n\u001b[1;32m      3\u001b[0m \u001b[0;32mdef\u001b[0m \u001b[0mread_fasta\u001b[0m\u001b[0;34m(\u001b[0m\u001b[0mfile_path\u001b[0m\u001b[0;34m)\u001b[0m\u001b[0;34m:\u001b[0m\u001b[0;34m\u001b[0m\u001b[0;34m\u001b[0m\u001b[0m\n\u001b[1;32m      4\u001b[0m     \u001b[0msequences\u001b[0m \u001b[0;34m=\u001b[0m \u001b[0;34m[\u001b[0m\u001b[0;34m]\u001b[0m\u001b[0;34m\u001b[0m\u001b[0;34m\u001b[0m\u001b[0m\n\u001b[0;32m----> 5\u001b[0;31m     \u001b[0;32mfor\u001b[0m \u001b[0mrecord\u001b[0m \u001b[0;32min\u001b[0m \u001b[0mSeqIO\u001b[0m\u001b[0;34m.\u001b[0m\u001b[0mparse\u001b[0m\u001b[0;34m(\u001b[0m\u001b[0mfile_path\u001b[0m\u001b[0;34m,\u001b[0m \u001b[0;34m\"fasta\"\u001b[0m\u001b[0;34m)\u001b[0m\u001b[0;34m:\u001b[0m\u001b[0;34m\u001b[0m\u001b[0;34m\u001b[0m\u001b[0m\n\u001b[0m\u001b[1;32m      6\u001b[0m         \u001b[0msequences\u001b[0m\u001b[0;34m.\u001b[0m\u001b[0mappend\u001b[0m\u001b[0;34m(\u001b[0m\u001b[0mstr\u001b[0m\u001b[0;34m(\u001b[0m\u001b[0mrecord\u001b[0m\u001b[0;34m.\u001b[0m\u001b[0mseq\u001b[0m\u001b[0;34m)\u001b[0m\u001b[0;34m)\u001b[0m\u001b[0;34m\u001b[0m\u001b[0;34m\u001b[0m\u001b[0m\n\u001b[1;32m      7\u001b[0m     \u001b[0;32mreturn\u001b[0m \u001b[0msequences\u001b[0m\u001b[0;34m\u001b[0m\u001b[0;34m\u001b[0m\u001b[0m\n",
            "\u001b[0;32m/usr/local/lib/python3.10/dist-packages/Bio/SeqIO/__init__.py\u001b[0m in \u001b[0;36mparse\u001b[0;34m(handle, format, alphabet)\u001b[0m\n\u001b[1;32m    611\u001b[0m     \u001b[0miterator_generator\u001b[0m \u001b[0;34m=\u001b[0m \u001b[0m_FormatToIterator\u001b[0m\u001b[0;34m.\u001b[0m\u001b[0mget\u001b[0m\u001b[0;34m(\u001b[0m\u001b[0mformat\u001b[0m\u001b[0;34m)\u001b[0m\u001b[0;34m\u001b[0m\u001b[0;34m\u001b[0m\u001b[0m\n\u001b[1;32m    612\u001b[0m     \u001b[0;32mif\u001b[0m \u001b[0miterator_generator\u001b[0m\u001b[0;34m:\u001b[0m\u001b[0;34m\u001b[0m\u001b[0;34m\u001b[0m\u001b[0m\n\u001b[0;32m--> 613\u001b[0;31m         \u001b[0;32mreturn\u001b[0m \u001b[0miterator_generator\u001b[0m\u001b[0;34m(\u001b[0m\u001b[0mhandle\u001b[0m\u001b[0;34m)\u001b[0m\u001b[0;34m\u001b[0m\u001b[0;34m\u001b[0m\u001b[0m\n\u001b[0m\u001b[1;32m    614\u001b[0m     \u001b[0;32mif\u001b[0m \u001b[0mformat\u001b[0m \u001b[0;32min\u001b[0m \u001b[0mAlignIO\u001b[0m\u001b[0;34m.\u001b[0m\u001b[0m_FormatToIterator\u001b[0m\u001b[0;34m:\u001b[0m\u001b[0;34m\u001b[0m\u001b[0;34m\u001b[0m\u001b[0m\n\u001b[1;32m    615\u001b[0m         \u001b[0;31m# Use Bio.AlignIO to read in the alignments\u001b[0m\u001b[0;34m\u001b[0m\u001b[0;34m\u001b[0m\u001b[0m\n",
            "\u001b[0;32m/usr/local/lib/python3.10/dist-packages/Bio/SeqIO/FastaIO.py\u001b[0m in \u001b[0;36m__init__\u001b[0;34m(self, source, alphabet)\u001b[0m\n\u001b[1;32m    188\u001b[0m         \u001b[0;32mif\u001b[0m \u001b[0malphabet\u001b[0m \u001b[0;32mis\u001b[0m \u001b[0;32mnot\u001b[0m \u001b[0;32mNone\u001b[0m\u001b[0;34m:\u001b[0m\u001b[0;34m\u001b[0m\u001b[0;34m\u001b[0m\u001b[0m\n\u001b[1;32m    189\u001b[0m             \u001b[0;32mraise\u001b[0m \u001b[0mValueError\u001b[0m\u001b[0;34m(\u001b[0m\u001b[0;34m\"The alphabet argument is no longer supported\"\u001b[0m\u001b[0;34m)\u001b[0m\u001b[0;34m\u001b[0m\u001b[0;34m\u001b[0m\u001b[0m\n\u001b[0;32m--> 190\u001b[0;31m         \u001b[0msuper\u001b[0m\u001b[0;34m(\u001b[0m\u001b[0;34m)\u001b[0m\u001b[0;34m.\u001b[0m\u001b[0m__init__\u001b[0m\u001b[0;34m(\u001b[0m\u001b[0msource\u001b[0m\u001b[0;34m,\u001b[0m \u001b[0mmode\u001b[0m\u001b[0;34m=\u001b[0m\u001b[0;34m\"t\"\u001b[0m\u001b[0;34m,\u001b[0m \u001b[0mfmt\u001b[0m\u001b[0;34m=\u001b[0m\u001b[0;34m\"Fasta\"\u001b[0m\u001b[0;34m)\u001b[0m\u001b[0;34m\u001b[0m\u001b[0;34m\u001b[0m\u001b[0m\n\u001b[0m\u001b[1;32m    191\u001b[0m \u001b[0;34m\u001b[0m\u001b[0m\n\u001b[1;32m    192\u001b[0m     \u001b[0;32mdef\u001b[0m \u001b[0mparse\u001b[0m\u001b[0;34m(\u001b[0m\u001b[0mself\u001b[0m\u001b[0;34m,\u001b[0m \u001b[0mhandle\u001b[0m\u001b[0;34m)\u001b[0m\u001b[0;34m:\u001b[0m\u001b[0;34m\u001b[0m\u001b[0;34m\u001b[0m\u001b[0m\n",
            "\u001b[0;32m/usr/local/lib/python3.10/dist-packages/Bio/SeqIO/Interfaces.py\u001b[0m in \u001b[0;36m__init__\u001b[0;34m(self, source, alphabet, mode, fmt)\u001b[0m\n\u001b[1;32m     56\u001b[0m             \u001b[0;32mraise\u001b[0m \u001b[0mValueError\u001b[0m\u001b[0;34m(\u001b[0m\u001b[0;34m\"The alphabet argument is no longer supported\"\u001b[0m\u001b[0;34m)\u001b[0m\u001b[0;34m\u001b[0m\u001b[0;34m\u001b[0m\u001b[0m\n\u001b[1;32m     57\u001b[0m         \u001b[0;32mif\u001b[0m \u001b[0misinstance\u001b[0m\u001b[0;34m(\u001b[0m\u001b[0msource\u001b[0m\u001b[0;34m,\u001b[0m \u001b[0m_PathLikeTypes\u001b[0m\u001b[0;34m)\u001b[0m\u001b[0;34m:\u001b[0m\u001b[0;34m\u001b[0m\u001b[0;34m\u001b[0m\u001b[0m\n\u001b[0;32m---> 58\u001b[0;31m             \u001b[0mself\u001b[0m\u001b[0;34m.\u001b[0m\u001b[0mstream\u001b[0m \u001b[0;34m=\u001b[0m \u001b[0mopen\u001b[0m\u001b[0;34m(\u001b[0m\u001b[0msource\u001b[0m\u001b[0;34m,\u001b[0m \u001b[0;34m\"r\"\u001b[0m \u001b[0;34m+\u001b[0m \u001b[0mmode\u001b[0m\u001b[0;34m)\u001b[0m\u001b[0;34m\u001b[0m\u001b[0;34m\u001b[0m\u001b[0m\n\u001b[0m\u001b[1;32m     59\u001b[0m             \u001b[0mself\u001b[0m\u001b[0;34m.\u001b[0m\u001b[0mshould_close_stream\u001b[0m \u001b[0;34m=\u001b[0m \u001b[0;32mTrue\u001b[0m\u001b[0;34m\u001b[0m\u001b[0;34m\u001b[0m\u001b[0m\n\u001b[1;32m     60\u001b[0m         \u001b[0;32melse\u001b[0m\u001b[0;34m:\u001b[0m\u001b[0;34m\u001b[0m\u001b[0;34m\u001b[0m\u001b[0m\n",
            "\u001b[0;31mFileNotFoundError\u001b[0m: [Errno 2] No such file or directory: '/content/HDNA_vqvae.fasta'"
          ]
        }
      ]
    },
    {
      "cell_type": "code",
      "source": [
        "diversity_vae = calculate_diversity(sequences_fasta_vae, target_length)\n",
        "diversity_gan = calculate_diversity(sequences_fasta_gan, target_length)"
      ],
      "metadata": {
        "id": "lgR-YgbC1uh0"
      },
      "execution_count": null,
      "outputs": []
    },
    {
      "cell_type": "code",
      "source": [
        "print(diversity_vae)\n",
        "print(diversity_gan)"
      ],
      "metadata": {
        "colab": {
          "base_uri": "https://localhost:8080/"
        },
        "id": "35RfYUY5-7zI",
        "outputId": "3c842096-d496-4388-d38c-05bfe22d7367"
      },
      "execution_count": null,
      "outputs": [
        {
          "output_type": "stream",
          "name": "stdout",
          "text": [
            "69.29813101425302\n",
            "72.20337145743146\n"
          ]
        }
      ]
    },
    {
      "cell_type": "code",
      "source": [
        "fasta_vae_path = \"/content/New_full_vqvae.fasta\"\n",
        "fasta_gan_path = \"/content/New_Full_wgan.fasta\"\n",
        "fasta_diff_path = \"/content/drive/My Drive/data_for_gans/HDNA_diff.fasta\"\n",
        "target_length = 100\n",
        "\n",
        "sequences_fasta_diff = read_fasta(fasta_diff_path)\n",
        "sequences_fasta_vae = read_fasta(fasta_vae_path)\n",
        "sequences_fasta_gan = read_fasta(fasta_gan_path)"
      ],
      "metadata": {
        "id": "f9j6FwhYRqAF"
      },
      "execution_count": null,
      "outputs": []
    },
    {
      "cell_type": "code",
      "source": [
        "diversity_vae = calculate_diversity(sequences_fasta_vae, target_length)\n",
        "diversity_gan = calculate_diversity(sequences_fasta_gan, target_length)"
      ],
      "metadata": {
        "id": "tQOuF4mqRxMw"
      },
      "execution_count": null,
      "outputs": []
    },
    {
      "cell_type": "code",
      "source": [
        "print(diversity_vae)\n",
        "print(diversity_gan)"
      ],
      "metadata": {
        "colab": {
          "base_uri": "https://localhost:8080/"
        },
        "id": "OHkBk9kyRzMx",
        "outputId": "50b2df6a-0218-476b-c668-8c74e18a6a88"
      },
      "execution_count": null,
      "outputs": [
        {
          "output_type": "stream",
          "name": "stdout",
          "text": [
            "69.99264233350415\n",
            "72.20366594706964\n"
          ]
        }
      ]
    },
    {
      "cell_type": "code",
      "source": [
        "sequences_fasta_diff = read_fasta(fasta_diff_path)"
      ],
      "metadata": {
        "id": "nrVJ3LziUASQ"
      },
      "execution_count": null,
      "outputs": []
    },
    {
      "cell_type": "code",
      "source": [
        "diversity_diff = calculate_diversity(sequences_fasta_diff, target_length)\n",
        "print(diversity_diff)"
      ],
      "metadata": {
        "colab": {
          "base_uri": "https://localhost:8080/"
        },
        "id": "61LjlB05TqDP",
        "outputId": "855f4529-e4d1-41ed-a00e-a45aae540b57"
      },
      "execution_count": null,
      "outputs": [
        {
          "output_type": "stream",
          "name": "stdout",
          "text": [
            "76.30756016690331\n"
          ]
        }
      ]
    },
    {
      "cell_type": "code",
      "source": [
        "real = \"/content/drive/My Drive/data_for_gans/HDNA_filter-norm_to_500.fasta\""
      ],
      "metadata": {
        "id": "HLlMqzKau2bl"
      },
      "execution_count": null,
      "outputs": []
    },
    {
      "cell_type": "code",
      "source": [
        "novelty_vae = calculate_novelty(sequences_fasta_vae, real, target_length)\n",
        "novelty_gan = calculate_novelty(sequences_fasta_gan, real, target_length)"
      ],
      "metadata": {
        "id": "V-w_OcqcuWsV"
      },
      "execution_count": null,
      "outputs": []
    },
    {
      "cell_type": "code",
      "source": [
        "print(novelty_vae)\n",
        "print(novelty_gan)"
      ],
      "metadata": {
        "colab": {
          "base_uri": "https://localhost:8080/"
        },
        "id": "WoPFpRVfu8Oc",
        "outputId": "e53d2131-db47-464f-f526-ff2c04fa7bca"
      },
      "execution_count": null,
      "outputs": [
        {
          "output_type": "stream",
          "name": "stdout",
          "text": [
            "9.988110114937308\n",
            "9.990559320560676\n"
          ]
        }
      ]
    },
    {
      "cell_type": "code",
      "source": [
        "novelty_diff = calculate_novelty(sequences_fasta_diff, real, target_length)"
      ],
      "metadata": {
        "id": "ENfdJgXQjZFb"
      },
      "execution_count": null,
      "outputs": []
    },
    {
      "cell_type": "code",
      "source": [
        "print(novelty_diff)"
      ],
      "metadata": {
        "id": "p6xZhqgaEkhK",
        "colab": {
          "base_uri": "https://localhost:8080/"
        },
        "outputId": "c17afc82-7adb-416c-a5fc-a3f4f949cc12"
      },
      "execution_count": null,
      "outputs": [
        {
          "output_type": "stream",
          "name": "stdout",
          "text": [
            "9.987453226517694\n"
          ]
        }
      ]
    },
    {
      "cell_type": "code",
      "source": [
        "fasta_vae_Q = \"/content/mmQ_vqvae.fasta\"\n",
        "fasta_vae_H = \"/content/mmH_vqvae.fasta\"\n",
        "fasta_real_Q = \"/content/mmQuad_filter-norm_to_500.fasta\"\n",
        "fasta_real_H = \"/content/mmHDNA_filter-norm_to_500.fasta\"\n",
        "target_length = 100\n",
        "\n",
        "sequences_fasta_1 = read_fasta(fasta_vae_Q)\n",
        "sequences_fasta_2 = read_fasta(fasta_vae_H)\n",
        "sequences_fasta_3 = read_fasta(fasta_real_Q)\n",
        "sequences_fasta_4 = read_fasta(fasta_real_H)"
      ],
      "metadata": {
        "id": "uWGQpNuxEkuF"
      },
      "execution_count": null,
      "outputs": []
    },
    {
      "cell_type": "code",
      "source": [
        "diversity_h = calculate_diversity(sequences_fasta_1, target_length)\n",
        "diversity_q = calculate_diversity(sequences_fasta_2, target_length)"
      ],
      "metadata": {
        "id": "4RKw2dEysAIE"
      },
      "execution_count": null,
      "outputs": []
    },
    {
      "cell_type": "code",
      "source": [
        "print(diversity_h)\n",
        "print(diversity_q)"
      ],
      "metadata": {
        "colab": {
          "base_uri": "https://localhost:8080/"
        },
        "id": "9Z8_fiCKxKtp",
        "outputId": "3db56604-4a01-4f3a-eca4-4605ad54df16"
      },
      "execution_count": null,
      "outputs": [
        {
          "output_type": "stream",
          "name": "stdout",
          "text": [
            "73.01038322822517\n",
            "73.00939879548679\n"
          ]
        }
      ]
    },
    {
      "cell_type": "code",
      "source": [
        "diversity_real_h = calculate_diversity(sequences_fasta_3, target_length)\n",
        "diversity_real_q = calculate_diversity(sequences_fasta_4, target_length)"
      ],
      "metadata": {
        "id": "GB4dIm4pxB4l"
      },
      "execution_count": null,
      "outputs": []
    },
    {
      "cell_type": "code",
      "source": [
        "print(diversity_real_h)\n",
        "print(diversity_real_q)"
      ],
      "metadata": {
        "colab": {
          "base_uri": "https://localhost:8080/"
        },
        "id": "TSECKqCxxGNR",
        "outputId": "d8afeea3-1be8-4f40-a635-c434d4443dec"
      },
      "execution_count": null,
      "outputs": [
        {
          "output_type": "stream",
          "name": "stdout",
          "text": [
            "64.2409303252624\n",
            "64.37023728310655\n"
          ]
        }
      ]
    },
    {
      "cell_type": "code",
      "source": [
        "novelty_vae = calculate_novelty(sequences_fasta_1, sequences_fasta_3, target_length)\n",
        "novelty_gan = calculate_novelty(sequences_fasta_2, sequences_fasta_4, target_length)"
      ],
      "metadata": {
        "id": "JBu8SfQRU0U9"
      },
      "execution_count": null,
      "outputs": []
    },
    {
      "cell_type": "code",
      "source": [
        "print(novelty_vae)\n",
        "print(novelty_gan)"
      ],
      "metadata": {
        "id": "NTUDAtMaU4WZ",
        "colab": {
          "base_uri": "https://localhost:8080/"
        },
        "outputId": "04cf1a98-9ae6-407d-ffc2-301a6fcae62b"
      },
      "execution_count": null,
      "outputs": [
        {
          "output_type": "stream",
          "name": "stdout",
          "text": [
            "9.78366677202356\n",
            "9.799845859525457\n"
          ]
        }
      ]
    },
    {
      "cell_type": "markdown",
      "source": [
        "T"
      ],
      "metadata": {
        "id": "QKX5jqD9ys_a"
      }
    },
    {
      "cell_type": "code",
      "source": [
        "fasta_1 = \"/content/diff_generated_sequences_1.fasta\"\n",
        "fasta_2 = \"/content/diff_generated_sequences_10.fasta\"\n",
        "fasta_3 = \"/content/diff_generated_sequences_1000.fasta\"\n",
        "target_length = 100\n",
        "\n",
        "sequences_fasta_1 = read_fasta(fasta_1)\n",
        "sequences_fasta_2 = read_fasta(fasta_2)\n",
        "sequences_fasta_3 = read_fasta(fasta_3)"
      ],
      "metadata": {
        "id": "qfgTCV01ytxu"
      },
      "execution_count": null,
      "outputs": []
    },
    {
      "cell_type": "code",
      "source": [
        "diversity_1 = calculate_diversity(sequences_fasta_1, target_length)\n",
        "diversity_2 = calculate_diversity(sequences_fasta_2, target_length)\n",
        "diversity_3 = calculate_diversity(sequences_fasta_3, target_length)"
      ],
      "metadata": {
        "id": "2iiNRRYvy9lS"
      },
      "execution_count": null,
      "outputs": []
    },
    {
      "cell_type": "code",
      "source": [
        "print(diversity_1)\n",
        "print(diversity_2)\n",
        "print(diversity_3)"
      ],
      "metadata": {
        "colab": {
          "base_uri": "https://localhost:8080/"
        },
        "id": "Zhs_fX8gzEQN",
        "outputId": "9da386a9-728c-4b97-b033-ec4d8a8acec0"
      },
      "execution_count": null,
      "outputs": [
        {
          "output_type": "stream",
          "name": "stdout",
          "text": [
            "76.27424236682205\n",
            "75.74334457624336\n",
            "71.8377888101464\n"
          ]
        }
      ]
    },
    {
      "cell_type": "code",
      "source": [
        "real = read_fasta(\"/content/mmHDNA_filter-norm_to_500.fasta\")"
      ],
      "metadata": {
        "id": "hTkEWkCh15_X"
      },
      "execution_count": null,
      "outputs": []
    },
    {
      "cell_type": "code",
      "source": [
        "novelty_1 = calculate_novelty(sequences_fasta_1, real, target_length)\n",
        "novelty_2 = calculate_novelty(sequences_fasta_2, real, target_length)\n",
        "novelty_3 = calculate_novelty(sequences_fasta_3, real, target_length)"
      ],
      "metadata": {
        "id": "2wda-JUd1o9k"
      },
      "execution_count": null,
      "outputs": []
    },
    {
      "cell_type": "code",
      "source": [
        "print(novelty_1)\n",
        "print(novelty_2)\n",
        "print(novelty_3)"
      ],
      "metadata": {
        "colab": {
          "base_uri": "https://localhost:8080/"
        },
        "id": "x_9_h7jA1zai",
        "outputId": "6059ddfc-3ccb-4c3e-e05c-64131b53faf2"
      },
      "execution_count": null,
      "outputs": [
        {
          "output_type": "stream",
          "name": "stdout",
          "text": [
            "11.331149824199569\n",
            "11.32749729360619\n",
            "9.046285021966478\n"
          ]
        }
      ]
    },
    {
      "cell_type": "code",
      "source": [],
      "metadata": {
        "colab": {
          "base_uri": "https://localhost:8080/",
          "height": 564
        },
        "id": "BcKd47KxFlfR",
        "outputId": "92682e45-8ecb-49fe-a65d-08d517acb3b9"
      },
      "execution_count": null,
      "outputs": [
        {
          "output_type": "display_data",
          "data": {
            "text/plain": [
              "<Figure size 1000x600 with 1 Axes>"
            ],
            "image/png": "[encoded data removed]"
          },
          "metadata": {}
        }
      ]
    },
    {
      "cell_type": "code",
      "source": [
        "fasta_4 = \"/content/diff_generated_sequences_x2.fasta\""
      ],
      "metadata": {
        "id": "wRiSi8sAGGO-"
      },
      "execution_count": null,
      "outputs": []
    },
    {
      "cell_type": "code",
      "source": [
        "sequences_fasta_4 = read_fasta(fasta_4)"
      ],
      "metadata": {
        "id": "Gm1Wc1pttxDt"
      },
      "execution_count": null,
      "outputs": []
    },
    {
      "cell_type": "code",
      "source": [
        "diversity_4 = calculate_diversity(sequences_fasta_4, target_length=100)"
      ],
      "metadata": {
        "id": "zicXycK1t4mJ"
      },
      "execution_count": null,
      "outputs": []
    },
    {
      "cell_type": "code",
      "source": [
        "diversity_4"
      ],
      "metadata": {
        "colab": {
          "base_uri": "https://localhost:8080/"
        },
        "id": "NN8Xvzjmt8Ks",
        "outputId": "7d63cf4f-9b31-4b83-851a-8b5ee2b937ae"
      },
      "execution_count": null,
      "outputs": [
        {
          "output_type": "execute_result",
          "data": {
            "text/plain": [
              "76.31526888240421"
            ]
          },
          "metadata": {},
          "execution_count": 14
        }
      ]
    },
    {
      "cell_type": "code",
      "source": [
        "real = read_fasta(\"/content/diff_generated_sequences_1.fasta\")"
      ],
      "metadata": {
        "id": "FUmIKU31uQwu"
      },
      "execution_count": null,
      "outputs": []
    },
    {
      "cell_type": "code",
      "source": [
        "calculate_novelty(sequences_fasta_4, real, target_length=100)"
      ],
      "metadata": {
        "colab": {
          "base_uri": "https://localhost:8080/"
        },
        "id": "eDHVWiaauWds",
        "outputId": "46727016-da43-4d28-9070-f5687f2c379e"
      },
      "execution_count": null,
      "outputs": [
        {
          "output_type": "execute_result",
          "data": {
            "text/plain": [
              "12.089991620953096"
            ]
          },
          "metadata": {},
          "execution_count": 17
        }
      ]
    },
    {
      "cell_type": "code",
      "source": [],
      "metadata": {
        "id": "0_pk3_t_uhHb"
      },
      "execution_count": null,
      "outputs": []
    },
    {
      "cell_type": "markdown",
      "source": [
        "# mmQH"
      ],
      "metadata": {
        "id": "rYliAMDP-tw0"
      }
    },
    {
      "cell_type": "code",
      "source": [
        "real_q = \"/content/mmHDNA_filter-norm_to_500.fasta\"\n",
        "real_h  = \"/content/mmQuad_filter-norm_to_500.fasta\"\n",
        "target_length = 100\n",
        "\n",
        "vae_h = \"/content/mmH_vqvae.fasta\"\n",
        "vae_q = \"/content/mmQ_vqvae.fasta\"\n",
        "vae_f = \"/content/mmH+Q_vqvae.fasta\"\n",
        "gan_h = \"/content/mm_HDNA_wgan.fasta\"\n",
        "gan_q = \"/content/mm_Quad_wgan.fasta\"\n",
        "gan_f = \"/content/mm_Quad+H_wgan.fasta\"\n",
        "diff_f  = \"/content/diff_generated_sequences_mmH+Q.fasta\"\n"
      ],
      "metadata": {
        "id": "OrgvVtQT-v2A"
      },
      "execution_count": null,
      "outputs": []
    },
    {
      "cell_type": "code",
      "source": [
        "sequences_fasta_1 = read_fasta(real_q)\n",
        "sequences_fasta_2 = read_fasta(vae_h)\n",
        "sequences_fasta_3 = read_fasta(vae_q)\n",
        "sequences_fasta_4 = read_fasta(vae_f)\n",
        "sequences_fasta_5 = read_fasta(gan_h)\n",
        "sequences_fasta_6 = read_fasta(gan_q)\n",
        "sequences_fasta_7 = read_fasta(gan_f)\n",
        "sequences_fasta_8 = read_fasta(diff_f)\n",
        "sequences_fasta_9 = read_fasta(real_h)"
      ],
      "metadata": {
        "id": "KBKdbq2GAbGE"
      },
      "execution_count": null,
      "outputs": []
    },
    {
      "cell_type": "code",
      "source": [
        "print(calculate_diversity(sequences_fasta_1, target_length=100))\n",
        "print(calculate_diversity(sequences_fasta_2, target_length=100))\n",
        "print(calculate_diversity(sequences_fasta_3, target_length=100))\n",
        "print(calculate_diversity(sequences_fasta_4, target_length=100))\n",
        "print(calculate_diversity(sequences_fasta_5, target_length=100))\n",
        "print(calculate_diversity(sequences_fasta_6, target_length=100))\n",
        "print(calculate_diversity(sequences_fasta_7, target_length=100))\n",
        "print(calculate_diversity(sequences_fasta_8, target_length=100))\n",
        "print(calculate_diversity(sequences_fasta_9, target_length=100))"
      ],
      "metadata": {
        "id": "81eFuLrFA-uI"
      },
      "execution_count": null,
      "outputs": []
    }
  ]
}